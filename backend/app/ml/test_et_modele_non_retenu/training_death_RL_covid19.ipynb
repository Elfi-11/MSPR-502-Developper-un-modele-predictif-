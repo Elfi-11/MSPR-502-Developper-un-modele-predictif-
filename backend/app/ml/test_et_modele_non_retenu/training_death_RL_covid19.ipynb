{
 "cells": [
  {
   "cell_type": "markdown",
   "id": "e4a61024",
   "metadata": {},
   "source": [
    "# 1. COLLECTED DATA\n",
    "Avaibility data quantity and quality control "
   ]
  },
  {
   "cell_type": "code",
   "execution_count": null,
   "id": "156b5135",
   "metadata": {},
   "outputs": [
    {
<<<<<<< HEAD:backend/app/ml/training_death_RF_covid19.ipynb
     "ename": "ModuleNotFoundError",
     "evalue": "No module named 'missingno'",
     "output_type": "error",
     "traceback": [
      "\u001b[31m---------------------------------------------------------------------------\u001b[39m",
      "\u001b[31mModuleNotFoundError\u001b[39m                       Traceback (most recent call last)",
      "\u001b[36mCell\u001b[39m\u001b[36m \u001b[39m\u001b[32mIn[1]\u001b[39m\u001b[32m, line 10\u001b[39m\n\u001b[32m      8\u001b[39m \u001b[38;5;28;01mimport\u001b[39;00m\u001b[38;5;250m \u001b[39m\u001b[34;01mnumpy\u001b[39;00m\u001b[38;5;250m \u001b[39m\u001b[38;5;28;01mas\u001b[39;00m\u001b[38;5;250m \u001b[39m\u001b[34;01mnp\u001b[39;00m\n\u001b[32m      9\u001b[39m \u001b[38;5;28;01mimport\u001b[39;00m\u001b[38;5;250m \u001b[39m\u001b[34;01mpandas\u001b[39;00m\u001b[38;5;250m \u001b[39m\u001b[38;5;28;01mas\u001b[39;00m\u001b[38;5;250m \u001b[39m\u001b[34;01mpd\u001b[39;00m\n\u001b[32m---> \u001b[39m\u001b[32m10\u001b[39m \u001b[38;5;28;01mimport\u001b[39;00m\u001b[38;5;250m \u001b[39m\u001b[34;01mmissingno\u001b[39;00m\u001b[38;5;250m \u001b[39m\u001b[38;5;28;01mas\u001b[39;00m\u001b[38;5;250m \u001b[39m\u001b[34;01mmsno\u001b[39;00m\n\u001b[32m     11\u001b[39m \u001b[38;5;28;01mimport\u001b[39;00m\u001b[38;5;250m \u001b[39m\u001b[34;01mos\u001b[39;00m\n\u001b[32m     13\u001b[39m \u001b[38;5;66;03m# Use os for make a root\u001b[39;00m\n",
      "\u001b[31mModuleNotFoundError\u001b[39m: No module named 'missingno'"
     ]
=======
     "data": {
      "application/vnd.microsoft.datawrangler.viewer.v0+json": {
       "columns": [
        {
         "name": "index",
         "rawType": "int64",
         "type": "integer"
        },
        {
         "name": "date",
         "rawType": "object",
         "type": "string"
        },
        {
         "name": "location",
         "rawType": "object",
         "type": "string"
        },
        {
         "name": "total_cases",
         "rawType": "float64",
         "type": "float"
        },
        {
         "name": "new_cases",
         "rawType": "float64",
         "type": "float"
        },
        {
         "name": "total_deaths",
         "rawType": "float64",
         "type": "float"
        },
        {
         "name": "new_deaths",
         "rawType": "float64",
         "type": "float"
        },
        {
         "name": "icu_patients",
         "rawType": "float64",
         "type": "float"
        },
        {
         "name": "hosp_patients",
         "rawType": "float64",
         "type": "float"
        },
        {
         "name": "total_vaccinations",
         "rawType": "float64",
         "type": "float"
        },
        {
         "name": "people_vaccinated",
         "rawType": "float64",
         "type": "float"
        }
       ],
       "ref": "0c3f1bd5-f992-48c6-aa80-854ad9f58c72",
       "rows": [
        [
         "0",
         "2020-01-05",
         "Afghanistan",
         "0.0",
         "0.0",
         "0.0",
         "0.0",
         null,
         null,
         null,
         null
        ],
        [
         "1",
         "2020-01-06",
         "Afghanistan",
         "0.0",
         "0.0",
         "0.0",
         "0.0",
         null,
         null,
         null,
         null
        ],
        [
         "2",
         "2020-01-07",
         "Afghanistan",
         "0.0",
         "0.0",
         "0.0",
         "0.0",
         null,
         null,
         null,
         null
        ],
        [
         "3",
         "2020-01-08",
         "Afghanistan",
         "0.0",
         "0.0",
         "0.0",
         "0.0",
         null,
         null,
         null,
         null
        ],
        [
         "4",
         "2020-01-09",
         "Afghanistan",
         "0.0",
         "0.0",
         "0.0",
         "0.0",
         null,
         null,
         null,
         null
        ],
        [
         "5",
         "2020-01-10",
         "Afghanistan",
         "0.0",
         "0.0",
         "0.0",
         "0.0",
         null,
         null,
         null,
         null
        ],
        [
         "6",
         "2020-01-11",
         "Afghanistan",
         "0.0",
         "0.0",
         "0.0",
         "0.0",
         null,
         null,
         null,
         null
        ],
        [
         "7",
         "2020-01-12",
         "Afghanistan",
         "0.0",
         "0.0",
         "0.0",
         "0.0",
         null,
         null,
         null,
         null
        ],
        [
         "8",
         "2020-01-13",
         "Afghanistan",
         "0.0",
         "0.0",
         "0.0",
         "0.0",
         null,
         null,
         null,
         null
        ],
        [
         "9",
         "2020-01-14",
         "Afghanistan",
         "0.0",
         "0.0",
         "0.0",
         "0.0",
         null,
         null,
         null,
         null
        ]
       ],
       "shape": {
        "columns": 10,
        "rows": 10
       }
      },
      "text/html": [
       "<div>\n",
       "<style scoped>\n",
       "    .dataframe tbody tr th:only-of-type {\n",
       "        vertical-align: middle;\n",
       "    }\n",
       "\n",
       "    .dataframe tbody tr th {\n",
       "        vertical-align: top;\n",
       "    }\n",
       "\n",
       "    .dataframe thead th {\n",
       "        text-align: right;\n",
       "    }\n",
       "</style>\n",
       "<table border=\"1\" class=\"dataframe\">\n",
       "  <thead>\n",
       "    <tr style=\"text-align: right;\">\n",
       "      <th></th>\n",
       "      <th>date</th>\n",
       "      <th>location</th>\n",
       "      <th>total_cases</th>\n",
       "      <th>new_cases</th>\n",
       "      <th>total_deaths</th>\n",
       "      <th>new_deaths</th>\n",
       "      <th>icu_patients</th>\n",
       "      <th>hosp_patients</th>\n",
       "      <th>total_vaccinations</th>\n",
       "      <th>people_vaccinated</th>\n",
       "    </tr>\n",
       "  </thead>\n",
       "  <tbody>\n",
       "    <tr>\n",
       "      <th>0</th>\n",
       "      <td>2020-01-05</td>\n",
       "      <td>Afghanistan</td>\n",
       "      <td>0.0</td>\n",
       "      <td>0.0</td>\n",
       "      <td>0.0</td>\n",
       "      <td>0.0</td>\n",
       "      <td>NaN</td>\n",
       "      <td>NaN</td>\n",
       "      <td>NaN</td>\n",
       "      <td>NaN</td>\n",
       "    </tr>\n",
       "    <tr>\n",
       "      <th>1</th>\n",
       "      <td>2020-01-06</td>\n",
       "      <td>Afghanistan</td>\n",
       "      <td>0.0</td>\n",
       "      <td>0.0</td>\n",
       "      <td>0.0</td>\n",
       "      <td>0.0</td>\n",
       "      <td>NaN</td>\n",
       "      <td>NaN</td>\n",
       "      <td>NaN</td>\n",
       "      <td>NaN</td>\n",
       "    </tr>\n",
       "    <tr>\n",
       "      <th>2</th>\n",
       "      <td>2020-01-07</td>\n",
       "      <td>Afghanistan</td>\n",
       "      <td>0.0</td>\n",
       "      <td>0.0</td>\n",
       "      <td>0.0</td>\n",
       "      <td>0.0</td>\n",
       "      <td>NaN</td>\n",
       "      <td>NaN</td>\n",
       "      <td>NaN</td>\n",
       "      <td>NaN</td>\n",
       "    </tr>\n",
       "    <tr>\n",
       "      <th>3</th>\n",
       "      <td>2020-01-08</td>\n",
       "      <td>Afghanistan</td>\n",
       "      <td>0.0</td>\n",
       "      <td>0.0</td>\n",
       "      <td>0.0</td>\n",
       "      <td>0.0</td>\n",
       "      <td>NaN</td>\n",
       "      <td>NaN</td>\n",
       "      <td>NaN</td>\n",
       "      <td>NaN</td>\n",
       "    </tr>\n",
       "    <tr>\n",
       "      <th>4</th>\n",
       "      <td>2020-01-09</td>\n",
       "      <td>Afghanistan</td>\n",
       "      <td>0.0</td>\n",
       "      <td>0.0</td>\n",
       "      <td>0.0</td>\n",
       "      <td>0.0</td>\n",
       "      <td>NaN</td>\n",
       "      <td>NaN</td>\n",
       "      <td>NaN</td>\n",
       "      <td>NaN</td>\n",
       "    </tr>\n",
       "    <tr>\n",
       "      <th>5</th>\n",
       "      <td>2020-01-10</td>\n",
       "      <td>Afghanistan</td>\n",
       "      <td>0.0</td>\n",
       "      <td>0.0</td>\n",
       "      <td>0.0</td>\n",
       "      <td>0.0</td>\n",
       "      <td>NaN</td>\n",
       "      <td>NaN</td>\n",
       "      <td>NaN</td>\n",
       "      <td>NaN</td>\n",
       "    </tr>\n",
       "    <tr>\n",
       "      <th>6</th>\n",
       "      <td>2020-01-11</td>\n",
       "      <td>Afghanistan</td>\n",
       "      <td>0.0</td>\n",
       "      <td>0.0</td>\n",
       "      <td>0.0</td>\n",
       "      <td>0.0</td>\n",
       "      <td>NaN</td>\n",
       "      <td>NaN</td>\n",
       "      <td>NaN</td>\n",
       "      <td>NaN</td>\n",
       "    </tr>\n",
       "    <tr>\n",
       "      <th>7</th>\n",
       "      <td>2020-01-12</td>\n",
       "      <td>Afghanistan</td>\n",
       "      <td>0.0</td>\n",
       "      <td>0.0</td>\n",
       "      <td>0.0</td>\n",
       "      <td>0.0</td>\n",
       "      <td>NaN</td>\n",
       "      <td>NaN</td>\n",
       "      <td>NaN</td>\n",
       "      <td>NaN</td>\n",
       "    </tr>\n",
       "    <tr>\n",
       "      <th>8</th>\n",
       "      <td>2020-01-13</td>\n",
       "      <td>Afghanistan</td>\n",
       "      <td>0.0</td>\n",
       "      <td>0.0</td>\n",
       "      <td>0.0</td>\n",
       "      <td>0.0</td>\n",
       "      <td>NaN</td>\n",
       "      <td>NaN</td>\n",
       "      <td>NaN</td>\n",
       "      <td>NaN</td>\n",
       "    </tr>\n",
       "    <tr>\n",
       "      <th>9</th>\n",
       "      <td>2020-01-14</td>\n",
       "      <td>Afghanistan</td>\n",
       "      <td>0.0</td>\n",
       "      <td>0.0</td>\n",
       "      <td>0.0</td>\n",
       "      <td>0.0</td>\n",
       "      <td>NaN</td>\n",
       "      <td>NaN</td>\n",
       "      <td>NaN</td>\n",
       "      <td>NaN</td>\n",
       "    </tr>\n",
       "  </tbody>\n",
       "</table>\n",
       "</div>"
      ],
      "text/plain": [
       "         date     location  total_cases  new_cases  total_deaths  new_deaths  \\\n",
       "0  2020-01-05  Afghanistan          0.0        0.0           0.0         0.0   \n",
       "1  2020-01-06  Afghanistan          0.0        0.0           0.0         0.0   \n",
       "2  2020-01-07  Afghanistan          0.0        0.0           0.0         0.0   \n",
       "3  2020-01-08  Afghanistan          0.0        0.0           0.0         0.0   \n",
       "4  2020-01-09  Afghanistan          0.0        0.0           0.0         0.0   \n",
       "5  2020-01-10  Afghanistan          0.0        0.0           0.0         0.0   \n",
       "6  2020-01-11  Afghanistan          0.0        0.0           0.0         0.0   \n",
       "7  2020-01-12  Afghanistan          0.0        0.0           0.0         0.0   \n",
       "8  2020-01-13  Afghanistan          0.0        0.0           0.0         0.0   \n",
       "9  2020-01-14  Afghanistan          0.0        0.0           0.0         0.0   \n",
       "\n",
       "   icu_patients  hosp_patients  total_vaccinations  people_vaccinated  \n",
       "0           NaN            NaN                 NaN                NaN  \n",
       "1           NaN            NaN                 NaN                NaN  \n",
       "2           NaN            NaN                 NaN                NaN  \n",
       "3           NaN            NaN                 NaN                NaN  \n",
       "4           NaN            NaN                 NaN                NaN  \n",
       "5           NaN            NaN                 NaN                NaN  \n",
       "6           NaN            NaN                 NaN                NaN  \n",
       "7           NaN            NaN                 NaN                NaN  \n",
       "8           NaN            NaN                 NaN                NaN  \n",
       "9           NaN            NaN                 NaN                NaN  "
      ]
     },
     "execution_count": 1,
     "metadata": {},
     "output_type": "execute_result"
>>>>>>> c525d9eba88627f9768b19546aaafbcd00568723:backend/app/ml/test_et_modele_non_retenu/training_death_RL_covid19.ipynb
    }
   ],
   "source": [
    "#Scikit-learn: a Python tool for data preprocessing, model training, and evaluation.\n",
    "from sklearn.preprocessing import LabelEncoder\n",
    "from sklearn.model_selection import train_test_split\n",
    "from sklearn.linear_model import LinearRegression\n",
    "from sklearn.metrics import mean_absolute_error, mean_squared_error, r2_score\n",
    "import numpy as np\n",
    "import pandas as pd\n",
    "import missingno as msno\n",
    "import os\n",
    "\n",
    "# Use os for make a root\n",
    "data_path = os.path.join(\"..\", \"..\", \"..\", \"..\", \"backend\", \"data\", \"covid_processed.csv\")\n",
    "data = pd.read_csv(data_path, sep=',')\n",
    "\n",
    "data.head(10)"
   ]
  },
  {
   "cell_type": "markdown",
   "id": "08492af6",
   "metadata": {},
   "source": []
  },
  {
   "cell_type": "code",
   "execution_count": 2,
   "id": "7b73f10c",
   "metadata": {},
   "outputs": [
    {
     "name": "stdout",
     "output_type": "stream",
     "text": [
      "<class 'pandas.core.frame.DataFrame'>\n",
      "RangeIndex: 429435 entries, 0 to 429434\n",
      "Data columns (total 10 columns):\n",
      " #   Column              Non-Null Count   Dtype  \n",
      "---  ------              --------------   -----  \n",
      " 0   date                429435 non-null  object \n",
      " 1   location            429435 non-null  object \n",
      " 2   total_cases         411804 non-null  float64\n",
      " 3   new_cases           410159 non-null  float64\n",
      " 4   total_deaths        411804 non-null  float64\n",
      " 5   new_deaths          410608 non-null  float64\n",
      " 6   icu_patients        39116 non-null   float64\n",
      " 7   hosp_patients       40656 non-null   float64\n",
      " 8   total_vaccinations  85417 non-null   float64\n",
      " 9   people_vaccinated   81132 non-null   float64\n",
      "dtypes: float64(8), object(2)\n",
      "memory usage: 32.8+ MB\n"
     ]
    }
   ],
   "source": [
    "# Informations about data type and length\n",
    "data.info()"
   ]
  },
  {
   "cell_type": "code",
   "execution_count": 3,
   "id": "e33570f4",
   "metadata": {},
   "outputs": [
    {
     "data": {
      "application/vnd.microsoft.datawrangler.viewer.v0+json": {
       "columns": [
        {
         "name": "index",
         "rawType": "object",
         "type": "string"
        },
        {
         "name": "0",
         "rawType": "int64",
         "type": "integer"
        }
       ],
       "ref": "a18bf5c7-f2a5-4e21-a227-339a0934a8b8",
       "rows": [
        [
         "date",
         "0"
        ],
        [
         "location",
         "0"
        ],
        [
         "total_cases",
         "17631"
        ],
        [
         "new_cases",
         "19276"
        ],
        [
         "total_deaths",
         "17631"
        ],
        [
         "new_deaths",
         "18827"
        ],
        [
         "icu_patients",
         "390319"
        ],
        [
         "hosp_patients",
         "388779"
        ],
        [
         "total_vaccinations",
         "344018"
        ],
        [
         "people_vaccinated",
         "348303"
        ]
       ],
       "shape": {
        "columns": 1,
        "rows": 10
       }
      },
      "text/plain": [
       "date                       0\n",
       "location                   0\n",
       "total_cases            17631\n",
       "new_cases              19276\n",
       "total_deaths           17631\n",
       "new_deaths             18827\n",
       "icu_patients          390319\n",
       "hosp_patients         388779\n",
       "total_vaccinations    344018\n",
       "people_vaccinated     348303\n",
       "dtype: int64"
      ]
     },
     "execution_count": 3,
     "metadata": {},
     "output_type": "execute_result"
    }
   ],
   "source": [
    "# Checking all the missing value in the data \n",
    "data.isnull().sum()"
   ]
  },
  {
   "cell_type": "code",
   "execution_count": 4,
   "id": "f603baaa",
   "metadata": {},
   "outputs": [
    {
     "data": {
      "text/plain": [
       "<Axes: >"
      ]
     },
     "execution_count": 4,
     "metadata": {},
     "output_type": "execute_result"
    },
    {
     "data": {
      "image/png": "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",
      "text/plain": [
       "<Figure size 2500x1000 with 3 Axes>"
      ]
     },
     "metadata": {},
     "output_type": "display_data"
    }
   ],
   "source": [
    "#comparatifvisualition on a diagram NaN values\n",
    "msno.bar(data) "
   ]
  },
  {
   "cell_type": "code",
   "execution_count": 5,
   "id": "b70e4646",
   "metadata": {},
   "outputs": [],
   "source": [
    "# Drop column not usable\n",
    "dataClean = data.drop(columns=['icu_patients', 'hosp_patients', 'total_vaccinations', 'people_vaccinated'])"
   ]
  },
  {
   "cell_type": "code",
   "execution_count": 6,
   "id": "3f6e7428",
   "metadata": {},
   "outputs": [
    {
     "data": {
      "application/vnd.microsoft.datawrangler.viewer.v0+json": {
       "columns": [
        {
         "name": "index",
         "rawType": "int64",
         "type": "integer"
        },
        {
         "name": "date",
         "rawType": "object",
         "type": "string"
        },
        {
         "name": "location",
         "rawType": "object",
         "type": "string"
        },
        {
         "name": "total_cases",
         "rawType": "float64",
         "type": "float"
        },
        {
         "name": "new_cases",
         "rawType": "float64",
         "type": "float"
        },
        {
         "name": "total_deaths",
         "rawType": "float64",
         "type": "float"
        },
        {
         "name": "new_deaths",
         "rawType": "float64",
         "type": "float"
        }
       ],
       "ref": "99260441-4204-4e60-b7e7-bf4f70fc6502",
       "rows": [
        [
         "0",
         "2020-01-05",
         "Afghanistan",
         "0.0",
         "0.0",
         "0.0",
         "0.0"
        ],
        [
         "1",
         "2020-01-06",
         "Afghanistan",
         "0.0",
         "0.0",
         "0.0",
         "0.0"
        ],
        [
         "2",
         "2020-01-07",
         "Afghanistan",
         "0.0",
         "0.0",
         "0.0",
         "0.0"
        ],
        [
         "3",
         "2020-01-08",
         "Afghanistan",
         "0.0",
         "0.0",
         "0.0",
         "0.0"
        ],
        [
         "4",
         "2020-01-09",
         "Afghanistan",
         "0.0",
         "0.0",
         "0.0",
         "0.0"
        ]
       ],
       "shape": {
        "columns": 6,
        "rows": 5
       }
      },
      "text/html": [
       "<div>\n",
       "<style scoped>\n",
       "    .dataframe tbody tr th:only-of-type {\n",
       "        vertical-align: middle;\n",
       "    }\n",
       "\n",
       "    .dataframe tbody tr th {\n",
       "        vertical-align: top;\n",
       "    }\n",
       "\n",
       "    .dataframe thead th {\n",
       "        text-align: right;\n",
       "    }\n",
       "</style>\n",
       "<table border=\"1\" class=\"dataframe\">\n",
       "  <thead>\n",
       "    <tr style=\"text-align: right;\">\n",
       "      <th></th>\n",
       "      <th>date</th>\n",
       "      <th>location</th>\n",
       "      <th>total_cases</th>\n",
       "      <th>new_cases</th>\n",
       "      <th>total_deaths</th>\n",
       "      <th>new_deaths</th>\n",
       "    </tr>\n",
       "  </thead>\n",
       "  <tbody>\n",
       "    <tr>\n",
       "      <th>0</th>\n",
       "      <td>2020-01-05</td>\n",
       "      <td>Afghanistan</td>\n",
       "      <td>0.0</td>\n",
       "      <td>0.0</td>\n",
       "      <td>0.0</td>\n",
       "      <td>0.0</td>\n",
       "    </tr>\n",
       "    <tr>\n",
       "      <th>1</th>\n",
       "      <td>2020-01-06</td>\n",
       "      <td>Afghanistan</td>\n",
       "      <td>0.0</td>\n",
       "      <td>0.0</td>\n",
       "      <td>0.0</td>\n",
       "      <td>0.0</td>\n",
       "    </tr>\n",
       "    <tr>\n",
       "      <th>2</th>\n",
       "      <td>2020-01-07</td>\n",
       "      <td>Afghanistan</td>\n",
       "      <td>0.0</td>\n",
       "      <td>0.0</td>\n",
       "      <td>0.0</td>\n",
       "      <td>0.0</td>\n",
       "    </tr>\n",
       "    <tr>\n",
       "      <th>3</th>\n",
       "      <td>2020-01-08</td>\n",
       "      <td>Afghanistan</td>\n",
       "      <td>0.0</td>\n",
       "      <td>0.0</td>\n",
       "      <td>0.0</td>\n",
       "      <td>0.0</td>\n",
       "    </tr>\n",
       "    <tr>\n",
       "      <th>4</th>\n",
       "      <td>2020-01-09</td>\n",
       "      <td>Afghanistan</td>\n",
       "      <td>0.0</td>\n",
       "      <td>0.0</td>\n",
       "      <td>0.0</td>\n",
       "      <td>0.0</td>\n",
       "    </tr>\n",
       "  </tbody>\n",
       "</table>\n",
       "</div>"
      ],
      "text/plain": [
       "         date     location  total_cases  new_cases  total_deaths  new_deaths\n",
       "0  2020-01-05  Afghanistan          0.0        0.0           0.0         0.0\n",
       "1  2020-01-06  Afghanistan          0.0        0.0           0.0         0.0\n",
       "2  2020-01-07  Afghanistan          0.0        0.0           0.0         0.0\n",
       "3  2020-01-08  Afghanistan          0.0        0.0           0.0         0.0\n",
       "4  2020-01-09  Afghanistan          0.0        0.0           0.0         0.0"
      ]
     },
     "execution_count": 6,
     "metadata": {},
     "output_type": "execute_result"
    }
   ],
   "source": [
    "dataClean.head()"
   ]
  },
  {
   "cell_type": "code",
   "execution_count": 7,
   "id": "f97dbd78",
   "metadata": {},
   "outputs": [
    {
     "data": {
      "text/plain": [
       "<Axes: >"
      ]
     },
     "execution_count": 7,
     "metadata": {},
     "output_type": "execute_result"
    },
    {
     "data": {
      "image/png": "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",
      "text/plain": [
       "<Figure size 2500x1000 with 3 Axes>"
      ]
     },
     "metadata": {},
     "output_type": "display_data"
    }
   ],
   "source": [
    "#comparatifvisualition on a diagram NaN values\n",
    "msno.bar(dataClean) "
   ]
  },
  {
   "cell_type": "code",
   "execution_count": 8,
   "id": "6560fea4",
   "metadata": {},
   "outputs": [
    {
     "data": {
      "application/vnd.microsoft.datawrangler.viewer.v0+json": {
       "columns": [
        {
         "name": "index",
         "rawType": "object",
         "type": "string"
        },
        {
         "name": "0",
         "rawType": "float64",
         "type": "float"
        }
       ],
       "ref": "5f036eac-5294-42e2-a7e4-b90bc6d7a81c",
       "rows": [
        [
         "new_cases",
         "4.488688625752442"
        ],
        [
         "new_deaths",
         "4.384132639398279"
        ],
        [
         "total_cases",
         "4.105627161270041"
        ],
        [
         "total_deaths",
         "4.105627161270041"
        ],
        [
         "location",
         "0.0"
        ],
        [
         "date",
         "0.0"
        ]
       ],
       "shape": {
        "columns": 1,
        "rows": 6
       }
      },
      "text/plain": [
       "new_cases       4.488689\n",
       "new_deaths      4.384133\n",
       "total_cases     4.105627\n",
       "total_deaths    4.105627\n",
       "location        0.000000\n",
       "date            0.000000\n",
       "dtype: float64"
      ]
     },
     "execution_count": 8,
     "metadata": {},
     "output_type": "execute_result"
    }
   ],
   "source": [
    "# percent of missingg or null values\n",
    "(dataClean.isnull().mean() * 100).sort_values(ascending=False)"
   ]
  },
  {
   "cell_type": "code",
   "execution_count": 9,
   "id": "8477dc83",
   "metadata": {},
   "outputs": [],
   "source": [
    "# Encodage\n",
    "dataClean[\"date\"] = pd.to_datetime(dataClean[\"date\"], errors='coerce')\n",
    "\n",
    "dataClean[\"location_encoded\"] = LabelEncoder().fit_transform(dataClean[\"location\"])\n",
    "dataClean[\"day\"] = dataClean[\"date\"].dt.day\n",
    "dataClean[\"month\"] = dataClean[\"date\"].dt.month\n",
    "dataClean[\"year\"] = dataClean[\"date\"].dt.year\n",
    "\n",
    "X = dataClean[[\"total_cases\", \"location_encoded\", \"day\", \"month\", \"year\", \"total_deaths\", \"new_cases\"]]\n",
    "y = dataClean[\"new_deaths\"]\n",
    "\n",
    "# Supprimer toutes les lignes où X ou y contient NaN\n",
    "Xy = pd.concat([X, y], axis=1)\n",
    "Xy = Xy.dropna()\n",
    "X = Xy[X.columns]\n",
    "y = Xy[y.name]"
   ]
  },
  {
   "cell_type": "code",
   "execution_count": null,
   "id": "996bbed0",
   "metadata": {},
   "outputs": [],
   "source": [
    "\n",
    "X_train, X_test, y_train, y_test = train_test_split(X, y, test_size=0.2, random_state=42)"
   ]
  },
  {
   "cell_type": "code",
   "execution_count": 11,
   "id": "2ca45839",
   "metadata": {},
   "outputs": [],
   "source": [
    "model = LinearRegression()\n",
    "model.fit(X_train, y_train)\n",
    "\n",
    "y_pred = model.predict(X_test)"
   ]
  },
  {
   "cell_type": "code",
   "execution_count": 12,
   "id": "cd31066a",
   "metadata": {},
   "outputs": [
    {
     "name": "stdout",
     "output_type": "stream",
     "text": [
      "Moyenne erreur pred et test : 121.61406656762236\n",
      "Coefficient de qualité : 0.20100302584776342\n"
     ]
    }
   ],
   "source": [
    "print(\"Moyenne erreur pred et test :\", mean_absolute_error(y_test, y_pred))\n",
    "print(\"Coefficient de qualité :\", r2_score(y_test, y_pred))"
   ]
  },
  {
   "cell_type": "code",
   "execution_count": 13,
   "id": "f5be97e3",
   "metadata": {},
   "outputs": [
    {
     "name": "stdout",
     "output_type": "stream",
     "text": [
      "Coefficients : [-1.24722557e-05 -1.63981394e-02  2.41211165e-02 -1.78668521e+00\n",
      " -2.51093890e+01  1.44548608e-03  3.13423222e-03]\n",
      "Intercept : 50800.74727478926\n"
     ]
    }
   ],
   "source": [
    "print(\"Coefficients :\", model.coef_)\n",
    "print(\"Intercept :\", model.intercept_)"
   ]
  },
  {
   "cell_type": "markdown",
   "id": "12911e7d",
   "metadata": {},
   "source": [
    "## Split par date une semaine"
   ]
  },
  {
   "cell_type": "code",
   "execution_count": null,
   "id": "d7f2f402",
   "metadata": {},
   "outputs": [
    {
     "name": "stdout",
     "output_type": "stream",
     "text": [
      "Moyenne erreur pred et test : 76.01834252499052\n",
      "Coefficient de qualité : 0.9819175434791706\n"
     ]
    }
   ],
   "source": [
    "# Filtrer sur une semaine\n",
    "data_short = dataClean[(dataClean[\"date\"] >= \"2021-01-01\") & (dataClean[\"date\"] <= \"2021-01-07\")]\n",
    "\n",
    "\n",
    "X = data_short[[\"total_cases\", \"location_encoded\", \"day\", \"month\", \"year\", \"total_deaths\", \"new_cases\"]]\n",
    "y = data_short[\"new_deaths\"]\n",
    "\n",
    "# Supprimer toutes les lignes où X ou y contient NaN\n",
    "Xy = pd.concat([X, y], axis=1)\n",
    "Xy = Xy.dropna()\n",
    "X = Xy[X.columns]\n",
    "y = Xy[y.name]\n",
    "\n",
    "X_train, X_test, y_train, y_test = train_test_split(X, y, test_size=0.2, random_state=42)\n",
    "y_train = y_train.loc[X_train.index]\n",
    "\n",
    "model = LinearRegression()\n",
    "model.fit(X_train, y_train)\n",
    "\n",
    "y_pred = model.predict(X_test)\n",
    "\n",
    "print(\"Moyenne erreur pred et test :\", mean_absolute_error(y_test, y_pred))\n",
    "print(\"Coefficient de qualité :\", r2_score(y_test, y_pred))\n",
    "\n"
   ]
  },
  {
   "cell_type": "code",
   "execution_count": 15,
   "id": "7a003118",
   "metadata": {},
   "outputs": [
    {
     "name": "stdout",
     "output_type": "stream",
     "text": [
      "Coefficients : [-1.19625034e-04 -2.84815039e-01 -2.45754937e-01 -1.88737914e-15\n",
      "  0.00000000e+00  5.24968703e-03  2.02482357e-02]\n",
      "Intercept : 39.71557525026506\n"
     ]
    }
   ],
   "source": [
    "print(\"Coefficients :\", model.coef_)\n",
    "print(\"Intercept :\", model.intercept_)"
   ]
  },
  {
   "cell_type": "markdown",
   "id": "d5653814",
   "metadata": {},
   "source": [
    "## Split par date deux semaines"
   ]
  },
  {
   "cell_type": "code",
   "execution_count": null,
   "id": "22e4d947",
   "metadata": {},
   "outputs": [
    {
     "name": "stdout",
     "output_type": "stream",
     "text": [
      "Moyenne erreur pred et test : 96.06031510494041\n",
      "Coefficient de qualité : 0.9830078493311686\n"
     ]
    }
   ],
   "source": [
    "# Filtrer sur une semaine\n",
    "data_short = dataClean[(dataClean[\"date\"] >= \"2021-01-01\") & (dataClean[\"date\"] <= \"2021-01-14\")]\n",
    "\n",
    "X = data_short[[\"total_cases\", \"location_encoded\", \"day\", \"month\", \"year\", \"total_deaths\", \"new_cases\"]]\n",
    "y = data_short[\"new_deaths\"]\n",
    "\n",
    "# Supprimer toutes les lignes où X ou y contient NaN\n",
    "Xy = pd.concat([X, y], axis=1)\n",
    "Xy = Xy.dropna()\n",
    "X = Xy[X.columns]\n",
    "y = Xy[y.name]\n",
    "\n",
    "X_train, X_test, y_train, y_test = train_test_split(X, y, test_size=0.2, random_state=42)\n",
    "y_train = y_train.loc[X_train.index]\n",
    "\n",
    "model = LinearRegression()\n",
    "model.fit(X_train, y_train)\n",
    "\n",
    "y_pred = model.predict(X_test)\n",
    "\n",
    "print(\"Moyenne erreur pred et test :\", mean_absolute_error(y_test, y_pred))\n",
    "print(\"Coefficient de qualité :\", r2_score(y_test, y_pred))\n",
    "\n"
   ]
  },
  {
   "cell_type": "code",
   "execution_count": 17,
   "id": "c3515b6a",
   "metadata": {},
   "outputs": [
    {
     "name": "stdout",
     "output_type": "stream",
     "text": [
      "Coefficients : [-1.07489255e-04 -1.37935274e-01 -3.57991318e+00  3.10862447e-15\n",
      "  0.00000000e+00  4.78300090e-03  1.88966447e-02]\n",
      "Intercept : 47.38225404269298\n"
     ]
    }
   ],
   "source": [
    "print(\"Coefficients :\", model.coef_)\n",
    "print(\"Intercept :\", model.intercept_)"
   ]
  },
  {
   "cell_type": "markdown",
   "id": "be0a8cc7",
   "metadata": {},
   "source": [
    "## Split par date un mois"
   ]
  },
  {
   "cell_type": "code",
   "execution_count": null,
   "id": "c75ccfcf",
   "metadata": {},
   "outputs": [
    {
     "name": "stdout",
     "output_type": "stream",
     "text": [
      "Moyenne erreur pred et test : 125.93970595569228\n",
      "Coefficient de qualité : 0.9724009816947528\n",
      "Coefficients : [-1.41649554e-04 -8.61314330e-02  3.32572763e+00 -2.74502643e-14\n",
      "  0.00000000e+00  6.45021825e-03  2.12767608e-02]\n",
      "Intercept : -42.61129618862651\n"
     ]
    }
   ],
   "source": [
    "# Filtrer sur une semaine\n",
    "data_short = dataClean[(dataClean[\"date\"] >= \"2021-01-01\") & (dataClean[\"date\"] <= \"2021-01-31\")]\n",
    "\n",
    "\n",
    "X = data_short[[\"total_cases\", \"location_encoded\", \"day\", \"month\", \"year\", \"total_deaths\", \"new_cases\"]]\n",
    "y = data_short[\"new_deaths\"]\n",
    "\n",
    "# Supprimer toutes les lignes où X ou y contient NaN\n",
    "Xy = pd.concat([X, y], axis=1)\n",
    "Xy = Xy.dropna()\n",
    "X = Xy[X.columns]\n",
    "y = Xy[y.name]\n",
    "\n",
    "X_train, X_test, y_train, y_test = train_test_split(X, y, test_size=0.2, random_state=42)\n",
    "y_train = y_train.loc[X_train.index]\n",
    "\n",
    "model = LinearRegression()\n",
    "model.fit(X_train, y_train)\n",
    "\n",
    "y_pred = model.predict(X_test)\n",
    "\n",
    "print(\"Moyenne erreur pred et test :\", mean_absolute_error(y_test, y_pred))\n",
    "print(\"Coefficient de qualité :\", r2_score(y_test, y_pred))\n",
    "\n",
    "print(\"Coefficients :\", model.coef_)\n",
    "print(\"Intercept :\", model.intercept_)"
   ]
  },
  {
   "cell_type": "code",
   "execution_count": 19,
   "id": "7fd27b52",
   "metadata": {},
   "outputs": [
    {
     "data": {
      "application/vnd.microsoft.datawrangler.viewer.v0+json": {
       "columns": [
        {
         "name": "location",
         "rawType": "object",
         "type": "string"
        },
        {
         "name": "count",
         "rawType": "int64",
         "type": "integer"
        }
       ],
       "ref": "64db1308-1c90-4817-a6bc-2ea147070550",
       "rows": [
        [
         "High-income countries",
         "3026"
        ],
        [
         "European Union (27)",
         "3024"
        ],
        [
         "Upper-middle-income countries",
         "3013"
        ],
        [
         "Lower-middle-income countries",
         "2983"
        ],
        [
         "Low-income countries",
         "2724"
        ],
        [
         "East Timor",
         "2688"
        ],
        [
         "Faroe Islands",
         "2068"
        ],
        [
         "Lithuania",
         "1684"
        ],
        [
         "Europe",
         "1684"
        ],
        [
         "Malaysia",
         "1684"
        ],
        [
         "World",
         "1684"
        ],
        [
         "Asia",
         "1684"
        ],
        [
         "India",
         "1682"
        ],
        [
         "Estonia",
         "1682"
        ],
        [
         "Czechia",
         "1682"
        ],
        [
         "Oceania",
         "1681"
        ],
        [
         "New Zealand",
         "1681"
        ],
        [
         "Argentina",
         "1678"
        ],
        [
         "Mexico",
         "1678"
        ],
        [
         "Italy",
         "1677"
        ]
       ],
       "shape": {
        "columns": 1,
        "rows": 20
       }
      },
      "text/plain": [
       "location\n",
       "High-income countries            3026\n",
       "European Union (27)              3024\n",
       "Upper-middle-income countries    3013\n",
       "Lower-middle-income countries    2983\n",
       "Low-income countries             2724\n",
       "East Timor                       2688\n",
       "Faroe Islands                    2068\n",
       "Lithuania                        1684\n",
       "Europe                           1684\n",
       "Malaysia                         1684\n",
       "World                            1684\n",
       "Asia                             1684\n",
       "India                            1682\n",
       "Estonia                          1682\n",
       "Czechia                          1682\n",
       "Oceania                          1681\n",
       "New Zealand                      1681\n",
       "Argentina                        1678\n",
       "Mexico                           1678\n",
       "Italy                            1677\n",
       "Name: count, dtype: int64"
      ]
     },
     "execution_count": 19,
     "metadata": {},
     "output_type": "execute_result"
    }
   ],
   "source": [
    "dataClean['location'].value_counts().head(20)"
   ]
  },
  {
   "cell_type": "markdown",
   "id": "aa884acc",
   "metadata": {},
   "source": [
    "## Split par date sur un continent "
   ]
  },
  {
   "cell_type": "code",
   "execution_count": 20,
   "id": "6ba30d81",
   "metadata": {},
   "outputs": [],
   "source": [
    "##data_eu = dataClean[dataClean['location'] == \"European Union (27)\"]"
   ]
  },
  {
   "cell_type": "code",
   "execution_count": null,
   "id": "d106382b",
   "metadata": {},
   "outputs": [
    {
     "name": "stdout",
     "output_type": "stream",
     "text": [
      "Moyenne erreur pred et test : 49.09734849056798\n",
      "Coefficient de qualité : 0.9815564355766854\n"
     ]
    }
   ],
   "source": [
    "# Filtrer sur une semaine\n",
    "data_short = dataClean[(dataClean[\"date\"] >= \"2021-01-01\") & (dataClean[\"date\"] <= \"2021-01-07\")]\n",
    "\n",
    "X = data_short[[\"location_encoded\", \"day\", \"month\", \"year\", \"total_deaths\", \"new_cases\"]]\n",
    "y = data_short[\"new_deaths\"]\n",
    "\n",
    "# Supprimer toutes les lignes où X ou y contient NaN\n",
    "Xy = pd.concat([X, y], axis=1)\n",
    "Xy = Xy.dropna()\n",
    "X = Xy[X.columns]\n",
    "y = Xy[y.name]\n",
    "\n",
    "X_train, X_test, y_train, y_test = train_test_split(X, y, test_size=0.2, random_state=42)\n",
    "y_train = y_train.loc[X_train.index]\n",
    "\n",
    "model = LinearRegression()\n",
    "model.fit(X_train, y_train)\n",
    "\n",
    "y_pred = model.predict(X_test)\n",
    "\n",
    "print(\"Moyenne erreur pred et test :\", mean_absolute_error(y_test, y_pred))\n",
    "print(\"Coefficient de qualité :\", r2_score(y_test, y_pred))\n"
   ]
  },
  {
   "cell_type": "code",
   "execution_count": 22,
   "id": "84b629b6",
   "metadata": {},
   "outputs": [
    {
     "name": "stdout",
     "output_type": "stream",
     "text": [
      "Coefficients : [-1.68156727e-01 -1.63451680e+00  2.60664407e-12  4.44089210e-16\n",
      "  1.59223137e-04  2.02491851e-02]\n",
      "Intercept : 29.164359123937203\n"
     ]
    }
   ],
   "source": [
    "\n",
    "print(\"Coefficients :\", model.coef_)\n",
    "print(\"Intercept :\", model.intercept_)"
   ]
  },
  {
   "cell_type": "code",
   "execution_count": 23,
   "id": "65437259",
   "metadata": {},
   "outputs": [
    {
     "name": "stdout",
     "output_type": "stream",
     "text": [
      "Moyenne des décès réels : 200.9536231884058\n",
      "Médiane des décès réels : 0.0\n"
     ]
    }
   ],
   "source": [
    "print(\"Moyenne des décès réels :\", y_test.mean())\n",
    "print(\"Médiane des décès réels :\", y_test.median())"
   ]
  },
  {
   "cell_type": "code",
   "execution_count": 24,
   "id": "a4fc57cc",
   "metadata": {},
   "outputs": [
    {
     "name": "stdout",
     "output_type": "stream",
     "text": [
      "Erreur relative : 24.43%\n"
     ]
    }
   ],
   "source": [
    "mae = mean_absolute_error(y_test, y_pred)\n",
    "mean_real = y_test.mean()\n",
    "print(f\"Erreur relative : {mae/mean_real:.2%}\")"
   ]
  },
  {
   "cell_type": "markdown",
   "id": "8d3dfdc8",
   "metadata": {},
   "source": [
    "## Exprimer au modèle la tendance ascendante et descandante des varations"
   ]
  },
  {
   "cell_type": "code",
   "execution_count": 25,
   "id": "1e1a8805",
   "metadata": {},
   "outputs": [],
   "source": [
    "dataClean['days_since_start'] = (dataClean['date'] - dataClean['date'].min()).dt.days\n",
    "dataClean['new_cases_rolling7'] = dataClean['new_cases'].rolling(window=7).mean()\n",
    "dataClean['trend_new_cases'] = dataClean['new_cases'].diff(periods=7)"
   ]
  },
  {
   "cell_type": "code",
   "execution_count": null,
   "id": "fd16953a",
   "metadata": {},
   "outputs": [
    {
     "name": "stdout",
     "output_type": "stream",
     "text": [
      "Moyenne erreur pred et test : 128.26665705035444\n",
      "Coefficient de qualité : 0.23213438652155927\n"
     ]
    }
   ],
   "source": [
    "# Ajoute les nouvelles colonnes dans X\n",
    "X = dataClean[[\n",
    "    \"total_cases\",\n",
    "    \"location_encoded\",\n",
    "    \"day\",\n",
    "    \"month\",\n",
    "    \"year\",\n",
    "    \"total_deaths\",\n",
    "    \"new_cases\",\n",
    "    \"days_since_start\",\n",
    "    \"new_cases_rolling7\",\n",
    "    \"trend_new_cases\"\n",
    "]]\n",
    "y = dataClean[\"new_deaths\"]\n",
    "\n",
    "# Supprimer toutes les lignes où X ou y contient NaN (important à cause des rolling/diff)\n",
    "Xy = pd.concat([X, y], axis=1)\n",
    "Xy = Xy.dropna()\n",
    "X = Xy[X.columns]\n",
    "y = Xy[y.name]\n",
    "\n",
    "# Split, entraînement et prédiction \n",
    "X_train, X_test, y_train, y_test = train_test_split(X, y, test_size=0.2, random_state=42)\n",
    "model = LinearRegression()\n",
    "model.fit(X_train, y_train)\n",
    "y_pred = model.predict(X_test)\n",
    "\n",
    "print(\"Moyenne erreur pred et test :\", mean_absolute_error(y_test, y_pred))\n",
    "print(\"Coefficient de qualité :\", r2_score(y_test, y_pred))"
   ]
  },
  {
   "cell_type": "code",
   "execution_count": 27,
   "id": "7ba4ac04",
   "metadata": {},
   "outputs": [
    {
     "name": "stdout",
     "output_type": "stream",
     "text": [
      "Coefficients : [-1.33395814e-05 -4.52394719e-02  3.63011265e-01  2.85898929e-01\n",
      " -2.50231231e-02  1.61123769e-03  3.35217426e-03 -7.52717432e-02\n",
      " -1.11482660e-03 -9.80599440e-04]\n",
      "Intercept : 132.76211671435203\n"
     ]
    }
   ],
   "source": [
    "print(\"Coefficients :\", model.coef_)\n",
    "print(\"Intercept :\", model.intercept_)"
   ]
  },
  {
   "cell_type": "code",
   "execution_count": 28,
   "id": "48a6b6aa",
   "metadata": {},
   "outputs": [
    {
     "name": "stdout",
     "output_type": "stream",
     "text": [
      "Moyenne des décès réels : 71.17851826545304\n",
      "Médiane des décès réels : 0.0\n"
     ]
    }
   ],
   "source": [
    "print(\"Moyenne des décès réels :\", y_test.mean())\n",
    "print(\"Médiane des décès réels :\", y_test.median())"
   ]
  },
  {
   "cell_type": "code",
   "execution_count": 30,
   "id": "e8d6f9eb",
   "metadata": {},
   "outputs": [
    {
     "name": "stdout",
     "output_type": "stream",
     "text": [
      "Erreur relative : 180.20%\n"
     ]
    }
   ],
   "source": [
    "mae = mean_absolute_error(y_test, y_pred)\n",
    "mean_real = y_test.mean()\n",
    "print(f\"Erreur relative : {mae/mean_real:.2%}\")"
   ]
  }
 ],
 "metadata": {
  "kernelspec": {
   "display_name": "venpred",
   "language": "python",
   "name": "venpred"
  },
  "language_info": {
   "codemirror_mode": {
    "name": "ipython",
    "version": 3
   },
   "file_extension": ".py",
   "mimetype": "text/x-python",
   "name": "python",
   "nbconvert_exporter": "python",
   "pygments_lexer": "ipython3",
   "version": "3.13.1"
  }
 },
 "nbformat": 4,
 "nbformat_minor": 5
}
