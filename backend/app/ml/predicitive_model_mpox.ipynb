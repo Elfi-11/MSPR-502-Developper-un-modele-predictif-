{
 "cells": [
  {
   "cell_type": "markdown",
   "id": "e4a61024",
   "metadata": {},
   "source": [
    "# 1. COLLECTED DATA\n",
    "Avaibility data quantity and quality control "
   ]
  },
  {
   "cell_type": "code",
   "execution_count": 9,
   "id": "156b5135",
   "metadata": {},
   "outputs": [
    {
     "data": {
      "application/vnd.microsoft.datawrangler.viewer.v0+json": {
       "columns": [
        {
         "name": "index",
         "rawType": "int64",
         "type": "integer"
        },
        {
         "name": "location",
         "rawType": "object",
         "type": "string"
        },
        {
         "name": "date",
         "rawType": "object",
         "type": "string"
        },
        {
         "name": "total_cases",
         "rawType": "float64",
         "type": "float"
        },
        {
         "name": "total_deaths",
         "rawType": "float64",
         "type": "float"
        },
        {
         "name": "new_cases",
         "rawType": "float64",
         "type": "float"
        },
        {
         "name": "new_deaths",
         "rawType": "float64",
         "type": "float"
        },
        {
         "name": "new_cases_smoothed",
         "rawType": "float64",
         "type": "float"
        },
        {
         "name": "new_deaths_smoothed",
         "rawType": "float64",
         "type": "float"
        },
        {
         "name": "new_cases_per_million",
         "rawType": "float64",
         "type": "float"
        },
        {
         "name": "total_cases_per_million",
         "rawType": "float64",
         "type": "float"
        },
        {
         "name": "new_cases_smoothed_per_million",
         "rawType": "float64",
         "type": "float"
        },
        {
         "name": "new_deaths_per_million",
         "rawType": "float64",
         "type": "float"
        },
        {
         "name": "total_deaths_per_million",
         "rawType": "float64",
         "type": "float"
        },
        {
         "name": "new_deaths_smoothed_per_million",
         "rawType": "float64",
         "type": "float"
        }
       ],
       "ref": "5d33e127-0f29-4ff7-b6b0-426914a70323",
       "rows": [
        [
         "0",
         "Africa",
         "2022-05-01",
         "27.0",
         "2.0",
         "0.0",
         "0.0",
         "0.29",
         "0.0",
         "0.0",
         "0.019",
         "0.0",
         "0.0",
         "0.0014",
         "0.0"
        ],
        [
         "1",
         "Africa",
         "2022-05-02",
         "27.0",
         "2.0",
         "0.0",
         "0.0",
         "0.29",
         "0.0",
         "0.0",
         "0.019",
         "0.0",
         "0.0",
         "0.0014",
         "0.0"
        ],
        [
         "2",
         "Africa",
         "2022-05-03",
         "27.0",
         "2.0",
         "0.0",
         "0.0",
         "0.29",
         "0.0",
         "0.0",
         "0.019",
         "0.0",
         "0.0",
         "0.0014",
         "0.0"
        ],
        [
         "3",
         "Africa",
         "2022-05-04",
         "27.0",
         "2.0",
         "0.0",
         "0.0",
         "0.29",
         "0.0",
         "0.0",
         "0.019",
         "0.0",
         "0.0",
         "0.0014",
         "0.0"
        ],
        [
         "4",
         "Africa",
         "2022-05-05",
         "27.0",
         "2.0",
         "0.0",
         "0.0",
         "0.29",
         "0.0",
         "0.0",
         "0.019",
         "0.0",
         "0.0",
         "0.0014",
         "0.0"
        ],
        [
         "5",
         "Africa",
         "2022-05-06",
         "27.0",
         "2.0",
         "0.0",
         "0.0",
         "0.0",
         "0.0",
         "0.0",
         "0.019",
         "0.0",
         "0.0",
         "0.0014",
         "0.0"
        ],
        [
         "6",
         "Africa",
         "2022-05-07",
         "27.0",
         "2.0",
         "0.0",
         "0.0",
         "0.0",
         "0.0",
         "0.0",
         "0.019",
         "0.0",
         "0.0",
         "0.0014",
         "0.0"
        ],
        [
         "7",
         "Africa",
         "2022-05-08",
         "27.0",
         "2.0",
         "0.0",
         "0.0",
         "0.0",
         "0.0",
         "0.0",
         "0.019",
         "0.0",
         "0.0",
         "0.0014",
         "0.0"
        ],
        [
         "8",
         "Africa",
         "2022-05-09",
         "27.0",
         "2.0",
         "0.0",
         "0.0",
         "0.0",
         "0.0",
         "0.0",
         "0.019",
         "0.0",
         "0.0",
         "0.0014",
         "0.0"
        ],
        [
         "9",
         "Africa",
         "2022-05-10",
         "27.0",
         "2.0",
         "0.0",
         "0.0",
         "0.0",
         "0.0",
         "0.0",
         "0.019",
         "0.0",
         "0.0",
         "0.0014",
         "0.0"
        ]
       ],
       "shape": {
        "columns": 14,
        "rows": 10
       }
      },
      "text/html": [
       "<div>\n",
       "<style scoped>\n",
       "    .dataframe tbody tr th:only-of-type {\n",
       "        vertical-align: middle;\n",
       "    }\n",
       "\n",
       "    .dataframe tbody tr th {\n",
       "        vertical-align: top;\n",
       "    }\n",
       "\n",
       "    .dataframe thead th {\n",
       "        text-align: right;\n",
       "    }\n",
       "</style>\n",
       "<table border=\"1\" class=\"dataframe\">\n",
       "  <thead>\n",
       "    <tr style=\"text-align: right;\">\n",
       "      <th></th>\n",
       "      <th>location</th>\n",
       "      <th>date</th>\n",
       "      <th>total_cases</th>\n",
       "      <th>total_deaths</th>\n",
       "      <th>new_cases</th>\n",
       "      <th>new_deaths</th>\n",
       "      <th>new_cases_smoothed</th>\n",
       "      <th>new_deaths_smoothed</th>\n",
       "      <th>new_cases_per_million</th>\n",
       "      <th>total_cases_per_million</th>\n",
       "      <th>new_cases_smoothed_per_million</th>\n",
       "      <th>new_deaths_per_million</th>\n",
       "      <th>total_deaths_per_million</th>\n",
       "      <th>new_deaths_smoothed_per_million</th>\n",
       "    </tr>\n",
       "  </thead>\n",
       "  <tbody>\n",
       "    <tr>\n",
       "      <th>0</th>\n",
       "      <td>Africa</td>\n",
       "      <td>2022-05-01</td>\n",
       "      <td>27.0</td>\n",
       "      <td>2.0</td>\n",
       "      <td>0.0</td>\n",
       "      <td>0.0</td>\n",
       "      <td>0.29</td>\n",
       "      <td>0.0</td>\n",
       "      <td>0.0</td>\n",
       "      <td>0.019</td>\n",
       "      <td>0.0</td>\n",
       "      <td>0.0</td>\n",
       "      <td>0.0014</td>\n",
       "      <td>0.0</td>\n",
       "    </tr>\n",
       "    <tr>\n",
       "      <th>1</th>\n",
       "      <td>Africa</td>\n",
       "      <td>2022-05-02</td>\n",
       "      <td>27.0</td>\n",
       "      <td>2.0</td>\n",
       "      <td>0.0</td>\n",
       "      <td>0.0</td>\n",
       "      <td>0.29</td>\n",
       "      <td>0.0</td>\n",
       "      <td>0.0</td>\n",
       "      <td>0.019</td>\n",
       "      <td>0.0</td>\n",
       "      <td>0.0</td>\n",
       "      <td>0.0014</td>\n",
       "      <td>0.0</td>\n",
       "    </tr>\n",
       "    <tr>\n",
       "      <th>2</th>\n",
       "      <td>Africa</td>\n",
       "      <td>2022-05-03</td>\n",
       "      <td>27.0</td>\n",
       "      <td>2.0</td>\n",
       "      <td>0.0</td>\n",
       "      <td>0.0</td>\n",
       "      <td>0.29</td>\n",
       "      <td>0.0</td>\n",
       "      <td>0.0</td>\n",
       "      <td>0.019</td>\n",
       "      <td>0.0</td>\n",
       "      <td>0.0</td>\n",
       "      <td>0.0014</td>\n",
       "      <td>0.0</td>\n",
       "    </tr>\n",
       "    <tr>\n",
       "      <th>3</th>\n",
       "      <td>Africa</td>\n",
       "      <td>2022-05-04</td>\n",
       "      <td>27.0</td>\n",
       "      <td>2.0</td>\n",
       "      <td>0.0</td>\n",
       "      <td>0.0</td>\n",
       "      <td>0.29</td>\n",
       "      <td>0.0</td>\n",
       "      <td>0.0</td>\n",
       "      <td>0.019</td>\n",
       "      <td>0.0</td>\n",
       "      <td>0.0</td>\n",
       "      <td>0.0014</td>\n",
       "      <td>0.0</td>\n",
       "    </tr>\n",
       "    <tr>\n",
       "      <th>4</th>\n",
       "      <td>Africa</td>\n",
       "      <td>2022-05-05</td>\n",
       "      <td>27.0</td>\n",
       "      <td>2.0</td>\n",
       "      <td>0.0</td>\n",
       "      <td>0.0</td>\n",
       "      <td>0.29</td>\n",
       "      <td>0.0</td>\n",
       "      <td>0.0</td>\n",
       "      <td>0.019</td>\n",
       "      <td>0.0</td>\n",
       "      <td>0.0</td>\n",
       "      <td>0.0014</td>\n",
       "      <td>0.0</td>\n",
       "    </tr>\n",
       "    <tr>\n",
       "      <th>5</th>\n",
       "      <td>Africa</td>\n",
       "      <td>2022-05-06</td>\n",
       "      <td>27.0</td>\n",
       "      <td>2.0</td>\n",
       "      <td>0.0</td>\n",
       "      <td>0.0</td>\n",
       "      <td>0.00</td>\n",
       "      <td>0.0</td>\n",
       "      <td>0.0</td>\n",
       "      <td>0.019</td>\n",
       "      <td>0.0</td>\n",
       "      <td>0.0</td>\n",
       "      <td>0.0014</td>\n",
       "      <td>0.0</td>\n",
       "    </tr>\n",
       "    <tr>\n",
       "      <th>6</th>\n",
       "      <td>Africa</td>\n",
       "      <td>2022-05-07</td>\n",
       "      <td>27.0</td>\n",
       "      <td>2.0</td>\n",
       "      <td>0.0</td>\n",
       "      <td>0.0</td>\n",
       "      <td>0.00</td>\n",
       "      <td>0.0</td>\n",
       "      <td>0.0</td>\n",
       "      <td>0.019</td>\n",
       "      <td>0.0</td>\n",
       "      <td>0.0</td>\n",
       "      <td>0.0014</td>\n",
       "      <td>0.0</td>\n",
       "    </tr>\n",
       "    <tr>\n",
       "      <th>7</th>\n",
       "      <td>Africa</td>\n",
       "      <td>2022-05-08</td>\n",
       "      <td>27.0</td>\n",
       "      <td>2.0</td>\n",
       "      <td>0.0</td>\n",
       "      <td>0.0</td>\n",
       "      <td>0.00</td>\n",
       "      <td>0.0</td>\n",
       "      <td>0.0</td>\n",
       "      <td>0.019</td>\n",
       "      <td>0.0</td>\n",
       "      <td>0.0</td>\n",
       "      <td>0.0014</td>\n",
       "      <td>0.0</td>\n",
       "    </tr>\n",
       "    <tr>\n",
       "      <th>8</th>\n",
       "      <td>Africa</td>\n",
       "      <td>2022-05-09</td>\n",
       "      <td>27.0</td>\n",
       "      <td>2.0</td>\n",
       "      <td>0.0</td>\n",
       "      <td>0.0</td>\n",
       "      <td>0.00</td>\n",
       "      <td>0.0</td>\n",
       "      <td>0.0</td>\n",
       "      <td>0.019</td>\n",
       "      <td>0.0</td>\n",
       "      <td>0.0</td>\n",
       "      <td>0.0014</td>\n",
       "      <td>0.0</td>\n",
       "    </tr>\n",
       "    <tr>\n",
       "      <th>9</th>\n",
       "      <td>Africa</td>\n",
       "      <td>2022-05-10</td>\n",
       "      <td>27.0</td>\n",
       "      <td>2.0</td>\n",
       "      <td>0.0</td>\n",
       "      <td>0.0</td>\n",
       "      <td>0.00</td>\n",
       "      <td>0.0</td>\n",
       "      <td>0.0</td>\n",
       "      <td>0.019</td>\n",
       "      <td>0.0</td>\n",
       "      <td>0.0</td>\n",
       "      <td>0.0014</td>\n",
       "      <td>0.0</td>\n",
       "    </tr>\n",
       "  </tbody>\n",
       "</table>\n",
       "</div>"
      ],
      "text/plain": [
       "  location        date  total_cases  total_deaths  new_cases  new_deaths  \\\n",
       "0   Africa  2022-05-01         27.0           2.0        0.0         0.0   \n",
       "1   Africa  2022-05-02         27.0           2.0        0.0         0.0   \n",
       "2   Africa  2022-05-03         27.0           2.0        0.0         0.0   \n",
       "3   Africa  2022-05-04         27.0           2.0        0.0         0.0   \n",
       "4   Africa  2022-05-05         27.0           2.0        0.0         0.0   \n",
       "5   Africa  2022-05-06         27.0           2.0        0.0         0.0   \n",
       "6   Africa  2022-05-07         27.0           2.0        0.0         0.0   \n",
       "7   Africa  2022-05-08         27.0           2.0        0.0         0.0   \n",
       "8   Africa  2022-05-09         27.0           2.0        0.0         0.0   \n",
       "9   Africa  2022-05-10         27.0           2.0        0.0         0.0   \n",
       "\n",
       "   new_cases_smoothed  new_deaths_smoothed  new_cases_per_million  \\\n",
       "0                0.29                  0.0                    0.0   \n",
       "1                0.29                  0.0                    0.0   \n",
       "2                0.29                  0.0                    0.0   \n",
       "3                0.29                  0.0                    0.0   \n",
       "4                0.29                  0.0                    0.0   \n",
       "5                0.00                  0.0                    0.0   \n",
       "6                0.00                  0.0                    0.0   \n",
       "7                0.00                  0.0                    0.0   \n",
       "8                0.00                  0.0                    0.0   \n",
       "9                0.00                  0.0                    0.0   \n",
       "\n",
       "   total_cases_per_million  new_cases_smoothed_per_million  \\\n",
       "0                    0.019                             0.0   \n",
       "1                    0.019                             0.0   \n",
       "2                    0.019                             0.0   \n",
       "3                    0.019                             0.0   \n",
       "4                    0.019                             0.0   \n",
       "5                    0.019                             0.0   \n",
       "6                    0.019                             0.0   \n",
       "7                    0.019                             0.0   \n",
       "8                    0.019                             0.0   \n",
       "9                    0.019                             0.0   \n",
       "\n",
       "   new_deaths_per_million  total_deaths_per_million  \\\n",
       "0                     0.0                    0.0014   \n",
       "1                     0.0                    0.0014   \n",
       "2                     0.0                    0.0014   \n",
       "3                     0.0                    0.0014   \n",
       "4                     0.0                    0.0014   \n",
       "5                     0.0                    0.0014   \n",
       "6                     0.0                    0.0014   \n",
       "7                     0.0                    0.0014   \n",
       "8                     0.0                    0.0014   \n",
       "9                     0.0                    0.0014   \n",
       "\n",
       "   new_deaths_smoothed_per_million  \n",
       "0                              0.0  \n",
       "1                              0.0  \n",
       "2                              0.0  \n",
       "3                              0.0  \n",
       "4                              0.0  \n",
       "5                              0.0  \n",
       "6                              0.0  \n",
       "7                              0.0  \n",
       "8                              0.0  \n",
       "9                              0.0  "
      ]
     },
     "execution_count": 9,
     "metadata": {},
     "output_type": "execute_result"
    }
   ],
   "source": [
    "#Scikit-learn: a Python tool for data preprocessing, model training, and evaluation.\n",
    "from sklearn.preprocessing import LabelEncoder\n",
    "import pandas as pd\n",
    "import missingno as msno\n",
    "import os\n",
    "\n",
    "# Use os for make a root\n",
    "data_path = os.path.join(\"..\", \"..\", \"..\", \"backend\", \"data\", \"mpox_processed.csv\")\n",
    "dataMpox = pd.read_csv(data_path, sep=',')\n",
    "\n",
    "dataMpox.head(10)"
   ]
  },
  {
   "cell_type": "markdown",
   "id": "08492af6",
   "metadata": {},
   "source": []
  },
  {
   "cell_type": "code",
   "execution_count": 10,
   "id": "7b73f10c",
   "metadata": {},
   "outputs": [
    {
     "name": "stdout",
     "output_type": "stream",
     "text": [
      "<class 'pandas.core.frame.DataFrame'>\n",
      "RangeIndex: 33666 entries, 0 to 33665\n",
      "Data columns (total 14 columns):\n",
      " #   Column                           Non-Null Count  Dtype  \n",
      "---  ------                           --------------  -----  \n",
      " 0   location                         33666 non-null  object \n",
      " 1   date                             33666 non-null  object \n",
      " 2   total_cases                      33666 non-null  float64\n",
      " 3   total_deaths                     33666 non-null  float64\n",
      " 4   new_cases                        33666 non-null  float64\n",
      " 5   new_deaths                       33666 non-null  float64\n",
      " 6   new_cases_smoothed               33666 non-null  float64\n",
      " 7   new_deaths_smoothed              33666 non-null  float64\n",
      " 8   new_cases_per_million            33666 non-null  float64\n",
      " 9   total_cases_per_million          33666 non-null  float64\n",
      " 10  new_cases_smoothed_per_million   33666 non-null  float64\n",
      " 11  new_deaths_per_million           33666 non-null  float64\n",
      " 12  total_deaths_per_million         33666 non-null  float64\n",
      " 13  new_deaths_smoothed_per_million  33666 non-null  float64\n",
      "dtypes: float64(12), object(2)\n",
      "memory usage: 3.6+ MB\n"
     ]
    }
   ],
   "source": [
    "# Informations about data type and length\n",
    "dataMpox.info()"
   ]
  },
  {
   "cell_type": "code",
   "execution_count": 11,
   "id": "e33570f4",
   "metadata": {},
   "outputs": [
    {
     "data": {
      "application/vnd.microsoft.datawrangler.viewer.v0+json": {
       "columns": [
        {
         "name": "index",
         "rawType": "object",
         "type": "string"
        },
        {
         "name": "0",
         "rawType": "int64",
         "type": "integer"
        }
       ],
       "ref": "6504494b-5e14-4efc-a486-c22c36bd0d61",
       "rows": [
        [
         "location",
         "0"
        ],
        [
         "date",
         "0"
        ],
        [
         "total_cases",
         "0"
        ],
        [
         "total_deaths",
         "0"
        ],
        [
         "new_cases",
         "0"
        ],
        [
         "new_deaths",
         "0"
        ],
        [
         "new_cases_smoothed",
         "0"
        ],
        [
         "new_deaths_smoothed",
         "0"
        ],
        [
         "new_cases_per_million",
         "0"
        ],
        [
         "total_cases_per_million",
         "0"
        ],
        [
         "new_cases_smoothed_per_million",
         "0"
        ],
        [
         "new_deaths_per_million",
         "0"
        ],
        [
         "total_deaths_per_million",
         "0"
        ],
        [
         "new_deaths_smoothed_per_million",
         "0"
        ]
       ],
       "shape": {
        "columns": 1,
        "rows": 14
       }
      },
      "text/plain": [
       "location                           0\n",
       "date                               0\n",
       "total_cases                        0\n",
       "total_deaths                       0\n",
       "new_cases                          0\n",
       "new_deaths                         0\n",
       "new_cases_smoothed                 0\n",
       "new_deaths_smoothed                0\n",
       "new_cases_per_million              0\n",
       "total_cases_per_million            0\n",
       "new_cases_smoothed_per_million     0\n",
       "new_deaths_per_million             0\n",
       "total_deaths_per_million           0\n",
       "new_deaths_smoothed_per_million    0\n",
       "dtype: int64"
      ]
     },
     "execution_count": 11,
     "metadata": {},
     "output_type": "execute_result"
    }
   ],
   "source": [
    "# Checking all the missing value in the data \n",
    "dataMpox.isnull().sum()"
   ]
  },
  {
   "cell_type": "code",
   "execution_count": null,
   "id": "f603baaa",
   "metadata": {},
   "outputs": [
    {
     "ename": "AttributeError",
     "evalue": "'str' object has no attribute 'isnull'",
     "output_type": "error",
     "traceback": [
      "\u001b[31m---------------------------------------------------------------------------\u001b[39m",
      "\u001b[31mAttributeError\u001b[39m                            Traceback (most recent call last)",
      "\u001b[36mCell\u001b[39m\u001b[36m \u001b[39m\u001b[32mIn[12]\u001b[39m\u001b[32m, line 2\u001b[39m\n\u001b[32m      1\u001b[39m \u001b[38;5;66;03m#comparatifvisualition on a diagram NaN values\u001b[39;00m\n\u001b[32m----> \u001b[39m\u001b[32m2\u001b[39m \u001b[43mmsno\u001b[49m\u001b[43m.\u001b[49m\u001b[43mbar\u001b[49m\u001b[43m(\u001b[49m\u001b[43mdata_path\u001b[49m\u001b[43m)\u001b[49m \n",
      "\u001b[36mFile \u001b[39m\u001b[32mc:\\Users\\Admin\\MSPR-502-Developper-un-modele-predictif-\\backend\\venv-ml\\Lib\\site-packages\\missingno\\missingno.py:225\u001b[39m, in \u001b[36mbar\u001b[39m\u001b[34m(df, figsize, fontsize, labels, label_rotation, log, color, filter, n, p, sort, ax, orientation)\u001b[39m\n\u001b[32m    223\u001b[39m df = nullity_filter(df, \u001b[38;5;28mfilter\u001b[39m=\u001b[38;5;28mfilter\u001b[39m, n=n, p=p)\n\u001b[32m    224\u001b[39m df = nullity_sort(df, sort=sort, axis=\u001b[33m'\u001b[39m\u001b[33mrows\u001b[39m\u001b[33m'\u001b[39m)\n\u001b[32m--> \u001b[39m\u001b[32m225\u001b[39m nullity_counts = \u001b[38;5;28mlen\u001b[39m(df) - \u001b[43mdf\u001b[49m\u001b[43m.\u001b[49m\u001b[43misnull\u001b[49m().sum()\n\u001b[32m    227\u001b[39m \u001b[38;5;28;01mif\u001b[39;00m orientation \u001b[38;5;129;01mis\u001b[39;00m \u001b[38;5;28;01mNone\u001b[39;00m:\n\u001b[32m    228\u001b[39m     \u001b[38;5;28;01mif\u001b[39;00m \u001b[38;5;28mlen\u001b[39m(df.columns) > \u001b[32m50\u001b[39m:\n",
      "\u001b[31mAttributeError\u001b[39m: 'str' object has no attribute 'isnull'"
     ]
    }
   ],
   "source": [
    "#comparatifvisualition on a diagram NaN values\n",
    "msno.bar(dataMpox) "
   ]
  },
  {
   "cell_type": "code",
   "execution_count": null,
   "id": "b70e4646",
   "metadata": {},
   "outputs": [],
   "source": []
  }
 ],
 "metadata": {
  "kernelspec": {
   "display_name": "venv-ml",
   "language": "python",
   "name": "python3"
  },
  "language_info": {
   "codemirror_mode": {
    "name": "ipython",
    "version": 3
   },
   "file_extension": ".py",
   "mimetype": "text/x-python",
   "name": "python",
   "nbconvert_exporter": "python",
   "pygments_lexer": "ipython3",
   "version": "3.12.6"
  }
 },
 "nbformat": 4,
 "nbformat_minor": 5
}
