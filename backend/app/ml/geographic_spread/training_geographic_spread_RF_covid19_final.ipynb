{
 "cells": [
  {
   "cell_type": "code",
   "execution_count": 1,
   "id": "0e1f4137",
   "metadata": {},
   "outputs": [
    {
     "data": {
      "application/vnd.microsoft.datawrangler.viewer.v0+json": {
       "columns": [
        {
         "name": "index",
         "rawType": "int64",
         "type": "integer"
        },
        {
         "name": "date",
         "rawType": "object",
         "type": "string"
        },
        {
         "name": "location",
         "rawType": "object",
         "type": "string"
        },
        {
         "name": "total_cases",
         "rawType": "float64",
         "type": "float"
        },
        {
         "name": "new_cases",
         "rawType": "float64",
         "type": "float"
        },
        {
         "name": "total_deaths",
         "rawType": "float64",
         "type": "float"
        },
        {
         "name": "new_deaths",
         "rawType": "float64",
         "type": "float"
        },
        {
         "name": "icu_patients",
         "rawType": "float64",
         "type": "float"
        },
        {
         "name": "hosp_patients",
         "rawType": "float64",
         "type": "float"
        },
        {
         "name": "total_vaccinations",
         "rawType": "float64",
         "type": "float"
        },
        {
         "name": "people_vaccinated",
         "rawType": "float64",
         "type": "float"
        }
       ],
       "ref": "2208ab60-1f17-43dc-bc22-e13b423349ec",
       "rows": [
        [
         "0",
         "2020-01-05",
         "Afghanistan",
         "0.0",
         "0.0",
         "0.0",
         "0.0",
         null,
         null,
         null,
         null
        ],
        [
         "1",
         "2020-01-06",
         "Afghanistan",
         "0.0",
         "0.0",
         "0.0",
         "0.0",
         null,
         null,
         null,
         null
        ],
        [
         "2",
         "2020-01-07",
         "Afghanistan",
         "0.0",
         "0.0",
         "0.0",
         "0.0",
         null,
         null,
         null,
         null
        ],
        [
         "3",
         "2020-01-08",
         "Afghanistan",
         "0.0",
         "0.0",
         "0.0",
         "0.0",
         null,
         null,
         null,
         null
        ],
        [
         "4",
         "2020-01-09",
         "Afghanistan",
         "0.0",
         "0.0",
         "0.0",
         "0.0",
         null,
         null,
         null,
         null
        ],
        [
         "5",
         "2020-01-10",
         "Afghanistan",
         "0.0",
         "0.0",
         "0.0",
         "0.0",
         null,
         null,
         null,
         null
        ],
        [
         "6",
         "2020-01-11",
         "Afghanistan",
         "0.0",
         "0.0",
         "0.0",
         "0.0",
         null,
         null,
         null,
         null
        ],
        [
         "7",
         "2020-01-12",
         "Afghanistan",
         "0.0",
         "0.0",
         "0.0",
         "0.0",
         null,
         null,
         null,
         null
        ],
        [
         "8",
         "2020-01-13",
         "Afghanistan",
         "0.0",
         "0.0",
         "0.0",
         "0.0",
         null,
         null,
         null,
         null
        ],
        [
         "9",
         "2020-01-14",
         "Afghanistan",
         "0.0",
         "0.0",
         "0.0",
         "0.0",
         null,
         null,
         null,
         null
        ]
       ],
       "shape": {
        "columns": 10,
        "rows": 10
       }
      },
      "text/html": [
       "<div>\n",
       "<style scoped>\n",
       "    .dataframe tbody tr th:only-of-type {\n",
       "        vertical-align: middle;\n",
       "    }\n",
       "\n",
       "    .dataframe tbody tr th {\n",
       "        vertical-align: top;\n",
       "    }\n",
       "\n",
       "    .dataframe thead th {\n",
       "        text-align: right;\n",
       "    }\n",
       "</style>\n",
       "<table border=\"1\" class=\"dataframe\">\n",
       "  <thead>\n",
       "    <tr style=\"text-align: right;\">\n",
       "      <th></th>\n",
       "      <th>date</th>\n",
       "      <th>location</th>\n",
       "      <th>total_cases</th>\n",
       "      <th>new_cases</th>\n",
       "      <th>total_deaths</th>\n",
       "      <th>new_deaths</th>\n",
       "      <th>icu_patients</th>\n",
       "      <th>hosp_patients</th>\n",
       "      <th>total_vaccinations</th>\n",
       "      <th>people_vaccinated</th>\n",
       "    </tr>\n",
       "  </thead>\n",
       "  <tbody>\n",
       "    <tr>\n",
       "      <th>0</th>\n",
       "      <td>2020-01-05</td>\n",
       "      <td>Afghanistan</td>\n",
       "      <td>0.0</td>\n",
       "      <td>0.0</td>\n",
       "      <td>0.0</td>\n",
       "      <td>0.0</td>\n",
       "      <td>NaN</td>\n",
       "      <td>NaN</td>\n",
       "      <td>NaN</td>\n",
       "      <td>NaN</td>\n",
       "    </tr>\n",
       "    <tr>\n",
       "      <th>1</th>\n",
       "      <td>2020-01-06</td>\n",
       "      <td>Afghanistan</td>\n",
       "      <td>0.0</td>\n",
       "      <td>0.0</td>\n",
       "      <td>0.0</td>\n",
       "      <td>0.0</td>\n",
       "      <td>NaN</td>\n",
       "      <td>NaN</td>\n",
       "      <td>NaN</td>\n",
       "      <td>NaN</td>\n",
       "    </tr>\n",
       "    <tr>\n",
       "      <th>2</th>\n",
       "      <td>2020-01-07</td>\n",
       "      <td>Afghanistan</td>\n",
       "      <td>0.0</td>\n",
       "      <td>0.0</td>\n",
       "      <td>0.0</td>\n",
       "      <td>0.0</td>\n",
       "      <td>NaN</td>\n",
       "      <td>NaN</td>\n",
       "      <td>NaN</td>\n",
       "      <td>NaN</td>\n",
       "    </tr>\n",
       "    <tr>\n",
       "      <th>3</th>\n",
       "      <td>2020-01-08</td>\n",
       "      <td>Afghanistan</td>\n",
       "      <td>0.0</td>\n",
       "      <td>0.0</td>\n",
       "      <td>0.0</td>\n",
       "      <td>0.0</td>\n",
       "      <td>NaN</td>\n",
       "      <td>NaN</td>\n",
       "      <td>NaN</td>\n",
       "      <td>NaN</td>\n",
       "    </tr>\n",
       "    <tr>\n",
       "      <th>4</th>\n",
       "      <td>2020-01-09</td>\n",
       "      <td>Afghanistan</td>\n",
       "      <td>0.0</td>\n",
       "      <td>0.0</td>\n",
       "      <td>0.0</td>\n",
       "      <td>0.0</td>\n",
       "      <td>NaN</td>\n",
       "      <td>NaN</td>\n",
       "      <td>NaN</td>\n",
       "      <td>NaN</td>\n",
       "    </tr>\n",
       "    <tr>\n",
       "      <th>5</th>\n",
       "      <td>2020-01-10</td>\n",
       "      <td>Afghanistan</td>\n",
       "      <td>0.0</td>\n",
       "      <td>0.0</td>\n",
       "      <td>0.0</td>\n",
       "      <td>0.0</td>\n",
       "      <td>NaN</td>\n",
       "      <td>NaN</td>\n",
       "      <td>NaN</td>\n",
       "      <td>NaN</td>\n",
       "    </tr>\n",
       "    <tr>\n",
       "      <th>6</th>\n",
       "      <td>2020-01-11</td>\n",
       "      <td>Afghanistan</td>\n",
       "      <td>0.0</td>\n",
       "      <td>0.0</td>\n",
       "      <td>0.0</td>\n",
       "      <td>0.0</td>\n",
       "      <td>NaN</td>\n",
       "      <td>NaN</td>\n",
       "      <td>NaN</td>\n",
       "      <td>NaN</td>\n",
       "    </tr>\n",
       "    <tr>\n",
       "      <th>7</th>\n",
       "      <td>2020-01-12</td>\n",
       "      <td>Afghanistan</td>\n",
       "      <td>0.0</td>\n",
       "      <td>0.0</td>\n",
       "      <td>0.0</td>\n",
       "      <td>0.0</td>\n",
       "      <td>NaN</td>\n",
       "      <td>NaN</td>\n",
       "      <td>NaN</td>\n",
       "      <td>NaN</td>\n",
       "    </tr>\n",
       "    <tr>\n",
       "      <th>8</th>\n",
       "      <td>2020-01-13</td>\n",
       "      <td>Afghanistan</td>\n",
       "      <td>0.0</td>\n",
       "      <td>0.0</td>\n",
       "      <td>0.0</td>\n",
       "      <td>0.0</td>\n",
       "      <td>NaN</td>\n",
       "      <td>NaN</td>\n",
       "      <td>NaN</td>\n",
       "      <td>NaN</td>\n",
       "    </tr>\n",
       "    <tr>\n",
       "      <th>9</th>\n",
       "      <td>2020-01-14</td>\n",
       "      <td>Afghanistan</td>\n",
       "      <td>0.0</td>\n",
       "      <td>0.0</td>\n",
       "      <td>0.0</td>\n",
       "      <td>0.0</td>\n",
       "      <td>NaN</td>\n",
       "      <td>NaN</td>\n",
       "      <td>NaN</td>\n",
       "      <td>NaN</td>\n",
       "    </tr>\n",
       "  </tbody>\n",
       "</table>\n",
       "</div>"
      ],
      "text/plain": [
       "         date     location  total_cases  new_cases  total_deaths  new_deaths  \\\n",
       "0  2020-01-05  Afghanistan          0.0        0.0           0.0         0.0   \n",
       "1  2020-01-06  Afghanistan          0.0        0.0           0.0         0.0   \n",
       "2  2020-01-07  Afghanistan          0.0        0.0           0.0         0.0   \n",
       "3  2020-01-08  Afghanistan          0.0        0.0           0.0         0.0   \n",
       "4  2020-01-09  Afghanistan          0.0        0.0           0.0         0.0   \n",
       "5  2020-01-10  Afghanistan          0.0        0.0           0.0         0.0   \n",
       "6  2020-01-11  Afghanistan          0.0        0.0           0.0         0.0   \n",
       "7  2020-01-12  Afghanistan          0.0        0.0           0.0         0.0   \n",
       "8  2020-01-13  Afghanistan          0.0        0.0           0.0         0.0   \n",
       "9  2020-01-14  Afghanistan          0.0        0.0           0.0         0.0   \n",
       "\n",
       "   icu_patients  hosp_patients  total_vaccinations  people_vaccinated  \n",
       "0           NaN            NaN                 NaN                NaN  \n",
       "1           NaN            NaN                 NaN                NaN  \n",
       "2           NaN            NaN                 NaN                NaN  \n",
       "3           NaN            NaN                 NaN                NaN  \n",
       "4           NaN            NaN                 NaN                NaN  \n",
       "5           NaN            NaN                 NaN                NaN  \n",
       "6           NaN            NaN                 NaN                NaN  \n",
       "7           NaN            NaN                 NaN                NaN  \n",
       "8           NaN            NaN                 NaN                NaN  \n",
       "9           NaN            NaN                 NaN                NaN  "
      ]
     },
     "execution_count": 1,
     "metadata": {},
     "output_type": "execute_result"
    }
   ],
   "source": [
    "#Scikit-learn: a Python tool for data preprocessing, model training, and evaluation.\n",
    "from sklearn.preprocessing import LabelEncoder\n",
    "from sklearn.model_selection import train_test_split\n",
    "from sklearn.ensemble import RandomForestRegressor\n",
    "from sklearn.metrics import mean_absolute_error, mean_squared_error, r2_score\n",
    "from sklearn.model_selection import GridSearchCV\n",
    "import seaborn as sns\n",
    "import matplotlib.pyplot as plt\n",
    "import numpy as np\n",
    "import pandas as pd\n",
    "import missingno as msno\n",
    "import os\n",
    "import datetime\n",
    "\n",
    "# Use os for make a root\n",
    "data_path = os.path.join(\"..\", \"..\", \"..\", \"..\", \"backend\", \"data\", \"covid_processed.csv\")\n",
    "data = pd.read_csv(data_path, sep=',')\n",
    "\n",
    "data.head(10)"
   ]
  },
  {
   "cell_type": "code",
   "execution_count": 2,
   "id": "7b2f4b75",
   "metadata": {},
   "outputs": [
    {
     "name": "stdout",
     "output_type": "stream",
     "text": [
      "<class 'pandas.core.frame.DataFrame'>\n",
      "RangeIndex: 429435 entries, 0 to 429434\n",
      "Data columns (total 10 columns):\n",
      " #   Column              Non-Null Count   Dtype  \n",
      "---  ------              --------------   -----  \n",
      " 0   date                429435 non-null  object \n",
      " 1   location            429435 non-null  object \n",
      " 2   total_cases         411804 non-null  float64\n",
      " 3   new_cases           410159 non-null  float64\n",
      " 4   total_deaths        411804 non-null  float64\n",
      " 5   new_deaths          410608 non-null  float64\n",
      " 6   icu_patients        39116 non-null   float64\n",
      " 7   hosp_patients       40656 non-null   float64\n",
      " 8   total_vaccinations  85417 non-null   float64\n",
      " 9   people_vaccinated   81132 non-null   float64\n",
      "dtypes: float64(8), object(2)\n",
      "memory usage: 32.8+ MB\n"
     ]
    }
   ],
   "source": [
    "# Informations about data type and length\n",
    "data.info()"
   ]
  },
  {
   "cell_type": "code",
   "execution_count": 3,
   "id": "fb85bafe",
   "metadata": {},
   "outputs": [
    {
     "data": {
      "application/vnd.microsoft.datawrangler.viewer.v0+json": {
       "columns": [
        {
         "name": "index",
         "rawType": "object",
         "type": "string"
        },
        {
         "name": "0",
         "rawType": "int64",
         "type": "integer"
        }
       ],
       "ref": "ba4bc42b-e1a8-4c6a-8cd3-69e5cd172567",
       "rows": [
        [
         "date",
         "0"
        ],
        [
         "location",
         "0"
        ],
        [
         "total_cases",
         "17631"
        ],
        [
         "new_cases",
         "19276"
        ],
        [
         "total_deaths",
         "17631"
        ],
        [
         "new_deaths",
         "18827"
        ],
        [
         "icu_patients",
         "390319"
        ],
        [
         "hosp_patients",
         "388779"
        ],
        [
         "total_vaccinations",
         "344018"
        ],
        [
         "people_vaccinated",
         "348303"
        ]
       ],
       "shape": {
        "columns": 1,
        "rows": 10
       }
      },
      "text/plain": [
       "date                       0\n",
       "location                   0\n",
       "total_cases            17631\n",
       "new_cases              19276\n",
       "total_deaths           17631\n",
       "new_deaths             18827\n",
       "icu_patients          390319\n",
       "hosp_patients         388779\n",
       "total_vaccinations    344018\n",
       "people_vaccinated     348303\n",
       "dtype: int64"
      ]
     },
     "execution_count": 3,
     "metadata": {},
     "output_type": "execute_result"
    }
   ],
   "source": [
    "# Checking all the missing value in the data \n",
    "data.isnull().sum()"
   ]
  },
  {
   "cell_type": "code",
   "execution_count": 4,
   "id": "7369fc2d",
   "metadata": {},
   "outputs": [
    {
     "data": {
      "text/plain": [
       "<Axes: >"
      ]
     },
     "execution_count": 4,
     "metadata": {},
     "output_type": "execute_result"
    },
    {
     "data": {
      "image/png": "[encoded data removed]",
      "text/plain": [
       "<Figure size 2500x1000 with 3 Axes>"
      ]
     },
     "metadata": {},
     "output_type": "display_data"
    }
   ],
   "source": [
    "#comparatifvisualition on a diagram NaN values\n",
    "msno.bar(data) "
   ]
  },
  {
   "cell_type": "code",
   "execution_count": 5,
   "id": "91f98abb",
   "metadata": {},
   "outputs": [],
   "source": [
    "# Drop column not usable\n",
    "dataClean = data.drop(columns=['icu_patients', 'hosp_patients', 'total_vaccinations', 'people_vaccinated'])"
   ]
  },
  {
   "cell_type": "code",
   "execution_count": null,
   "id": "3ec7eef9",
   "metadata": {},
   "outputs": [],
   "source": [
    "# Encodage de base\n",
    "dataClean[\"date\"] = pd.to_datetime(dataClean[\"date\"], errors='coerce')\n",
    "dataClean[\"location_encoded\"] = LabelEncoder().fit_transform(dataClean[\"location\"])\n",
    "dataClean[\"day\"] = dataClean[\"date\"].dt.day\n",
    "dataClean[\"month\"] = dataClean[\"date\"].dt.month\n",
    "dataClean[\"year\"] = dataClean[\"date\"].dt.year\n",
    "\n",
    "# Phase épidémique\n",
    "dataClean[\"epidemic_phase\"] = dataClean[\"year\"].apply(lambda y: 0 if y <= 2022 else 1)\n",
    "\n",
    "# Création de la cible : nombre de pays avec au moins un cas à une date donnée\n",
    "propagation_df = dataClean[dataClean[\"new_cases\"] > 0].groupby(\"date\")[\"location\"].nunique().reset_index()\n",
    "propagation_df.rename(columns={\"location\": \"countries_reporting\"}, inplace=True)\n",
    "\n",
    "# Fusion dans le DataFrame principal\n",
    "dataClean = dataClean.merge(propagation_df, on=\"date\", how=\"left\")\n",
    "\n",
    "# Features + Target\n",
    "X = dataClean[[\n",
    "    \"total_cases\", \"location_encoded\", \"day\", \"month\", \"year\",\n",
    "    \"total_deaths\", \"new_cases\", \"epidemic_phase\"\n",
    "]]\n",
    "y = dataClean[\"countries_reporting\"]  \n",
    "\n",
    "# Nettoyage des valeurs manquantes\n",
    "Xy = pd.concat([X, y], axis=1).dropna()\n",
    "X = Xy[X.columns]\n",
    "y = Xy[y.name]\n"
   ]
  },
  {
   "cell_type": "code",
   "execution_count": null,
   "id": "53cf85c9",
   "metadata": {},
   "outputs": [
    {
     "name": "stdout",
     "output_type": "stream",
     "text": [
      "\n",
      "🔬 Évaluation sur 2023 (non vu pendant l'entraînement)\n",
      "MAE : 23.60\n",
      "Erreur relative : 17.35%\n"
     ]
    }
   ],
   "source": [
    "# 1Création de features dynamiques\n",
    "dataClean[\"days_since_start\"] = (dataClean[\"date\"] - dataClean[\"date\"].min()).dt.days\n",
    "dataClean[\"new_cases_rolling7\"] = dataClean[\"new_cases\"].rolling(window=7).mean()\n",
    "dataClean[\"trend_new_cases\"] = dataClean[\"new_cases\"].diff(periods=7)\n",
    "\n",
    "# Séparation claire : entraînement sans 2023, test sur 2023\n",
    "data_train = dataClean[dataClean[\"year\"].isin([2020, 2021, 2022, 2024])]\n",
    "data_test = dataClean[dataClean[\"year\"] == 2023]\n",
    "\n",
    "# Définition des features finales\n",
    "features_final = [\n",
    "    \"total_cases\", \"location_encoded\", \"day\", \"month\", \"year\",\n",
    "    \"total_deaths\", \"new_cases\", \"epidemic_phase\",\n",
    "    \"days_since_start\", \"new_cases_rolling7\", \"trend_new_cases\"\n",
    "]\n",
    "\n",
    "# Nettoyage\n",
    "df_train = data_train[features_final + [\"countries_reporting\"]].dropna()\n",
    "df_test = data_test[features_final + [\"countries_reporting\"]].dropna()\n",
    "\n",
    "X_train = df_train[features_final]\n",
    "y_train = df_train[\"countries_reporting\"]\n",
    "\n",
    "X_test = df_test[features_final]\n",
    "y_test = df_test[\"countries_reporting\"]\n",
    "\n",
    "# Entraînement du modèle\n",
    "model_eval = RandomForestRegressor(\n",
    "        random_state=42,\n",
    "        max_depth=10,  \n",
    "        n_estimators=100,\n",
    "        min_samples_split=5,\n",
    "        min_samples_leaf=3\n",
    "    )\n",
    "model_eval.fit(X_train, y_train)\n",
    "\n",
    "# Prédiction et évaluation\n",
    "y_pred = model_eval.predict(X_test)\n",
    "mae = mean_absolute_error(y_test, y_pred)\n",
    "mean_real = y_test.mean()\n",
    "rel_error = mae / mean_real\n",
    "\n",
    "print(\"\\n🔬 Évaluation sur 2023 (non vu pendant l'entraînement)\")\n",
    "print(f\"MAE : {mae:.2f}\")\n",
    "print(f\"Erreur relative : {rel_error:.2%}\")\n"
   ]
  },
  {
   "cell_type": "code",
   "execution_count": null,
   "id": "4dcb8e27",
   "metadata": {},
   "outputs": [
    {
     "name": "stdout",
     "output_type": "stream",
     "text": [
      "\n",
      "🔧 Modèle final entraîné sur 2020–2024 (Propagation géographique)\n",
      "MAE : 0.60\n",
      "Erreur relative : 0.35%\n",
      "\n",
      "🌍 Prédiction du nombre de pays rapportant des cas (01/05/2025) : 71.76\n"
     ]
    }
   ],
   "source": [
    "# MODELE FINAL : Entraînement complet sur 2020–2024 pour prédictions futures (Propagation géographique)\n",
    "\n",
    "# Sélection des données jusqu'à 2024\n",
    "data_global = dataClean[dataClean[\"year\"] <= 2024]\n",
    "\n",
    "# Nettoyage\n",
    "df_global = data_global[features_final + [\"countries_reporting\"]].dropna()\n",
    "X_global = df_global[features_final]\n",
    "y_global = df_global[\"countries_reporting\"]\n",
    "\n",
    "# Entraînement\n",
    "global_model = RandomForestRegressor(\n",
    "        random_state=42,\n",
    "        max_depth=10,  \n",
    "        n_estimators=100,\n",
    "        min_samples_split=5,\n",
    "        min_samples_leaf=3\n",
    "    )\n",
    "global_model.fit(X_global, y_global)\n",
    "\n",
    "# 4️ Évaluation sur l’ensemble d'entraînement\n",
    "y_pred_global = global_model.predict(X_global)\n",
    "mae_global = mean_absolute_error(y_global, y_pred_global)\n",
    "rel_global = mae_global / y_global.mean()\n",
    "\n",
    "print(\"\\n Modèle final entraîné sur 2020–2024 (Propagation géographique)\")\n",
    "print(f\"MAE : {mae_global:.2f}\")\n",
    "print(f\"Erreur relative : {rel_global:.2%}\")\n",
    "\n",
    "date_predite = pd.to_datetime(\"2025-03-15\")\n",
    "days_since_start = (date_predite - dataClean[\"date\"].min()).days\n",
    "\n",
    "# Prédiction fictive pour un jour de 2025\n",
    "exemple_2025 = pd.DataFrame([{ \n",
    "    \"total_cases\": 1_000_000,\n",
    "    \"location_encoded\": 1, \n",
    "    \"day\": 1,\n",
    "    \"month\": 5,\n",
    "    \"year\": 2025,\n",
    "    \"total_deaths\": 20000,\n",
    "    \"new_cases\": 500,\n",
    "    \"epidemic_phase\": 1,\n",
    "    \"days_since_start\": days_since_start,\n",
    "    \"new_cases_rolling7\": 520,\n",
    "    \"trend_new_cases\": -30\n",
    "}])\n",
    "\n",
    "pred_2025 = global_model.predict(exemple_2025)\n",
    "pred_2025 = np.maximum(pred_2025, 0)\n",
    "print(\" Prédiction du nombre de pays rapportant des cas (2025-03-15) :\", pred_2025[0])\n"
   ]
  },
  {
   "cell_type": "code",
   "execution_count": 9,
   "id": "5948d821",
   "metadata": {},
   "outputs": [
    {
     "name": "stdout",
     "output_type": "stream",
     "text": [
      "location\n",
      "East Timor             385\n",
      "Faroe Islands          296\n",
      "Angola                 240\n",
      "Antigua and Barbuda    240\n",
      "Argentina              240\n",
      "Armenia                240\n",
      "Anguilla               240\n",
      "Albania                240\n",
      "Afghanistan            240\n",
      "Austria                240\n",
      "Name: countries_reporting, dtype: int64\n"
     ]
    }
   ],
   "source": [
    "# Étape 1 : filtrer les dates avec au moins un pays rapportant des cas\n",
    "with_reporting = dataClean[dataClean[\"countries_reporting\"] > 0]\n",
    "\n",
    "# Étape 2 : déterminer les localisations avec le plus de jours renseignés\n",
    "valid_country_counts = with_reporting.groupby(\"location\")[\"countries_reporting\"].count().sort_values(ascending=False)\n",
    "\n",
    "# Étape 3 : exclure les agrégats (continents, income groups, etc.)\n",
    "valid_country_counts = valid_country_counts[~valid_country_counts.index.str.contains(\"income|countries|Union|World|Asia|Europe|America|Africa\")]\n",
    "\n",
    "# Top pays exploitables\n",
    "print(valid_country_counts.head(10))\n"
   ]
  },
  {
   "cell_type": "code",
   "execution_count": 10,
   "id": "9a493eae",
   "metadata": {},
   "outputs": [
    {
     "name": "stdout",
     "output_type": "stream",
     "text": [
      "Code encodé pour l'Argentine : 9\n"
     ]
    }
   ],
   "source": [
    "argentina_code = dataClean[dataClean[\"location\"] == \"Argentina\"][\"location_encoded\"].unique()[0]\n",
    "print(\"Code encodé pour l'Argentine :\", argentina_code)\n"
   ]
  },
  {
   "cell_type": "code",
   "execution_count": null,
   "id": "f5a267bc",
   "metadata": {},
   "outputs": [
    {
     "name": "stdout",
     "output_type": "stream",
     "text": [
      "📊 Exemple : Argentina — valeurs moyennes fin 2024\n",
      "Total cases : 10101218.0\n",
      "Total deaths : 130663.0\n",
      "New cases (rolling 7) : 88.71428571428571\n",
      "Trend new cases : -79.0\n"
     ]
    }
   ],
   "source": [
    "# Extraire les données de fin 2024 pour l'Argentine\n",
    "argentina_data = dataClean[(dataClean[\"location\"] == \"Argentina\") & (dataClean[\"year\"] == 2024)].dropna()\n",
    "\n",
    "# Calcul des statistiques moyennes\n",
    "mean_total_cases = argentina_data[\"total_cases\"].max()\n",
    "mean_total_deaths = argentina_data[\"total_deaths\"].max()\n",
    "mean_new_cases = argentina_data[\"new_cases\"].rolling(window=7).mean().iloc[-1]\n",
    "mean_trend_cases = argentina_data[\"new_cases\"].diff(periods=7).iloc[-1]\n",
    "\n",
    "# Affichage\n",
    "print(\"Exemple : Argentina — valeurs moyennes fin 2024\")\n",
    "print(\"Total cases :\", mean_total_cases)\n",
    "print(\"Total deaths :\", mean_total_deaths)\n",
    "print(\"New cases (rolling 7) :\", mean_new_cases)\n",
    "print(\"Trend new cases :\", mean_trend_cases)\n"
   ]
  },
  {
   "cell_type": "code",
   "execution_count": null,
   "id": "259cd5c6",
   "metadata": {},
   "outputs": [
    {
     "name": "stdout",
     "output_type": "stream",
     "text": [
      "🌍 Prédiction propagation géographique (nombre de pays ayant déclaré un cas le 15 mars 2025) : 71.76\n"
     ]
    }
   ],
   "source": [
    "# Exemple date de prédiction\n",
    "date_predite = pd.to_datetime(\"2025-03-15\")\n",
    "days_since_start = (date_predite - dataClean[\"date\"].min()).days\n",
    "\n",
    "exemple_argentine_2025 = pd.DataFrame([{\n",
    "    \"total_cases\": mean_total_cases,\n",
    "    \"location_encoded\": 9, \n",
    "    \"day\": 15,\n",
    "    \"month\": 3,\n",
    "    \"year\": 2025,\n",
    "    \"total_deaths\": mean_total_deaths,\n",
    "    \"new_cases\": mean_new_cases,\n",
    "    \"epidemic_phase\": 1,\n",
    "    \"days_since_start\": days_since_start,  \n",
    "    \"new_cases_rolling7\": mean_new_cases,\n",
    "    \"trend_new_cases\": mean_trend_cases\n",
    "}])\n",
    "\n",
    "# Prédiction de la propagation géographique (nombre de pays)\n",
    "pred_geo_2025 = global_model.predict(exemple_argentine_2025)\n",
    "pred_geo_2025 = np.maximum(pred_geo_2025, 0)\n",
    "\n",
    "print(\"Prédiction propagation géographique (nombre de pays ayant déclaré un cas le 15 mars 2025) :\", pred_geo_2025[0])\n"
   ]
  }
 ],
 "metadata": {
  "kernelspec": {
   "display_name": "Python (venv-ml)",
   "language": "python",
   "name": "venv-ml"
  },
  "language_info": {
   "codemirror_mode": {
    "name": "ipython",
    "version": 3
   },
   "file_extension": ".py",
   "mimetype": "text/x-python",
   "name": "python",
   "nbconvert_exporter": "python",
   "pygments_lexer": "ipython3",
   "version": "3.12.6"
  }
 },
 "nbformat": 4,
 "nbformat_minor": 5
}
