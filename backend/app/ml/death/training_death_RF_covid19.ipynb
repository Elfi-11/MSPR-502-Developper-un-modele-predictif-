{
 "cells": [
  {
   "cell_type": "markdown",
   "id": "e4a61024",
   "metadata": {},
   "source": [
    "# 1. COLLECTED DATA\n",
    "Avaibility data quantity and quality control "
   ]
  },
  {
   "cell_type": "code",
   "execution_count": 1,
   "id": "156b5135",
   "metadata": {},
   "outputs": [
    {
     "data": {
      "application/vnd.microsoft.datawrangler.viewer.v0+json": {
       "columns": [
        {
         "name": "index",
         "rawType": "int64",
         "type": "integer"
        },
        {
         "name": "date",
         "rawType": "object",
         "type": "string"
        },
        {
         "name": "location",
         "rawType": "object",
         "type": "string"
        },
        {
         "name": "total_cases",
         "rawType": "float64",
         "type": "float"
        },
        {
         "name": "new_cases",
         "rawType": "float64",
         "type": "float"
        },
        {
         "name": "total_deaths",
         "rawType": "float64",
         "type": "float"
        },
        {
         "name": "new_deaths",
         "rawType": "float64",
         "type": "float"
        },
        {
         "name": "icu_patients",
         "rawType": "float64",
         "type": "float"
        },
        {
         "name": "hosp_patients",
         "rawType": "float64",
         "type": "float"
        },
        {
         "name": "total_vaccinations",
         "rawType": "float64",
         "type": "float"
        },
        {
         "name": "people_vaccinated",
         "rawType": "float64",
         "type": "float"
        }
       ],
       "ref": "ab416e9a-2083-43c0-abba-041a6001bbae",
       "rows": [
        [
         "0",
         "2020-01-05",
         "Afghanistan",
         "0.0",
         "0.0",
         "0.0",
         "0.0",
         null,
         null,
         null,
         null
        ],
        [
         "1",
         "2020-01-06",
         "Afghanistan",
         "0.0",
         "0.0",
         "0.0",
         "0.0",
         null,
         null,
         null,
         null
        ],
        [
         "2",
         "2020-01-07",
         "Afghanistan",
         "0.0",
         "0.0",
         "0.0",
         "0.0",
         null,
         null,
         null,
         null
        ],
        [
         "3",
         "2020-01-08",
         "Afghanistan",
         "0.0",
         "0.0",
         "0.0",
         "0.0",
         null,
         null,
         null,
         null
        ],
        [
         "4",
         "2020-01-09",
         "Afghanistan",
         "0.0",
         "0.0",
         "0.0",
         "0.0",
         null,
         null,
         null,
         null
        ],
        [
         "5",
         "2020-01-10",
         "Afghanistan",
         "0.0",
         "0.0",
         "0.0",
         "0.0",
         null,
         null,
         null,
         null
        ],
        [
         "6",
         "2020-01-11",
         "Afghanistan",
         "0.0",
         "0.0",
         "0.0",
         "0.0",
         null,
         null,
         null,
         null
        ],
        [
         "7",
         "2020-01-12",
         "Afghanistan",
         "0.0",
         "0.0",
         "0.0",
         "0.0",
         null,
         null,
         null,
         null
        ],
        [
         "8",
         "2020-01-13",
         "Afghanistan",
         "0.0",
         "0.0",
         "0.0",
         "0.0",
         null,
         null,
         null,
         null
        ],
        [
         "9",
         "2020-01-14",
         "Afghanistan",
         "0.0",
         "0.0",
         "0.0",
         "0.0",
         null,
         null,
         null,
         null
        ]
       ],
       "shape": {
        "columns": 10,
        "rows": 10
       }
      },
      "text/html": [
       "<div>\n",
       "<style scoped>\n",
       "    .dataframe tbody tr th:only-of-type {\n",
       "        vertical-align: middle;\n",
       "    }\n",
       "\n",
       "    .dataframe tbody tr th {\n",
       "        vertical-align: top;\n",
       "    }\n",
       "\n",
       "    .dataframe thead th {\n",
       "        text-align: right;\n",
       "    }\n",
       "</style>\n",
       "<table border=\"1\" class=\"dataframe\">\n",
       "  <thead>\n",
       "    <tr style=\"text-align: right;\">\n",
       "      <th></th>\n",
       "      <th>date</th>\n",
       "      <th>location</th>\n",
       "      <th>total_cases</th>\n",
       "      <th>new_cases</th>\n",
       "      <th>total_deaths</th>\n",
       "      <th>new_deaths</th>\n",
       "      <th>icu_patients</th>\n",
       "      <th>hosp_patients</th>\n",
       "      <th>total_vaccinations</th>\n",
       "      <th>people_vaccinated</th>\n",
       "    </tr>\n",
       "  </thead>\n",
       "  <tbody>\n",
       "    <tr>\n",
       "      <th>0</th>\n",
       "      <td>2020-01-05</td>\n",
       "      <td>Afghanistan</td>\n",
       "      <td>0.0</td>\n",
       "      <td>0.0</td>\n",
       "      <td>0.0</td>\n",
       "      <td>0.0</td>\n",
       "      <td>NaN</td>\n",
       "      <td>NaN</td>\n",
       "      <td>NaN</td>\n",
       "      <td>NaN</td>\n",
       "    </tr>\n",
       "    <tr>\n",
       "      <th>1</th>\n",
       "      <td>2020-01-06</td>\n",
       "      <td>Afghanistan</td>\n",
       "      <td>0.0</td>\n",
       "      <td>0.0</td>\n",
       "      <td>0.0</td>\n",
       "      <td>0.0</td>\n",
       "      <td>NaN</td>\n",
       "      <td>NaN</td>\n",
       "      <td>NaN</td>\n",
       "      <td>NaN</td>\n",
       "    </tr>\n",
       "    <tr>\n",
       "      <th>2</th>\n",
       "      <td>2020-01-07</td>\n",
       "      <td>Afghanistan</td>\n",
       "      <td>0.0</td>\n",
       "      <td>0.0</td>\n",
       "      <td>0.0</td>\n",
       "      <td>0.0</td>\n",
       "      <td>NaN</td>\n",
       "      <td>NaN</td>\n",
       "      <td>NaN</td>\n",
       "      <td>NaN</td>\n",
       "    </tr>\n",
       "    <tr>\n",
       "      <th>3</th>\n",
       "      <td>2020-01-08</td>\n",
       "      <td>Afghanistan</td>\n",
       "      <td>0.0</td>\n",
       "      <td>0.0</td>\n",
       "      <td>0.0</td>\n",
       "      <td>0.0</td>\n",
       "      <td>NaN</td>\n",
       "      <td>NaN</td>\n",
       "      <td>NaN</td>\n",
       "      <td>NaN</td>\n",
       "    </tr>\n",
       "    <tr>\n",
       "      <th>4</th>\n",
       "      <td>2020-01-09</td>\n",
       "      <td>Afghanistan</td>\n",
       "      <td>0.0</td>\n",
       "      <td>0.0</td>\n",
       "      <td>0.0</td>\n",
       "      <td>0.0</td>\n",
       "      <td>NaN</td>\n",
       "      <td>NaN</td>\n",
       "      <td>NaN</td>\n",
       "      <td>NaN</td>\n",
       "    </tr>\n",
       "    <tr>\n",
       "      <th>5</th>\n",
       "      <td>2020-01-10</td>\n",
       "      <td>Afghanistan</td>\n",
       "      <td>0.0</td>\n",
       "      <td>0.0</td>\n",
       "      <td>0.0</td>\n",
       "      <td>0.0</td>\n",
       "      <td>NaN</td>\n",
       "      <td>NaN</td>\n",
       "      <td>NaN</td>\n",
       "      <td>NaN</td>\n",
       "    </tr>\n",
       "    <tr>\n",
       "      <th>6</th>\n",
       "      <td>2020-01-11</td>\n",
       "      <td>Afghanistan</td>\n",
       "      <td>0.0</td>\n",
       "      <td>0.0</td>\n",
       "      <td>0.0</td>\n",
       "      <td>0.0</td>\n",
       "      <td>NaN</td>\n",
       "      <td>NaN</td>\n",
       "      <td>NaN</td>\n",
       "      <td>NaN</td>\n",
       "    </tr>\n",
       "    <tr>\n",
       "      <th>7</th>\n",
       "      <td>2020-01-12</td>\n",
       "      <td>Afghanistan</td>\n",
       "      <td>0.0</td>\n",
       "      <td>0.0</td>\n",
       "      <td>0.0</td>\n",
       "      <td>0.0</td>\n",
       "      <td>NaN</td>\n",
       "      <td>NaN</td>\n",
       "      <td>NaN</td>\n",
       "      <td>NaN</td>\n",
       "    </tr>\n",
       "    <tr>\n",
       "      <th>8</th>\n",
       "      <td>2020-01-13</td>\n",
       "      <td>Afghanistan</td>\n",
       "      <td>0.0</td>\n",
       "      <td>0.0</td>\n",
       "      <td>0.0</td>\n",
       "      <td>0.0</td>\n",
       "      <td>NaN</td>\n",
       "      <td>NaN</td>\n",
       "      <td>NaN</td>\n",
       "      <td>NaN</td>\n",
       "    </tr>\n",
       "    <tr>\n",
       "      <th>9</th>\n",
       "      <td>2020-01-14</td>\n",
       "      <td>Afghanistan</td>\n",
       "      <td>0.0</td>\n",
       "      <td>0.0</td>\n",
       "      <td>0.0</td>\n",
       "      <td>0.0</td>\n",
       "      <td>NaN</td>\n",
       "      <td>NaN</td>\n",
       "      <td>NaN</td>\n",
       "      <td>NaN</td>\n",
       "    </tr>\n",
       "  </tbody>\n",
       "</table>\n",
       "</div>"
      ],
      "text/plain": [
       "         date     location  total_cases  new_cases  total_deaths  new_deaths  \\\n",
       "0  2020-01-05  Afghanistan          0.0        0.0           0.0         0.0   \n",
       "1  2020-01-06  Afghanistan          0.0        0.0           0.0         0.0   \n",
       "2  2020-01-07  Afghanistan          0.0        0.0           0.0         0.0   \n",
       "3  2020-01-08  Afghanistan          0.0        0.0           0.0         0.0   \n",
       "4  2020-01-09  Afghanistan          0.0        0.0           0.0         0.0   \n",
       "5  2020-01-10  Afghanistan          0.0        0.0           0.0         0.0   \n",
       "6  2020-01-11  Afghanistan          0.0        0.0           0.0         0.0   \n",
       "7  2020-01-12  Afghanistan          0.0        0.0           0.0         0.0   \n",
       "8  2020-01-13  Afghanistan          0.0        0.0           0.0         0.0   \n",
       "9  2020-01-14  Afghanistan          0.0        0.0           0.0         0.0   \n",
       "\n",
       "   icu_patients  hosp_patients  total_vaccinations  people_vaccinated  \n",
       "0           NaN            NaN                 NaN                NaN  \n",
       "1           NaN            NaN                 NaN                NaN  \n",
       "2           NaN            NaN                 NaN                NaN  \n",
       "3           NaN            NaN                 NaN                NaN  \n",
       "4           NaN            NaN                 NaN                NaN  \n",
       "5           NaN            NaN                 NaN                NaN  \n",
       "6           NaN            NaN                 NaN                NaN  \n",
       "7           NaN            NaN                 NaN                NaN  \n",
       "8           NaN            NaN                 NaN                NaN  \n",
       "9           NaN            NaN                 NaN                NaN  "
      ]
     },
     "execution_count": 1,
     "metadata": {},
     "output_type": "execute_result"
    }
   ],
   "source": [
    "#Scikit-learn: a Python tool for data preprocessing, model training, and evaluation.\n",
    "from sklearn.preprocessing import LabelEncoder\n",
    "from sklearn.model_selection import train_test_split\n",
    "from sklearn.ensemble import RandomForestRegressor\n",
    "from sklearn.metrics import mean_absolute_error, mean_squared_error, r2_score\n",
    "import seaborn as sns\n",
    "import matplotlib.pyplot as plt\n",
    "import numpy as np\n",
    "import pandas as pd\n",
    "import missingno as msno\n",
    "import os\n",
    "\n",
    "# Use os for make a root\n",
    "data_path = os.path.join(\"..\", \"..\", \"..\", \"backend\", \"data\", \"covid_processed.csv\")\n",
    "data = pd.read_csv(data_path, sep=',')\n",
    "\n",
    "data.head(10)"
   ]
  },
  {
   "cell_type": "markdown",
   "id": "08492af6",
   "metadata": {},
   "source": []
  },
  {
   "cell_type": "code",
   "execution_count": null,
   "id": "7b73f10c",
   "metadata": {},
   "outputs": [
    {
     "name": "stdout",
     "output_type": "stream",
     "text": [
      "<class 'pandas.core.frame.DataFrame'>\n",
      "RangeIndex: 429435 entries, 0 to 429434\n",
      "Data columns (total 10 columns):\n",
      " #   Column              Non-Null Count   Dtype  \n",
      "---  ------              --------------   -----  \n",
      " 0   date                429435 non-null  object \n",
      " 1   location            429435 non-null  object \n",
      " 2   total_cases         411804 non-null  float64\n",
      " 3   new_cases           410159 non-null  float64\n",
      " 4   total_deaths        411804 non-null  float64\n",
      " 5   new_deaths          410608 non-null  float64\n",
      " 6   icu_patients        39116 non-null   float64\n",
      " 7   hosp_patients       40656 non-null   float64\n",
      " 8   total_vaccinations  85417 non-null   float64\n",
      " 9   people_vaccinated   81132 non-null   float64\n",
      "dtypes: float64(8), object(2)\n",
      "memory usage: 32.8+ MB\n"
     ]
    },
    {
     "ename": "",
     "evalue": "",
     "output_type": "error",
     "traceback": [
      "\u001b[1;31mnotebook controller is DISPOSED. \n",
      "\u001b[1;31mPour plus d’informations, consultez Jupyter <a href='command:jupyter.viewOutput'>log</a>."
     ]
    }
   ],
   "source": [
    "# Informations about data type and length\n",
    "data.info()"
   ]
  },
  {
   "cell_type": "code",
   "execution_count": null,
   "id": "e33570f4",
   "metadata": {},
   "outputs": [
    {
     "data": {
      "application/vnd.microsoft.datawrangler.viewer.v0+json": {
       "columns": [
        {
         "name": "index",
         "rawType": "object",
         "type": "string"
        },
        {
         "name": "0",
         "rawType": "int64",
         "type": "integer"
        }
       ],
       "ref": "bff2d76f-03da-419d-81ac-8d4eceabee0a",
       "rows": [
        [
         "date",
         "0"
        ],
        [
         "location",
         "0"
        ],
        [
         "total_cases",
         "17631"
        ],
        [
         "new_cases",
         "19276"
        ],
        [
         "total_deaths",
         "17631"
        ],
        [
         "new_deaths",
         "18827"
        ],
        [
         "icu_patients",
         "390319"
        ],
        [
         "hosp_patients",
         "388779"
        ],
        [
         "total_vaccinations",
         "344018"
        ],
        [
         "people_vaccinated",
         "348303"
        ]
       ],
       "shape": {
        "columns": 1,
        "rows": 10
       }
      },
      "text/plain": [
       "date                       0\n",
       "location                   0\n",
       "total_cases            17631\n",
       "new_cases              19276\n",
       "total_deaths           17631\n",
       "new_deaths             18827\n",
       "icu_patients          390319\n",
       "hosp_patients         388779\n",
       "total_vaccinations    344018\n",
       "people_vaccinated     348303\n",
       "dtype: int64"
      ]
     },
     "execution_count": 3,
     "metadata": {},
     "output_type": "execute_result"
    },
    {
     "ename": "",
     "evalue": "",
     "output_type": "error",
     "traceback": [
      "\u001b[1;31mnotebook controller is DISPOSED. \n",
      "\u001b[1;31mPour plus d’informations, consultez Jupyter <a href='command:jupyter.viewOutput'>log</a>."
     ]
    }
   ],
   "source": [
    "# Checking all the missing value in the data \n",
    "data.isnull().sum()"
   ]
  },
  {
   "cell_type": "code",
   "execution_count": null,
   "id": "f603baaa",
   "metadata": {},
   "outputs": [
    {
     "data": {
      "text/plain": [
       "<Axes: >"
      ]
     },
     "execution_count": 4,
     "metadata": {},
     "output_type": "execute_result"
    },
    {
     "data": {
      "image/png": "[encoded data removed]",
      "text/plain": [
       "<Figure size 2500x1000 with 3 Axes>"
      ]
     },
     "metadata": {},
     "output_type": "display_data"
    },
    {
     "ename": "",
     "evalue": "",
     "output_type": "error",
     "traceback": [
      "\u001b[1;31mnotebook controller is DISPOSED. \n",
      "\u001b[1;31mPour plus d’informations, consultez Jupyter <a href='command:jupyter.viewOutput'>log</a>."
     ]
    }
   ],
   "source": [
    "#comparatifvisualition on a diagram NaN values\n",
    "msno.bar(data) "
   ]
  },
  {
   "cell_type": "code",
   "execution_count": null,
   "id": "b70e4646",
   "metadata": {},
   "outputs": [
    {
     "ename": "",
     "evalue": "",
     "output_type": "error",
     "traceback": [
      "\u001b[1;31mnotebook controller is DISPOSED. \n",
      "\u001b[1;31mPour plus d’informations, consultez Jupyter <a href='command:jupyter.viewOutput'>log</a>."
     ]
    }
   ],
   "source": [
    "# Drop column not usable\n",
    "dataClean = data.drop(columns=['icu_patients', 'hosp_patients', 'total_vaccinations', 'people_vaccinated'])"
   ]
  },
  {
   "cell_type": "code",
   "execution_count": null,
   "id": "3f6e7428",
   "metadata": {},
   "outputs": [
    {
     "data": {
      "application/vnd.microsoft.datawrangler.viewer.v0+json": {
       "columns": [
        {
         "name": "index",
         "rawType": "int64",
         "type": "integer"
        },
        {
         "name": "date",
         "rawType": "object",
         "type": "string"
        },
        {
         "name": "location",
         "rawType": "object",
         "type": "string"
        },
        {
         "name": "total_cases",
         "rawType": "float64",
         "type": "float"
        },
        {
         "name": "new_cases",
         "rawType": "float64",
         "type": "float"
        },
        {
         "name": "total_deaths",
         "rawType": "float64",
         "type": "float"
        },
        {
         "name": "new_deaths",
         "rawType": "float64",
         "type": "float"
        }
       ],
       "ref": "ef525f9c-e721-41c3-af46-8413dbbf4758",
       "rows": [
        [
         "0",
         "2020-01-05",
         "Afghanistan",
         "0.0",
         "0.0",
         "0.0",
         "0.0"
        ],
        [
         "1",
         "2020-01-06",
         "Afghanistan",
         "0.0",
         "0.0",
         "0.0",
         "0.0"
        ],
        [
         "2",
         "2020-01-07",
         "Afghanistan",
         "0.0",
         "0.0",
         "0.0",
         "0.0"
        ],
        [
         "3",
         "2020-01-08",
         "Afghanistan",
         "0.0",
         "0.0",
         "0.0",
         "0.0"
        ],
        [
         "4",
         "2020-01-09",
         "Afghanistan",
         "0.0",
         "0.0",
         "0.0",
         "0.0"
        ]
       ],
       "shape": {
        "columns": 6,
        "rows": 5
       }
      },
      "text/html": [
       "<div>\n",
       "<style scoped>\n",
       "    .dataframe tbody tr th:only-of-type {\n",
       "        vertical-align: middle;\n",
       "    }\n",
       "\n",
       "    .dataframe tbody tr th {\n",
       "        vertical-align: top;\n",
       "    }\n",
       "\n",
       "    .dataframe thead th {\n",
       "        text-align: right;\n",
       "    }\n",
       "</style>\n",
       "<table border=\"1\" class=\"dataframe\">\n",
       "  <thead>\n",
       "    <tr style=\"text-align: right;\">\n",
       "      <th></th>\n",
       "      <th>date</th>\n",
       "      <th>location</th>\n",
       "      <th>total_cases</th>\n",
       "      <th>new_cases</th>\n",
       "      <th>total_deaths</th>\n",
       "      <th>new_deaths</th>\n",
       "    </tr>\n",
       "  </thead>\n",
       "  <tbody>\n",
       "    <tr>\n",
       "      <th>0</th>\n",
       "      <td>2020-01-05</td>\n",
       "      <td>Afghanistan</td>\n",
       "      <td>0.0</td>\n",
       "      <td>0.0</td>\n",
       "      <td>0.0</td>\n",
       "      <td>0.0</td>\n",
       "    </tr>\n",
       "    <tr>\n",
       "      <th>1</th>\n",
       "      <td>2020-01-06</td>\n",
       "      <td>Afghanistan</td>\n",
       "      <td>0.0</td>\n",
       "      <td>0.0</td>\n",
       "      <td>0.0</td>\n",
       "      <td>0.0</td>\n",
       "    </tr>\n",
       "    <tr>\n",
       "      <th>2</th>\n",
       "      <td>2020-01-07</td>\n",
       "      <td>Afghanistan</td>\n",
       "      <td>0.0</td>\n",
       "      <td>0.0</td>\n",
       "      <td>0.0</td>\n",
       "      <td>0.0</td>\n",
       "    </tr>\n",
       "    <tr>\n",
       "      <th>3</th>\n",
       "      <td>2020-01-08</td>\n",
       "      <td>Afghanistan</td>\n",
       "      <td>0.0</td>\n",
       "      <td>0.0</td>\n",
       "      <td>0.0</td>\n",
       "      <td>0.0</td>\n",
       "    </tr>\n",
       "    <tr>\n",
       "      <th>4</th>\n",
       "      <td>2020-01-09</td>\n",
       "      <td>Afghanistan</td>\n",
       "      <td>0.0</td>\n",
       "      <td>0.0</td>\n",
       "      <td>0.0</td>\n",
       "      <td>0.0</td>\n",
       "    </tr>\n",
       "  </tbody>\n",
       "</table>\n",
       "</div>"
      ],
      "text/plain": [
       "         date     location  total_cases  new_cases  total_deaths  new_deaths\n",
       "0  2020-01-05  Afghanistan          0.0        0.0           0.0         0.0\n",
       "1  2020-01-06  Afghanistan          0.0        0.0           0.0         0.0\n",
       "2  2020-01-07  Afghanistan          0.0        0.0           0.0         0.0\n",
       "3  2020-01-08  Afghanistan          0.0        0.0           0.0         0.0\n",
       "4  2020-01-09  Afghanistan          0.0        0.0           0.0         0.0"
      ]
     },
     "execution_count": 6,
     "metadata": {},
     "output_type": "execute_result"
    },
    {
     "ename": "",
     "evalue": "",
     "output_type": "error",
     "traceback": [
      "\u001b[1;31mnotebook controller is DISPOSED. \n",
      "\u001b[1;31mPour plus d’informations, consultez Jupyter <a href='command:jupyter.viewOutput'>log</a>."
     ]
    }
   ],
   "source": [
    "dataClean.head()"
   ]
  },
  {
   "cell_type": "code",
   "execution_count": null,
   "id": "f97dbd78",
   "metadata": {},
   "outputs": [
    {
     "data": {
      "text/plain": [
       "<Axes: >"
      ]
     },
     "execution_count": 7,
     "metadata": {},
     "output_type": "execute_result"
    },
    {
     "data": {
      "image/png": "[encoded data removed]",
      "text/plain": [
       "<Figure size 2500x1000 with 3 Axes>"
      ]
     },
     "metadata": {},
     "output_type": "display_data"
    },
    {
     "ename": "",
     "evalue": "",
     "output_type": "error",
     "traceback": [
      "\u001b[1;31mnotebook controller is DISPOSED. \n",
      "\u001b[1;31mPour plus d’informations, consultez Jupyter <a href='command:jupyter.viewOutput'>log</a>."
     ]
    }
   ],
   "source": [
    "#comparatifvisualition on a diagram NaN values\n",
    "msno.bar(dataClean) "
   ]
  },
  {
   "cell_type": "code",
   "execution_count": null,
   "id": "6560fea4",
   "metadata": {},
   "outputs": [
    {
     "data": {
      "application/vnd.microsoft.datawrangler.viewer.v0+json": {
       "columns": [
        {
         "name": "index",
         "rawType": "object",
         "type": "string"
        },
        {
         "name": "0",
         "rawType": "float64",
         "type": "float"
        }
       ],
       "ref": "94dc491b-bfc9-439f-954d-d7d462a9660b",
       "rows": [
        [
         "new_cases",
         "4.488688625752442"
        ],
        [
         "new_deaths",
         "4.384132639398279"
        ],
        [
         "total_cases",
         "4.105627161270041"
        ],
        [
         "total_deaths",
         "4.105627161270041"
        ],
        [
         "location",
         "0.0"
        ],
        [
         "date",
         "0.0"
        ]
       ],
       "shape": {
        "columns": 1,
        "rows": 6
       }
      },
      "text/plain": [
       "new_cases       4.488689\n",
       "new_deaths      4.384133\n",
       "total_cases     4.105627\n",
       "total_deaths    4.105627\n",
       "location        0.000000\n",
       "date            0.000000\n",
       "dtype: float64"
      ]
     },
     "execution_count": 8,
     "metadata": {},
     "output_type": "execute_result"
    },
    {
     "ename": "",
     "evalue": "",
     "output_type": "error",
     "traceback": [
      "\u001b[1;31mnotebook controller is DISPOSED. \n",
      "\u001b[1;31mPour plus d’informations, consultez Jupyter <a href='command:jupyter.viewOutput'>log</a>."
     ]
    }
   ],
   "source": [
    "# percent of missingg or null values\n",
    "(dataClean.isnull().mean() * 100).sort_values(ascending=False)"
   ]
  },
  {
   "cell_type": "code",
   "execution_count": null,
   "id": "8477dc83",
   "metadata": {},
   "outputs": [
    {
     "ename": "",
     "evalue": "",
     "output_type": "error",
     "traceback": [
      "\u001b[1;31mnotebook controller is DISPOSED. \n",
      "\u001b[1;31mPour plus d’informations, consultez Jupyter <a href='command:jupyter.viewOutput'>log</a>."
     ]
    }
   ],
   "source": [
    "# Encodage\n",
    "dataClean[\"date\"] = pd.to_datetime(dataClean[\"date\"], errors='coerce')\n",
    "\n",
    "dataClean[\"location_encoded\"] = LabelEncoder().fit_transform(dataClean[\"location\"])\n",
    "dataClean[\"day\"] = dataClean[\"date\"].dt.day\n",
    "dataClean[\"month\"] = dataClean[\"date\"].dt.month\n",
    "dataClean[\"year\"] = dataClean[\"date\"].dt.year\n",
    "\n",
    "# Phase 0 = épidémie \"classique\" ; Phase 1 = post-crise (baisse mortalité)\n",
    "dataClean[\"epidemic_phase\"] = dataClean[\"year\"].apply(lambda y: 0 if y <= 2022 else 1)\n",
    "\n",
    "\n",
    "X = dataClean[[\"total_cases\", \"location_encoded\", \"day\", \"month\", \"year\", \"total_deaths\", \"new_cases\", \"epidemic_phase\"]]\n",
    "y = dataClean[\"new_deaths\"]\n",
    "\n",
    "# Supprimer toutes les lignes où X ou y contient NaN\n",
    "Xy = pd.concat([X, y], axis=1)\n",
    "Xy = Xy.dropna()\n",
    "X = Xy[X.columns]\n",
    "y = Xy[y.name]"
   ]
  },
  {
   "cell_type": "code",
   "execution_count": null,
   "id": "996bbed0",
   "metadata": {},
   "outputs": [
    {
     "ename": "",
     "evalue": "",
     "output_type": "error",
     "traceback": [
      "\u001b[1;31mnotebook controller is DISPOSED. \n",
      "\u001b[1;31mPour plus d’informations, consultez Jupyter <a href='command:jupyter.viewOutput'>log</a>."
     ]
    }
   ],
   "source": [
    "\n",
    "X_train, X_test, y_train, y_test = train_test_split(X, y, test_size=0.2, random_state=42)"
   ]
  },
  {
   "cell_type": "code",
   "execution_count": null,
   "id": "2ca45839",
   "metadata": {},
   "outputs": [
    {
     "ename": "",
     "evalue": "",
     "output_type": "error",
     "traceback": [
      "\u001b[1;31mnotebook controller is DISPOSED. \n",
      "\u001b[1;31mPour plus d’informations, consultez Jupyter <a href='command:jupyter.viewOutput'>log</a>."
     ]
    }
   ],
   "source": [
    "model = RandomForestRegressor(random_state=42)\n",
    "model.fit(X_train, y_train)\n",
    "\n",
    "y_pred = model.predict(X_test)"
   ]
  },
  {
   "cell_type": "code",
   "execution_count": null,
   "id": "cd31066a",
   "metadata": {},
   "outputs": [
    {
     "name": "stdout",
     "output_type": "stream",
     "text": [
      "Moyenne erreur pred et test : 14.49436023406071\n",
      "Coefficient de qualité : 0.9598226675236474\n"
     ]
    },
    {
     "ename": "",
     "evalue": "",
     "output_type": "error",
     "traceback": [
      "\u001b[1;31mnotebook controller is DISPOSED. \n",
      "\u001b[1;31mPour plus d’informations, consultez Jupyter <a href='command:jupyter.viewOutput'>log</a>."
     ]
    }
   ],
   "source": [
    "print(\"Moyenne erreur pred et test :\", mean_absolute_error(y_test, y_pred))\n",
    "print(\"Coefficient de qualité :\", r2_score(y_test, y_pred))"
   ]
  },
  {
   "cell_type": "code",
   "execution_count": null,
   "id": "f5be97e3",
   "metadata": {},
   "outputs": [
    {
     "name": "stdout",
     "output_type": "stream",
     "text": [
      "Importances des features : [5.93157852e-02 1.55513947e-01 6.56110314e-03 2.94578577e-02\n",
      " 1.06877372e-01 6.24599650e-02 5.79477273e-01 3.36696294e-04]\n"
     ]
    },
    {
     "ename": "",
     "evalue": "",
     "output_type": "error",
     "traceback": [
      "\u001b[1;31mnotebook controller is DISPOSED. \n",
      "\u001b[1;31mPour plus d’informations, consultez Jupyter <a href='command:jupyter.viewOutput'>log</a>."
     ]
    }
   ],
   "source": [
    "print(\"Importances des features :\", model.feature_importances_)"
   ]
  },
  {
   "cell_type": "code",
   "execution_count": null,
   "id": "5a526d39",
   "metadata": {},
   "outputs": [
    {
     "name": "stdout",
     "output_type": "stream",
     "text": [
      "Erreur relative cas mondiaux : 20.52%\n"
     ]
    },
    {
     "ename": "",
     "evalue": "",
     "output_type": "error",
     "traceback": [
      "\u001b[1;31mnotebook controller is DISPOSED. \n",
      "\u001b[1;31mPour plus d’informations, consultez Jupyter <a href='command:jupyter.viewOutput'>log</a>."
     ]
    }
   ],
   "source": [
    "mae = mean_absolute_error(y_test, y_pred)\n",
    "mean_real = y_test.mean()\n",
    "print(f\"Erreur relative cas mondiaux : {mae/mean_real:.2%}\")"
   ]
  },
  {
   "cell_type": "markdown",
   "id": "12911e7d",
   "metadata": {},
   "source": [
    "## Split par date une semaine"
   ]
  },
  {
   "cell_type": "code",
   "execution_count": null,
   "id": "d7f2f402",
   "metadata": {},
   "outputs": [
    {
     "name": "stdout",
     "output_type": "stream",
     "text": [
      "Moyenne erreur pred et test : 80.31724637681158\n",
      "Coefficient de qualité : 0.8615420769792949\n"
     ]
    },
    {
     "ename": "",
     "evalue": "",
     "output_type": "error",
     "traceback": [
      "\u001b[1;31mnotebook controller is DISPOSED. \n",
      "\u001b[1;31mPour plus d’informations, consultez Jupyter <a href='command:jupyter.viewOutput'>log</a>."
     ]
    }
   ],
   "source": [
    "# Exemple pour filtrer sur une semaine\n",
    "data_short = dataClean[(dataClean[\"date\"] >= \"2021-01-01\") & (dataClean[\"date\"] <= \"2021-01-07\")]\n",
    "# Puis tu refais X, y, split, etc. sur data_short\n",
    "\n",
    "X = dataClean[[\"total_cases\", \"location_encoded\", \"day\", \"month\", \"year\", \"total_deaths\", \"new_cases\", \"epidemic_phase\"]]\n",
    "y = data_short[\"new_deaths\"]\n",
    "\n",
    "# Supprimer toutes les lignes où X ou y contient NaN\n",
    "Xy = pd.concat([X, y], axis=1)\n",
    "Xy = Xy.dropna()\n",
    "X = Xy[X.columns]\n",
    "y = Xy[y.name]\n",
    "\n",
    "X_train, X_test, y_train, y_test = train_test_split(X, y, test_size=0.2, random_state=42)\n",
    "y_train = y_train.loc[X_train.index]\n",
    "\n",
    "model = RandomForestRegressor(random_state=42)\n",
    "model.fit(X_train, y_train)\n",
    "\n",
    "y_pred = model.predict(X_test)\n",
    "\n",
    "print(\"Moyenne erreur pred et test :\", mean_absolute_error(y_test, y_pred))\n",
    "print(\"Coefficient de qualité :\", r2_score(y_test, y_pred))\n",
    "\n"
   ]
  },
  {
   "cell_type": "code",
   "execution_count": null,
   "id": "e1eb03b7",
   "metadata": {},
   "outputs": [
    {
     "name": "stdout",
     "output_type": "stream",
     "text": [
      "Erreur relative cas mondiaux pour une semaine : 39.97%\n"
     ]
    },
    {
     "ename": "",
     "evalue": "",
     "output_type": "error",
     "traceback": [
      "\u001b[1;31mnotebook controller is DISPOSED. \n",
      "\u001b[1;31mPour plus d’informations, consultez Jupyter <a href='command:jupyter.viewOutput'>log</a>."
     ]
    }
   ],
   "source": [
    "mae = mean_absolute_error(y_test, y_pred)\n",
    "mean_real = y_test.mean()\n",
    "print(f\"Erreur relative cas mondiaux pour une semaine : {mae/mean_real:.2%}\")"
   ]
  },
  {
   "cell_type": "markdown",
   "id": "d5653814",
   "metadata": {},
   "source": [
    "## Split par date deux semaines"
   ]
  },
  {
   "cell_type": "code",
   "execution_count": null,
   "id": "22e4d947",
   "metadata": {},
   "outputs": [
    {
     "name": "stdout",
     "output_type": "stream",
     "text": [
      "Moyenne erreur pred et test : 64.21487663280116\n",
      "Coefficient de qualité : 0.9463292184645623\n"
     ]
    },
    {
     "ename": "",
     "evalue": "",
     "output_type": "error",
     "traceback": [
      "\u001b[1;31mnotebook controller is DISPOSED. \n",
      "\u001b[1;31mPour plus d’informations, consultez Jupyter <a href='command:jupyter.viewOutput'>log</a>."
     ]
    }
   ],
   "source": [
    "# Exemple pour filtrer sur une semaine\n",
    "data_short = dataClean[(dataClean[\"date\"] >= \"2021-01-01\") & (dataClean[\"date\"] <= \"2021-01-14\")]\n",
    "# Puis tu refais X, y, split, etc. sur data_short\n",
    "\n",
    "X = dataClean[[\"total_cases\", \"location_encoded\", \"day\", \"month\", \"year\", \"total_deaths\", \"new_cases\", \"epidemic_phase\"]]\n",
    "y = data_short[\"new_deaths\"]\n",
    "\n",
    "# Supprimer toutes les lignes où X ou y contient NaN\n",
    "Xy = pd.concat([X, y], axis=1)\n",
    "Xy = Xy.dropna()\n",
    "X = Xy[X.columns]\n",
    "y = Xy[y.name]\n",
    "\n",
    "X_train, X_test, y_train, y_test = train_test_split(X, y, test_size=0.2, random_state=42)\n",
    "y_train = y_train.loc[X_train.index]\n",
    "\n",
    "model = RandomForestRegressor(random_state=42)\n",
    "model.fit(X_train, y_train)\n",
    "\n",
    "y_pred = model.predict(X_test)\n",
    "\n",
    "print(\"Moyenne erreur pred et test :\", mean_absolute_error(y_test, y_pred))\n",
    "print(\"Coefficient de qualité :\", r2_score(y_test, y_pred))\n",
    "\n"
   ]
  },
  {
   "cell_type": "code",
   "execution_count": null,
   "id": "2cd411c1",
   "metadata": {},
   "outputs": [
    {
     "name": "stdout",
     "output_type": "stream",
     "text": [
      "Erreur relative cas mondiaux pour deux semaines  : 18.63%\n"
     ]
    },
    {
     "ename": "",
     "evalue": "",
     "output_type": "error",
     "traceback": [
      "\u001b[1;31mnotebook controller is DISPOSED. \n",
      "\u001b[1;31mPour plus d’informations, consultez Jupyter <a href='command:jupyter.viewOutput'>log</a>."
     ]
    }
   ],
   "source": [
    "mae = mean_absolute_error(y_test, y_pred)\n",
    "mean_real = y_test.mean()\n",
    "print(f\"Erreur relative cas mondiaux pour deux semaines  : {mae/mean_real:.2%}\")"
   ]
  },
  {
   "cell_type": "markdown",
   "id": "be0a8cc7",
   "metadata": {},
   "source": [
    "## Split par date un mois"
   ]
  },
  {
   "cell_type": "code",
   "execution_count": null,
   "id": "c75ccfcf",
   "metadata": {},
   "outputs": [
    {
     "name": "stdout",
     "output_type": "stream",
     "text": [
      "Moyenne erreur pred et test : 44.487929226736554\n",
      "Coefficient de qualité : 0.99091184556411\n"
     ]
    },
    {
     "ename": "",
     "evalue": "",
     "output_type": "error",
     "traceback": [
      "\u001b[1;31mnotebook controller is DISPOSED. \n",
      "\u001b[1;31mPour plus d’informations, consultez Jupyter <a href='command:jupyter.viewOutput'>log</a>."
     ]
    }
   ],
   "source": [
    "# Exemple pour filtrer sur une semaine\n",
    "data_short = dataClean[(dataClean[\"date\"] >= \"2021-01-01\") & (dataClean[\"date\"] <= \"2021-01-31\")]\n",
    "# Puis tu refais X, y, split, etc. sur data_short\n",
    "\n",
    "X = dataClean[[\"total_cases\", \"location_encoded\", \"day\", \"month\", \"year\", \"total_deaths\", \"new_cases\", \"epidemic_phase\"]]\n",
    "y = data_short[\"new_deaths\"]\n",
    "\n",
    "# Supprimer toutes les lignes où X ou y contient NaN\n",
    "Xy = pd.concat([X, y], axis=1)\n",
    "Xy = Xy.dropna()\n",
    "X = Xy[X.columns]\n",
    "y = Xy[y.name]\n",
    "\n",
    "X_train, X_test, y_train, y_test = train_test_split(X, y, test_size=0.2, random_state=42)\n",
    "y_train = y_train.loc[X_train.index]\n",
    "\n",
    "model = RandomForestRegressor(random_state=42)\n",
    "model.fit(X_train, y_train)\n",
    "\n",
    "y_pred = model.predict(X_test)\n",
    "\n",
    "print(\"Moyenne erreur pred et test :\", mean_absolute_error(y_test, y_pred))\n",
    "print(\"Coefficient de qualité :\", r2_score(y_test, y_pred))\n",
    "\n"
   ]
  },
  {
   "cell_type": "code",
   "execution_count": null,
   "id": "cb63f8e8",
   "metadata": {},
   "outputs": [
    {
     "name": "stdout",
     "output_type": "stream",
     "text": [
      "Erreur relative pour un mois : 12.52%\n"
     ]
    },
    {
     "ename": "",
     "evalue": "",
     "output_type": "error",
     "traceback": [
      "\u001b[1;31mnotebook controller is DISPOSED. \n",
      "\u001b[1;31mPour plus d’informations, consultez Jupyter <a href='command:jupyter.viewOutput'>log</a>."
     ]
    }
   ],
   "source": [
    "mae = mean_absolute_error(y_test, y_pred)\n",
    "mean_real = y_test.mean()\n",
    "print(f\"Erreur relative pour un mois : {mae/mean_real:.2%}\")"
   ]
  },
  {
   "cell_type": "code",
   "execution_count": null,
   "id": "7fd27b52",
   "metadata": {},
   "outputs": [
    {
     "data": {
      "application/vnd.microsoft.datawrangler.viewer.v0+json": {
       "columns": [
        {
         "name": "location",
         "rawType": "object",
         "type": "string"
        },
        {
         "name": "count",
         "rawType": "int64",
         "type": "integer"
        }
       ],
       "ref": "6972e323-d019-4502-a3ab-3545f9906570",
       "rows": [
        [
         "High-income countries",
         "3026"
        ],
        [
         "European Union (27)",
         "3024"
        ],
        [
         "Upper-middle-income countries",
         "3013"
        ],
        [
         "Lower-middle-income countries",
         "2983"
        ],
        [
         "Low-income countries",
         "2724"
        ],
        [
         "East Timor",
         "2688"
        ],
        [
         "Faroe Islands",
         "2068"
        ],
        [
         "Lithuania",
         "1684"
        ],
        [
         "Europe",
         "1684"
        ],
        [
         "Malaysia",
         "1684"
        ],
        [
         "World",
         "1684"
        ],
        [
         "Asia",
         "1684"
        ],
        [
         "India",
         "1682"
        ],
        [
         "Estonia",
         "1682"
        ],
        [
         "Czechia",
         "1682"
        ],
        [
         "Oceania",
         "1681"
        ],
        [
         "New Zealand",
         "1681"
        ],
        [
         "Argentina",
         "1678"
        ],
        [
         "Mexico",
         "1678"
        ],
        [
         "Italy",
         "1677"
        ]
       ],
       "shape": {
        "columns": 1,
        "rows": 20
       }
      },
      "text/plain": [
       "location\n",
       "High-income countries            3026\n",
       "European Union (27)              3024\n",
       "Upper-middle-income countries    3013\n",
       "Lower-middle-income countries    2983\n",
       "Low-income countries             2724\n",
       "East Timor                       2688\n",
       "Faroe Islands                    2068\n",
       "Lithuania                        1684\n",
       "Europe                           1684\n",
       "Malaysia                         1684\n",
       "World                            1684\n",
       "Asia                             1684\n",
       "India                            1682\n",
       "Estonia                          1682\n",
       "Czechia                          1682\n",
       "Oceania                          1681\n",
       "New Zealand                      1681\n",
       "Argentina                        1678\n",
       "Mexico                           1678\n",
       "Italy                            1677\n",
       "Name: count, dtype: int64"
      ]
     },
     "execution_count": 21,
     "metadata": {},
     "output_type": "execute_result"
    },
    {
     "ename": "",
     "evalue": "",
     "output_type": "error",
     "traceback": [
      "\u001b[1;31mnotebook controller is DISPOSED. \n",
      "\u001b[1;31mPour plus d’informations, consultez Jupyter <a href='command:jupyter.viewOutput'>log</a>."
     ]
    }
   ],
   "source": [
    "dataClean['location'].value_counts().head(20)"
   ]
  },
  {
   "cell_type": "markdown",
   "id": "aa884acc",
   "metadata": {},
   "source": [
    "## Split par date cas mondiaux "
   ]
  },
  {
   "cell_type": "code",
   "execution_count": null,
   "id": "d106382b",
   "metadata": {},
   "outputs": [
    {
     "name": "stdout",
     "output_type": "stream",
     "text": [
      "Moyenne erreur pred et test : 80.31724637681158\n",
      "Coefficient de qualité : 0.8615420769792949\n"
     ]
    },
    {
     "ename": "",
     "evalue": "",
     "output_type": "error",
     "traceback": [
      "\u001b[1;31mnotebook controller is DISPOSED. \n",
      "\u001b[1;31mPour plus d’informations, consultez Jupyter <a href='command:jupyter.viewOutput'>log</a>."
     ]
    }
   ],
   "source": [
    "# Exemple pour filtrer sur une semaine\n",
    "data_short = dataClean[(dataClean[\"date\"] >= \"2021-01-01\") & (dataClean[\"date\"] <= \"2021-01-07\")]\n",
    "# Puis tu refais X, y, split, etc. sur data_short\n",
    "\n",
    "X = dataClean[[\"total_cases\", \"location_encoded\", \"day\", \"month\", \"year\", \"total_deaths\", \"new_cases\", \"epidemic_phase\"]]\n",
    "y = data_short[\"new_deaths\"]\n",
    "\n",
    "# Supprimer toutes les lignes où X ou y contient NaN\n",
    "Xy = pd.concat([X, y], axis=1)\n",
    "Xy = Xy.dropna()\n",
    "X = Xy[X.columns]\n",
    "y = Xy[y.name]\n",
    "\n",
    "X_train, X_test, y_train, y_test = train_test_split(X, y, test_size=0.2, random_state=42)\n",
    "y_train = y_train.loc[X_train.index]\n",
    "\n",
    "model = RandomForestRegressor(random_state=42)\n",
    "model.fit(X_train, y_train)\n",
    "\n",
    "y_pred = model.predict(X_test)\n",
    "\n",
    "print(\"Moyenne erreur pred et test :\", mean_absolute_error(y_test, y_pred))\n",
    "print(\"Coefficient de qualité :\", r2_score(y_test, y_pred))\n"
   ]
  },
  {
   "cell_type": "code",
   "execution_count": null,
   "id": "65437259",
   "metadata": {},
   "outputs": [
    {
     "name": "stdout",
     "output_type": "stream",
     "text": [
      "Moyenne des décès réels : 200.9536231884058\n",
      "Médiane des décès réels : 0.0\n"
     ]
    },
    {
     "ename": "",
     "evalue": "",
     "output_type": "error",
     "traceback": [
      "\u001b[1;31mnotebook controller is DISPOSED. \n",
      "\u001b[1;31mPour plus d’informations, consultez Jupyter <a href='command:jupyter.viewOutput'>log</a>."
     ]
    }
   ],
   "source": [
    "print(\"Moyenne des décès réels :\", y_test.mean())\n",
    "print(\"Médiane des décès réels :\", y_test.median())"
   ]
  },
  {
   "cell_type": "code",
   "execution_count": null,
   "id": "a4fc57cc",
   "metadata": {},
   "outputs": [
    {
     "name": "stdout",
     "output_type": "stream",
     "text": [
      "Erreur relative split par date cas mondiaux 7 jours janvier 2021 : 39.97%\n"
     ]
    },
    {
     "ename": "",
     "evalue": "",
     "output_type": "error",
     "traceback": [
      "\u001b[1;31mnotebook controller is DISPOSED. \n",
      "\u001b[1;31mPour plus d’informations, consultez Jupyter <a href='command:jupyter.viewOutput'>log</a>."
     ]
    }
   ],
   "source": [
    "mae = mean_absolute_error(y_test, y_pred)\n",
    "mean_real = y_test.mean()\n",
    "print(f\"Erreur relative split par date cas mondiaux 7 jours janvier 2021 : {mae/mean_real:.2%}\")"
   ]
  },
  {
   "cell_type": "markdown",
   "id": "8d3dfdc8",
   "metadata": {},
   "source": [
    "## Exprimer au modèle la tendance ascendante et descandante des varations"
   ]
  },
  {
   "cell_type": "code",
   "execution_count": null,
   "id": "1e1a8805",
   "metadata": {},
   "outputs": [
    {
     "ename": "",
     "evalue": "",
     "output_type": "error",
     "traceback": [
      "\u001b[1;31mnotebook controller is DISPOSED. \n",
      "\u001b[1;31mPour plus d’informations, consultez Jupyter <a href='command:jupyter.viewOutput'>log</a>."
     ]
    }
   ],
   "source": [
    "# Ajouter features pour apprendre au modèle l'indicateur des tendances de variations éppidémique\n",
    "dataClean['days_since_start'] = (dataClean['date'] - dataClean['date'].min()).dt.days\n",
    "dataClean['new_cases_rolling7'] = dataClean['new_cases'].rolling(window=7).mean()\n",
    "dataClean['trend_new_cases'] = dataClean['new_cases'].diff(periods=7)"
   ]
  },
  {
   "cell_type": "code",
   "execution_count": null,
   "id": "fd16953a",
   "metadata": {},
   "outputs": [
    {
     "name": "stdout",
     "output_type": "stream",
     "text": [
      "Moyenne erreur pred et test : 77.9836811594203\n",
      "Coefficient de qualité : 0.87177012426084\n"
     ]
    },
    {
     "ename": "",
     "evalue": "",
     "output_type": "error",
     "traceback": [
      "\u001b[1;31mnotebook controller is DISPOSED. \n",
      "\u001b[1;31mPour plus d’informations, consultez Jupyter <a href='command:jupyter.viewOutput'>log</a>."
     ]
    }
   ],
   "source": [
    "# Ajoute les nouvelles colonnes dans X\n",
    "X = dataClean[[\n",
    "    \"total_cases\",\n",
    "    \"location_encoded\",\n",
    "    \"day\",\n",
    "    \"month\",\n",
    "    \"year\",\n",
    "    \"total_deaths\",\n",
    "    \"new_cases\",\n",
    "    \"days_since_start\",\n",
    "    \"new_cases_rolling7\",\n",
    "    \"trend_new_cases\", \n",
    "    \"epidemic_phase\"\n",
    "]]\n",
    "\n",
    "\n",
    "# Supprimer toutes les lignes où X ou y contient NaN (important à cause des rolling/diff)\n",
    "Xy = pd.concat([X, y], axis=1)\n",
    "Xy = Xy.dropna()\n",
    "X = Xy[X.columns]\n",
    "y = Xy[y.name]\n",
    "\n",
    "# Split, entraînement et prédiction comme avant\n",
    "X_train, X_test, y_train, y_test = train_test_split(X, y, test_size=0.2, random_state=42)\n",
    "model = RandomForestRegressor(random_state=42)\n",
    "model.fit(X_train, y_train)\n",
    "y_pred = model.predict(X_test)\n",
    "\n",
    "print(\"Moyenne erreur pred et test :\", mean_absolute_error(y_test, y_pred))\n",
    "print(\"Coefficient de qualité :\", r2_score(y_test, y_pred))"
   ]
  },
  {
   "cell_type": "code",
   "execution_count": null,
   "id": "48a6b6aa",
   "metadata": {},
   "outputs": [
    {
     "name": "stdout",
     "output_type": "stream",
     "text": [
      "Moyenne des décès réels : 200.9536231884058\n",
      "Médiane des décès réels : 0.0\n"
     ]
    },
    {
     "ename": "",
     "evalue": "",
     "output_type": "error",
     "traceback": [
      "\u001b[1;31mnotebook controller is DISPOSED. \n",
      "\u001b[1;31mPour plus d’informations, consultez Jupyter <a href='command:jupyter.viewOutput'>log</a>."
     ]
    }
   ],
   "source": [
    "print(\"Moyenne des décès réels :\", y_test.mean())\n",
    "print(\"Médiane des décès réels :\", y_test.median())"
   ]
  },
  {
   "cell_type": "code",
   "execution_count": null,
   "id": "e8d6f9eb",
   "metadata": {},
   "outputs": [
    {
     "name": "stdout",
     "output_type": "stream",
     "text": [
      "Erreur relative cas mondiaux avec nouvelles features : 38.81%\n"
     ]
    },
    {
     "ename": "",
     "evalue": "",
     "output_type": "error",
     "traceback": [
      "\u001b[1;31mnotebook controller is DISPOSED. \n",
      "\u001b[1;31mPour plus d’informations, consultez Jupyter <a href='command:jupyter.viewOutput'>log</a>."
     ]
    }
   ],
   "source": [
    "mae = mean_absolute_error(y_test, y_pred)\n",
    "mean_real = y_test.mean()\n",
    "print(f\"Erreur relative cas mondiaux avec nouvelles features : {mae/mean_real:.2%}\")"
   ]
  },
  {
   "cell_type": "markdown",
   "id": "6f7a2ef5",
   "metadata": {},
   "source": [
    "## Split par date une semaine nouvelles features"
   ]
  },
  {
   "cell_type": "code",
   "execution_count": null,
   "id": "2b0dafe0",
   "metadata": {},
   "outputs": [
    {
     "name": "stdout",
     "output_type": "stream",
     "text": [
      "Moyenne erreur pred et test : 77.9836811594203\n",
      "Coefficient de qualité : 0.87177012426084\n"
     ]
    },
    {
     "ename": "",
     "evalue": "",
     "output_type": "error",
     "traceback": [
      "\u001b[1;31mnotebook controller is DISPOSED. \n",
      "\u001b[1;31mPour plus d’informations, consultez Jupyter <a href='command:jupyter.viewOutput'>log</a>."
     ]
    }
   ],
   "source": [
    "# Exemple pour filtrer sur une semaine\n",
    "data_short = dataClean[(dataClean[\"date\"] >= \"2021-01-01\") & (dataClean[\"date\"] <= \"2021-01-07\")]\n",
    "# Puis tu refais X, y, split, etc. sur data_short\n",
    "\n",
    "X = dataClean[[\n",
    "    \"total_cases\",\n",
    "    \"location_encoded\",\n",
    "    \"day\",\n",
    "    \"month\",\n",
    "    \"year\",\n",
    "    \"total_deaths\",\n",
    "    \"new_cases\",\n",
    "    \"days_since_start\",\n",
    "    \"new_cases_rolling7\",\n",
    "    \"trend_new_cases\", \n",
    "    \"epidemic_phase\"\n",
    "]]\n",
    "y = data_short[\"new_deaths\"]\n",
    "\n",
    "# Supprimer toutes les lignes où X ou y contient NaN\n",
    "Xy = pd.concat([X, y], axis=1)\n",
    "Xy = Xy.dropna()\n",
    "X = Xy[X.columns]\n",
    "y = Xy[y.name]\n",
    "\n",
    "X_train, X_test, y_train, y_test = train_test_split(X, y, test_size=0.2, random_state=42)\n",
    "y_train = y_train.loc[X_train.index]\n",
    "\n",
    "model = RandomForestRegressor(random_state=42)\n",
    "model.fit(X_train, y_train)\n",
    "\n",
    "y_pred = model.predict(X_test)\n",
    "\n",
    "print(\"Moyenne erreur pred et test :\", mean_absolute_error(y_test, y_pred))\n",
    "print(\"Coefficient de qualité :\", r2_score(y_test, y_pred))\n",
    "\n"
   ]
  },
  {
   "cell_type": "code",
   "execution_count": null,
   "id": "b1fecdfd",
   "metadata": {},
   "outputs": [
    {
     "name": "stdout",
     "output_type": "stream",
     "text": [
      "Erreur relative cas mondiaux avec nouvelles features : 38.81%\n"
     ]
    },
    {
     "ename": "",
     "evalue": "",
     "output_type": "error",
     "traceback": [
      "\u001b[1;31mnotebook controller is DISPOSED. \n",
      "\u001b[1;31mPour plus d’informations, consultez Jupyter <a href='command:jupyter.viewOutput'>log</a>."
     ]
    }
   ],
   "source": [
    "mae = mean_absolute_error(y_test, y_pred)\n",
    "mean_real = y_test.mean()\n",
    "print(f\"Erreur relative cas mondiaux avec nouvelles features : {mae/mean_real:.2%}\")"
   ]
  },
  {
   "cell_type": "markdown",
   "id": "0cd730a2",
   "metadata": {},
   "source": [
    "## Split par date deux semaines nouveau DataFrame"
   ]
  },
  {
   "cell_type": "code",
   "execution_count": null,
   "id": "b6289078",
   "metadata": {},
   "outputs": [
    {
     "name": "stdout",
     "output_type": "stream",
     "text": [
      "Moyenne erreur pred et test : 69.86265602322206\n",
      "Coefficient de qualité : 0.9388681275336339\n"
     ]
    },
    {
     "ename": "",
     "evalue": "",
     "output_type": "error",
     "traceback": [
      "\u001b[1;31mnotebook controller is DISPOSED. \n",
      "\u001b[1;31mPour plus d’informations, consultez Jupyter <a href='command:jupyter.viewOutput'>log</a>."
     ]
    }
   ],
   "source": [
    "# Exemple pour filtrer sur une semaine\n",
    "data_short = dataClean[(dataClean[\"date\"] >= \"2021-01-01\") & (dataClean[\"date\"] <= \"2021-01-14\")]\n",
    "# Puis tu refais X, y, split, etc. sur data_short\n",
    "\n",
    "X = dataClean[[\n",
    "    \"total_cases\",\n",
    "    \"location_encoded\",\n",
    "    \"day\",\n",
    "    \"month\",\n",
    "    \"year\",\n",
    "    \"total_deaths\",\n",
    "    \"new_cases\",\n",
    "    \"days_since_start\",\n",
    "    \"new_cases_rolling7\",\n",
    "    \"trend_new_cases\", \n",
    "    \"epidemic_phase\"\n",
    "]]\n",
    "y = data_short[\"new_deaths\"]\n",
    "\n",
    "# Supprimer toutes les lignes où X ou y contient NaN\n",
    "Xy = pd.concat([X, y], axis=1)\n",
    "Xy = Xy.dropna()\n",
    "X = Xy[X.columns]\n",
    "y = Xy[y.name]\n",
    "\n",
    "X_train, X_test, y_train, y_test = train_test_split(X, y, test_size=0.2, random_state=42)\n",
    "y_train = y_train.loc[X_train.index]\n",
    "\n",
    "model = RandomForestRegressor(random_state=42)\n",
    "model.fit(X_train, y_train)\n",
    "\n",
    "y_pred = model.predict(X_test)\n",
    "\n",
    "print(\"Moyenne erreur pred et test :\", mean_absolute_error(y_test, y_pred))\n",
    "print(\"Coefficient de qualité :\", r2_score(y_test, y_pred))\n",
    "\n"
   ]
  },
  {
   "cell_type": "code",
   "execution_count": null,
   "id": "618a8112",
   "metadata": {},
   "outputs": [
    {
     "name": "stdout",
     "output_type": "stream",
     "text": [
      "Erreur relative cas mondiaux avec nouvelles features : 20.27%\n"
     ]
    },
    {
     "ename": "",
     "evalue": "",
     "output_type": "error",
     "traceback": [
      "\u001b[1;31mnotebook controller is DISPOSED. \n",
      "\u001b[1;31mPour plus d’informations, consultez Jupyter <a href='command:jupyter.viewOutput'>log</a>."
     ]
    }
   ],
   "source": [
    "mae = mean_absolute_error(y_test, y_pred)\n",
    "mean_real = y_test.mean()\n",
    "print(f\"Erreur relative cas mondiaux avec nouvelles features : {mae/mean_real:.2%}\")"
   ]
  },
  {
   "cell_type": "markdown",
   "id": "cae3f410",
   "metadata": {},
   "source": [
    "## Split par date 1 mois nouveau DataFrame"
   ]
  },
  {
   "cell_type": "code",
   "execution_count": null,
   "id": "0dc0cb56",
   "metadata": {},
   "outputs": [
    {
     "name": "stdout",
     "output_type": "stream",
     "text": [
      "Moyenne erreur pred et test : 23.499041269841275\n",
      "Coefficient de qualité : 0.9949098063710058\n"
     ]
    },
    {
     "ename": "",
     "evalue": "",
     "output_type": "error",
     "traceback": [
      "\u001b[1;31mnotebook controller is DISPOSED. \n",
      "\u001b[1;31mPour plus d’informations, consultez Jupyter <a href='command:jupyter.viewOutput'>log</a>."
     ]
    }
   ],
   "source": [
    "# Exemple pour filtrer sur une semaine\n",
    "data_short = dataClean[(dataClean[\"date\"] >= \"2021-01-01\") & (dataClean[\"date\"] <= \"2021-02-01\")]\n",
    "# Puis tu refais X, y, split, etc. sur data_short\n",
    "\n",
    "X = dataClean[[\n",
    "    \"total_cases\",\n",
    "    \"location_encoded\",\n",
    "    \"day\",\n",
    "    \"month\",\n",
    "    \"year\",\n",
    "    \"total_deaths\",\n",
    "    \"new_cases\",\n",
    "    \"days_since_start\",\n",
    "    \"new_cases_rolling7\",\n",
    "    \"trend_new_cases\", \n",
    "    \"epidemic_phase\"\n",
    "]]\n",
    "y = data_short[\"new_deaths\"]\n",
    "\n",
    "# Supprimer toutes les lignes où X ou y contient NaN\n",
    "Xy = pd.concat([X, y], axis=1)\n",
    "Xy = Xy.dropna()\n",
    "X = Xy[X.columns]\n",
    "y = Xy[y.name]\n",
    "\n",
    "X_train, X_test, y_train, y_test = train_test_split(X, y, test_size=0.2, random_state=42)\n",
    "y_train = y_train.loc[X_train.index]\n",
    "\n",
    "model = RandomForestRegressor(random_state=42)\n",
    "model.fit(X_train, y_train)\n",
    "\n",
    "y_pred = model.predict(X_test)\n",
    "\n",
    "print(\"Moyenne erreur pred et test :\", mean_absolute_error(y_test, y_pred))\n",
    "print(\"Coefficient de qualité :\", r2_score(y_test, y_pred))\n",
    "\n"
   ]
  },
  {
   "cell_type": "code",
   "execution_count": null,
   "id": "44971f3c",
   "metadata": {},
   "outputs": [
    {
     "name": "stdout",
     "output_type": "stream",
     "text": [
      "Erreur relative cas mondiaux avec nouvelles features : 9.76%\n"
     ]
    },
    {
     "ename": "",
     "evalue": "",
     "output_type": "error",
     "traceback": [
      "\u001b[1;31mnotebook controller is DISPOSED. \n",
      "\u001b[1;31mPour plus d’informations, consultez Jupyter <a href='command:jupyter.viewOutput'>log</a>."
     ]
    }
   ],
   "source": [
    "mae = mean_absolute_error(y_test, y_pred)\n",
    "mean_real = y_test.mean()\n",
    "print(f\"Erreur relative cas mondiaux avec nouvelles features : {mae/mean_real:.2%}\")"
   ]
  },
  {
   "cell_type": "markdown",
   "id": "c20627a4",
   "metadata": {},
   "source": [
    "## Split année 2021"
   ]
  },
  {
   "cell_type": "code",
   "execution_count": null,
   "id": "47a407e7",
   "metadata": {},
   "outputs": [
    {
     "name": "stdout",
     "output_type": "stream",
     "text": [
      "Moyenne erreur pred et test : 69.86265602322206\n",
      "Coefficient de qualité : 0.9388681275336339\n"
     ]
    },
    {
     "ename": "",
     "evalue": "",
     "output_type": "error",
     "traceback": [
      "\u001b[1;31mnotebook controller is DISPOSED. \n",
      "\u001b[1;31mPour plus d’informations, consultez Jupyter <a href='command:jupyter.viewOutput'>log</a>."
     ]
    }
   ],
   "source": [
    "\n",
    "# Exemple pour filtrer sur une semaine\n",
    "data_short = dataClean[(dataClean[\"date\"] >= \"2021-01-01\") & (dataClean[\"date\"] <= \"2021-01-14\")]\n",
    "# Puis tu refais X, y, split, etc. sur data_short\n",
    "\n",
    "X = dataClean[[\n",
    "    \"total_cases\",\n",
    "    \"location_encoded\",\n",
    "    \"day\",\n",
    "    \"month\",\n",
    "    \"year\",\n",
    "    \"total_deaths\",\n",
    "    \"new_cases\",\n",
    "    \"days_since_start\",\n",
    "    \"new_cases_rolling7\",\n",
    "    \"trend_new_cases\", \n",
    "    \"epidemic_phase\"\n",
    "]]\n",
    "y = data_short[\"new_deaths\"]\n",
    "\n",
    "# Supprimer toutes les lignes où X ou y contient NaN\n",
    "Xy = pd.concat([X, y], axis=1)\n",
    "Xy = Xy.dropna()\n",
    "X = Xy[X.columns]\n",
    "y = Xy[y.name]\n",
    "\n",
    "X_train, X_test, y_train, y_test = train_test_split(X, y, test_size=0.2, random_state=42)\n",
    "y_train = y_train.loc[X_train.index]\n",
    "\n",
    "model = RandomForestRegressor(random_state=42)\n",
    "model.fit(X_train, y_train)\n",
    "\n",
    "y_pred = model.predict(X_test)\n",
    "\n",
    "print(\"Moyenne erreur pred et test :\", mean_absolute_error(y_test, y_pred))\n",
    "print(\"Coefficient de qualité :\", r2_score(y_test, y_pred))\n",
    "\n"
   ]
  },
  {
   "cell_type": "code",
   "execution_count": null,
   "id": "baa29235",
   "metadata": {},
   "outputs": [
    {
     "name": "stdout",
     "output_type": "stream",
     "text": [
      "Erreur relative cas mondiaux avec nouvelles features année 2021 : 20.27%\n"
     ]
    },
    {
     "ename": "",
     "evalue": "",
     "output_type": "error",
     "traceback": [
      "\u001b[1;31mnotebook controller is DISPOSED. \n",
      "\u001b[1;31mPour plus d’informations, consultez Jupyter <a href='command:jupyter.viewOutput'>log</a>."
     ]
    }
   ],
   "source": [
    "\n",
    "mae = mean_absolute_error(y_test, y_pred)\n",
    "mean_real = y_test.mean()\n",
    "print(f\"Erreur relative cas mondiaux avec nouvelles features année 2021 : {mae/mean_real:.2%}\")"
   ]
  },
  {
   "cell_type": "code",
   "execution_count": null,
   "id": "cb4a397f",
   "metadata": {},
   "outputs": [
    {
     "name": "stdout",
     "output_type": "stream",
     "text": [
      "\n",
      "Période : 2021-01\n",
      "Moyenne erreur pred et test : 46.32468545216252\n",
      "Coefficient de qualité : 0.9892879946182924\n",
      "Erreur relative : 13.04%\n",
      "\n",
      "Période : 2021-05\n",
      "Moyenne erreur pred et test : 34.88040026246719\n",
      "Coefficient de qualité : 0.9761291702443037\n",
      "Erreur relative : 14.33%\n",
      "\n",
      "Période : 2020-12\n",
      "Moyenne erreur pred et test : 62.484364351245084\n",
      "Coefficient de qualité : 0.9580046932741888\n",
      "Erreur relative : 20.91%\n"
     ]
    },
    {
     "ename": "",
     "evalue": "",
     "output_type": "error",
     "traceback": [
      "\u001b[1;31mnotebook controller is DISPOSED. \n",
      "\u001b[1;31mPour plus d’informations, consultez Jupyter <a href='command:jupyter.viewOutput'>log</a>."
     ]
    }
   ],
   "source": [
    "# Analyse sur les 3 mois avec le plus de décès\n",
    "\n",
    "dataClean['month_year'] = dataClean['date'].dt.to_period('M')\n",
    "top_months = dataClean.groupby('month_year')['new_deaths'].sum().sort_values(ascending=False).head(3).index\n",
    "\n",
    "for period in top_months:\n",
    "    start = period.start_time\n",
    "    end = period.end_time\n",
    "    data_short = dataClean[(dataClean[\"date\"] >= start) & (dataClean[\"date\"] <= end)]\n",
    "\n",
    "    X = data_short[[\n",
    "        \"total_cases\", \"location_encoded\", \"day\", \"month\", \"year\",\n",
    "        \"total_deaths\", \"new_cases\", \"days_since_start\", \"new_cases_rolling7\", \"trend_new_cases\", \"epidemic_phase\"\n",
    "    ]]\n",
    "    y = data_short[\"new_deaths\"]\n",
    "\n",
    "    Xy = pd.concat([X, y], axis=1).dropna()\n",
    "    X = Xy[X.columns]\n",
    "    y = Xy[y.name]\n",
    "\n",
    "    if len(X) > 0 and len(y.unique()) > 1:\n",
    "        X_train, X_test, y_train, y_test = train_test_split(X, y, test_size=0.2, random_state=42)\n",
    "        model = RandomForestRegressor(random_state=42)\n",
    "        model.fit(X_train, y_train)\n",
    "        y_pred = model.predict(X_test)\n",
    "        print(f\"\\nPériode : {period}\")\n",
    "        print(\"Moyenne erreur pred et test :\", mean_absolute_error(y_test, y_pred))\n",
    "        print(\"Coefficient de qualité :\", r2_score(y_test, y_pred))\n",
    "        print(f\"Erreur relative : {mean_absolute_error(y_test, y_pred)/y_test.mean():.2%}\")\n",
    "    else:\n",
    "        print(f\"\\nPériode : {period} -- Pas assez de données pour entraîner le modèle.\")"
   ]
  },
  {
   "cell_type": "markdown",
   "id": "846e4c82",
   "metadata": {},
   "source": [
    "## Split sur l'année 2022 nouveau DataFrame"
   ]
  },
  {
   "cell_type": "code",
   "execution_count": null,
   "id": "930a263c",
   "metadata": {},
   "outputs": [
    {
     "name": "stdout",
     "output_type": "stream",
     "text": [
      "Moyenne erreur pred et test : 10.745907090736923\n",
      "Coefficient de qualité : 0.9576746152270582\n",
      "Erreur relative cas mondiaux avec nouvelles features année 2022 : 21.50%\n"
     ]
    },
    {
     "ename": "",
     "evalue": "",
     "output_type": "error",
     "traceback": [
      "\u001b[1;31mnotebook controller is DISPOSED. \n",
      "\u001b[1;31mPour plus d’informations, consultez Jupyter <a href='command:jupyter.viewOutput'>log</a>."
     ]
    }
   ],
   "source": [
    "#filtrer sur 2022\n",
    "data_short = dataClean[(dataClean[\"date\"] >= \"2022-01-01\") & (dataClean[\"date\"] <= \"2022-12-31\")]\n",
    "# Puis tu refais X, y, split, etc. sur data_short\n",
    "\n",
    "X = data_short[[\n",
    "    \"total_cases\",\n",
    "    \"location_encoded\",\n",
    "    \"day\",\n",
    "    \"month\",\n",
    "    \"year\",\n",
    "    \"total_deaths\",\n",
    "    \"new_cases\",\n",
    "    \"days_since_start\",\n",
    "    \"new_cases_rolling7\",\n",
    "    \"trend_new_cases\",\n",
    "    \"epidemic_phase\"\n",
    "]]\n",
    "y = data_short[\"new_deaths\"]\n",
    "\n",
    "# Supprimer toutes les lignes où X ou y contient NaN\n",
    "Xy = pd.concat([X, y], axis=1)\n",
    "Xy = Xy.dropna()\n",
    "X = Xy[X.columns]\n",
    "y = Xy[y.name]\n",
    "\n",
    "X_train, X_test, y_train, y_test = train_test_split(X, y, test_size=0.2, random_state=42)\n",
    "y_train = y_train.loc[X_train.index]\n",
    "\n",
    "model = RandomForestRegressor(random_state=42)\n",
    "model.fit(X_train, y_train)\n",
    "\n",
    "y_pred = model.predict(X_test)\n",
    "\n",
    "print(\"Moyenne erreur pred et test :\", mean_absolute_error(y_test, y_pred))\n",
    "print(\"Coefficient de qualité :\", r2_score(y_test, y_pred))\n",
    "\n",
    "\n",
    "\n",
    "mae = mean_absolute_error(y_test, y_pred)\n",
    "mean_real = y_test.mean()\n",
    "print(f\"Erreur relative cas mondiaux avec nouvelles features année 2022 : {mae/mean_real:.2%}\")"
   ]
  },
  {
   "cell_type": "markdown",
   "id": "ef8abd3d",
   "metadata": {},
   "source": [
    "## Split sur l'année 2023 nouveau DataFrame"
   ]
  },
  {
   "cell_type": "code",
   "execution_count": null,
   "id": "96a17e14",
   "metadata": {},
   "outputs": [
    {
     "name": "stdout",
     "output_type": "stream",
     "text": [
      "Moyenne erreur pred et test : 7.266508739391895\n",
      "Coefficient de qualité : 0.7317033223809807\n",
      "Erreur relative  cas mondiaux année 2023 : 48.66%\n"
     ]
    },
    {
     "ename": "",
     "evalue": "",
     "output_type": "error",
     "traceback": [
      "\u001b[1;31mnotebook controller is DISPOSED. \n",
      "\u001b[1;31mPour plus d’informations, consultez Jupyter <a href='command:jupyter.viewOutput'>log</a>."
     ]
    }
   ],
   "source": [
    "#filtrer sur 2023\n",
    "data_short = dataClean[(dataClean[\"date\"] >= \"2023-01-01\") & (dataClean[\"date\"] <= \"2023-12-31\")]\n",
    "# Puis tu refais X, y, split, etc. sur data_short\n",
    "\n",
    "X = data_short[[\n",
    "    \"total_cases\",\n",
    "    \"location_encoded\",\n",
    "    \"day\",\n",
    "    \"month\",\n",
    "    \"year\",\n",
    "    \"total_deaths\",\n",
    "    \"new_cases\",\n",
    "    \"days_since_start\",\n",
    "    \"new_cases_rolling7\",\n",
    "    \"trend_new_cases\",\n",
    "    \"epidemic_phase\"\n",
    "]]\n",
    "y = data_short[\"new_deaths\"]\n",
    "\n",
    "# Supprimer toutes les lignes où X ou y contient NaN\n",
    "Xy = pd.concat([X, y], axis=1)\n",
    "Xy = Xy.dropna()\n",
    "X = Xy[X.columns]\n",
    "y = Xy[y.name]\n",
    "\n",
    "X_train, X_test, y_train, y_test = train_test_split(X, y, test_size=0.2, random_state=42)\n",
    "y_train = y_train.loc[X_train.index]\n",
    "\n",
    "model = RandomForestRegressor(random_state=42)\n",
    "model.fit(X_train, y_train)\n",
    "\n",
    "y_pred = model.predict(X_test)\n",
    "\n",
    "print(\"Moyenne erreur pred et test :\", mean_absolute_error(y_test, y_pred))\n",
    "print(\"Coefficient de qualité :\", r2_score(y_test, y_pred))\n",
    "\n",
    "\n",
    "\n",
    "mae = mean_absolute_error(y_test, y_pred)\n",
    "mean_real = y_test.mean()\n",
    "print(f\"Erreur relative  cas mondiaux année 2023 : {mae/mean_real:.2%}\")"
   ]
  },
  {
   "cell_type": "code",
   "execution_count": null,
   "id": "91d2caf8",
   "metadata": {},
   "outputs": [
    {
     "name": "stdout",
     "output_type": "stream",
     "text": [
      "Première date 2023 : 2023-01-01 00:00:00\n",
      "Dernière date 2023 : 2023-12-31 00:00:00\n",
      "Nombre de jours de données en 2023 : 365\n"
     ]
    },
    {
     "ename": "",
     "evalue": "",
     "output_type": "error",
     "traceback": [
      "\u001b[1;31mnotebook controller is DISPOSED. \n",
      "\u001b[1;31mPour plus d’informations, consultez Jupyter <a href='command:jupyter.viewOutput'>log</a>."
     ]
    }
   ],
   "source": [
    "# Afficher la première et la dernière date de 2023 dans les données pour vérifier \n",
    "# si elles couvrent bien l'année complète\n",
    "dates_2023 = dataClean[dataClean[\"year\"] == 2023][\"date\"]\n",
    "print(\"Première date 2023 :\", dates_2023.min())\n",
    "print(\"Dernière date 2023 :\", dates_2023.max())\n",
    "print(\"Nombre de jours de données en 2023 :\", dates_2023.nunique())"
   ]
  },
  {
   "cell_type": "code",
   "execution_count": null,
   "id": "792ab63e",
   "metadata": {},
   "outputs": [
    {
     "name": "stdout",
     "output_type": "stream",
     "text": [
      "year\n",
      "2020    88777\n",
      "2021    89781\n",
      "2022    89764\n",
      "2023    88964\n",
      "2024    52504\n",
      "dtype: int64\n"
     ]
    },
    {
     "ename": "",
     "evalue": "",
     "output_type": "error",
     "traceback": [
      "\u001b[1;31mnotebook controller is DISPOSED. \n",
      "\u001b[1;31mPour plus d’informations, consultez Jupyter <a href='command:jupyter.viewOutput'>log</a>."
     ]
    }
   ],
   "source": [
    "# Vérifier l'équilibrage des données par année pour essayer de comprendre \n",
    "# L'erreur relative de l'année 2023\n",
    "features = [\n",
    "    \"total_cases\",\n",
    "    \"location_encoded\",\n",
    "    \"day\",\n",
    "    \"month\",\n",
    "    \"year\",\n",
    "    \"total_deaths\",\n",
    "    \"new_cases\",\n",
    "    \"days_since_start\",\n",
    "    \"new_cases_rolling7\",\n",
    "    \"trend_new_cases\",\n",
    "    \"epidemic_phase\"\n",
    "]\n",
    "\n",
    "target = \"new_deaths\"\n",
    "\n",
    "# Supprimer les lignes où une des colonnes est NaN\n",
    "data_filtered = dataClean[features + [target]].dropna()\n",
    "\n",
    "# Ajouter une colonne 'year' si elle n'existe pas encore\n",
    "if 'year' not in data_filtered.columns:\n",
    "    data_filtered['year'] = pd.to_datetime(dataClean['date']).dt.year\n",
    "\n",
    "# Compter le nombre de lignes par année\n",
    "volume_par_annee = data_filtered.groupby('year').size()\n",
    "print(volume_par_annee)\n"
   ]
  },
  {
   "cell_type": "code",
   "execution_count": null,
   "id": "085b1c7d",
   "metadata": {},
   "outputs": [
    {
     "data": {
      "image/png": "[encoded data removed]",
      "text/plain": [
       "<Figure size 640x480 with 1 Axes>"
      ]
     },
     "metadata": {},
     "output_type": "display_data"
    },
    {
     "data": {
      "image/png": "[encoded data removed]",
      "text/plain": [
       "<Figure size 640x480 with 1 Axes>"
      ]
     },
     "metadata": {},
     "output_type": "display_data"
    },
    {
     "data": {
      "image/png": "[encoded data removed]",
      "text/plain": [
       "<Figure size 640x480 with 1 Axes>"
      ]
     },
     "metadata": {},
     "output_type": "display_data"
    },
    {
     "ename": "",
     "evalue": "",
     "output_type": "error",
     "traceback": [
      "\u001b[1;31mnotebook controller is DISPOSED. \n",
      "\u001b[1;31mPour plus d’informations, consultez Jupyter <a href='command:jupyter.viewOutput'>log</a>."
     ]
    }
   ],
   "source": [
    "# Matrice pour vérfier les distributions de ces trois colonnes par année\n",
    "for col in [\"new_cases\", \"new_deaths\", \"trend_new_cases\"]:\n",
    "    sns.boxplot(data=dataClean, x=dataClean['year'], y=col)\n",
    "    plt.title(f\"Distribution de {col} par année\")\n",
    "    plt.show()"
   ]
  },
  {
   "cell_type": "code",
   "execution_count": null,
   "id": "ff675c45",
   "metadata": {},
   "outputs": [
    {
     "name": "stdout",
     "output_type": "stream",
     "text": [
      "\n",
      "Présence de total_vaccinations par année :\n",
      "year\n",
      "2020      379\n",
      "2021    38490\n",
      "2022    29708\n",
      "2023    13084\n",
      "2024     3756\n",
      "Name: total_vaccinations, dtype: int64\n",
      "\n",
      "Présence de people_vaccinated par année :\n",
      "year\n",
      "2020      373\n",
      "2021    36777\n",
      "2022    28300\n",
      "2023    12314\n",
      "2024     3368\n",
      "Name: people_vaccinated, dtype: int64\n"
     ]
    },
    {
     "ename": "",
     "evalue": "",
     "output_type": "error",
     "traceback": [
      "\u001b[1;31mnotebook controller is DISPOSED. \n",
      "\u001b[1;31mPour plus d’informations, consultez Jupyter <a href='command:jupyter.viewOutput'>log</a>."
     ]
    }
   ],
   "source": [
    "vacc_cols = [\"total_vaccinations\", \"people_vaccinated\"]\n",
    "\n",
    "for col in vacc_cols:\n",
    "    data['year'] = pd.to_datetime(data['date']).dt.year\n",
    "    yearly_counts = data[data[col].notna()].groupby(\"year\")[col].count()\n",
    "    print(f\"\\nPrésence de {col} par année :\")\n",
    "    print(yearly_counts)\n"
   ]
  },
  {
   "cell_type": "code",
   "execution_count": null,
   "id": "87527f13",
   "metadata": {},
   "outputs": [
    {
     "ename": "",
     "evalue": "",
     "output_type": "error",
     "traceback": [
      "\u001b[1;31mnotebook controller is DISPOSED. \n",
      "\u001b[1;31mPour plus d’informations, consultez Jupyter <a href='command:jupyter.viewOutput'>log</a>."
     ]
    }
   ],
   "source": [
    "## On comprend que 2023 est une année atypique au niveau de la variation cas de covid et décès, \n",
    "## Et on ne peut pas attester que ce soit grâce à la vaccination car on a trop peut de donnée vaccinale"
   ]
  },
  {
   "cell_type": "markdown",
   "id": "971e9f86",
   "metadata": {},
   "source": [
    "## Split sur l'année 2024 nouveau DataFrame"
   ]
  },
  {
   "cell_type": "code",
   "execution_count": null,
   "id": "e78c8046",
   "metadata": {},
   "outputs": [
    {
     "name": "stdout",
     "output_type": "stream",
     "text": [
      "Moyenne erreur pred et test : 0.8590334253880582\n",
      "Coefficient de qualité : 0.912194797657868\n"
     ]
    },
    {
     "ename": "",
     "evalue": "",
     "output_type": "error",
     "traceback": [
      "\u001b[1;31mnotebook controller is DISPOSED. \n",
      "\u001b[1;31mPour plus d’informations, consultez Jupyter <a href='command:jupyter.viewOutput'>log</a>."
     ]
    }
   ],
   "source": [
    "#filtrer sur 2024\n",
    "data_short = dataClean[(dataClean[\"date\"] >= \"2024-01-01\") & (dataClean[\"date\"] <= \"2024-12-31\")]\n",
    "# Puis tu refais X, y, split, etc. sur data_short\n",
    "\n",
    "X = data_short[[\n",
    "    \"total_cases\",\n",
    "    \"location_encoded\",\n",
    "    \"day\",\n",
    "    \"month\",\n",
    "    \"year\",\n",
    "    \"total_deaths\",\n",
    "    \"new_cases\",\n",
    "    \"days_since_start\",\n",
    "    \"new_cases_rolling7\",\n",
    "    \"trend_new_cases\",\n",
    "    \"epidemic_phase\"\n",
    "]]\n",
    "y = data_short[\"new_deaths\"]\n",
    "\n",
    "# Supprimer toutes les lignes où X ou y contient NaN\n",
    "Xy = pd.concat([X, y], axis=1)\n",
    "Xy = Xy.dropna()\n",
    "X = Xy[X.columns]\n",
    "y = Xy[y.name]\n",
    "\n",
    "X_train, X_test, y_train, y_test = train_test_split(X, y, test_size=0.2, random_state=42)\n",
    "\n",
    "model = RandomForestRegressor(random_state=42)\n",
    "model.fit(X_train, y_train)\n",
    "\n",
    "y_pred = model.predict(X_test)\n",
    "\n",
    "print(\"Moyenne erreur pred et test :\", mean_absolute_error(y_test, y_pred))\n",
    "print(\"Coefficient de qualité :\", r2_score(y_test, y_pred))"
   ]
  },
  {
   "cell_type": "code",
   "execution_count": null,
   "id": "ce5091a1",
   "metadata": {},
   "outputs": [
    {
     "name": "stdout",
     "output_type": "stream",
     "text": [
      "Erreur relative cas mondiaux année 2024 : 27.77%\n"
     ]
    },
    {
     "ename": "",
     "evalue": "",
     "output_type": "error",
     "traceback": [
      "\u001b[1;31mnotebook controller is DISPOSED. \n",
      "\u001b[1;31mPour plus d’informations, consultez Jupyter <a href='command:jupyter.viewOutput'>log</a>."
     ]
    }
   ],
   "source": [
    "mae = mean_absolute_error(y_test, y_pred)\n",
    "mean_real = y_test.mean()\n",
    "print(f\"Erreur relative cas mondiaux année 2024 : {mae/mean_real:.2%}\")"
   ]
  }
 ],
 "metadata": {
  "kernelspec": {
   "display_name": "Python (venv-ml)",
   "language": "python",
   "name": "venv-ml"
  },
  "language_info": {
   "codemirror_mode": {
    "name": "ipython",
    "version": 3
   },
   "file_extension": ".py",
   "mimetype": "text/x-python",
   "name": "python",
   "nbconvert_exporter": "python",
   "pygments_lexer": "ipython3",
   "version": "3.12.6"
  }
 },
 "nbformat": 4,
 "nbformat_minor": 5
}
