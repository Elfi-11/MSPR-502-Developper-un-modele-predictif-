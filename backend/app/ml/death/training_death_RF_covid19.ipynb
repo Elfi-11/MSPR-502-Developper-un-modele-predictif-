{
 "cells": [
  {
   "cell_type": "markdown",
   "id": "e4a61024",
   "metadata": {},
   "source": [
    "# 1. COLLECTED DATA\n",
    "Avaibility data quantity and quality control "
   ]
  },
  {
   "cell_type": "code",
   "execution_count": null,
   "id": "156b5135",
   "metadata": {},
   "outputs": [],
   "source": [
    "#Scikit-learn: a Python tool for data preprocessing, model training, and evaluation.\n",
    "from sklearn.preprocessing import LabelEncoder\n",
    "from sklearn.model_selection import train_test_split\n",
    "from sklearn.ensemble import RandomForestRegressor\n",
    "from sklearn.metrics import mean_absolute_error, mean_squared_error, r2_score\n",
    "import seaborn as sns\n",
    "import matplotlib.pyplot as plt\n",
    "import numpy as np\n",
    "import pandas as pd\n",
    "import missingno as msno\n",
    "import os\n",
    "\n",
    "# Use os for make a root\n",
    "data_path = os.path.join(\"..\", \"..\", \"..\", \"..\", \"backend\", \"data\", \"covid_processed.csv\")\n",
    "data = pd.read_csv(data_path, sep=',')\n",
    "\n",
    "data.head(10)"
   ]
  },
  {
   "cell_type": "markdown",
   "id": "08492af6",
   "metadata": {},
   "source": []
  },
  {
   "cell_type": "code",
   "execution_count": null,
   "id": "7b73f10c",
   "metadata": {},
   "outputs": [],
   "source": [
    "# Informations about data type and length\n",
    "data.info()"
   ]
  },
  {
   "cell_type": "code",
   "execution_count": null,
   "id": "e33570f4",
   "metadata": {},
   "outputs": [],
   "source": [
    "# Checking all the missing value in the data \n",
    "data.isnull().sum()"
   ]
  },
  {
   "cell_type": "code",
   "execution_count": null,
   "id": "f603baaa",
   "metadata": {},
   "outputs": [],
   "source": [
    "#comparatifvisualition on a diagram NaN values\n",
    "msno.bar(data) "
   ]
  },
  {
   "cell_type": "code",
   "execution_count": null,
   "id": "b70e4646",
   "metadata": {},
   "outputs": [],
   "source": [
    "# Drop column not usable\n",
    "dataClean = data.drop(columns=['icu_patients', 'hosp_patients', 'total_vaccinations', 'people_vaccinated'])"
   ]
  },
  {
   "cell_type": "code",
   "execution_count": null,
   "id": "3f6e7428",
   "metadata": {},
   "outputs": [],
   "source": [
    "dataClean.head()"
   ]
  },
  {
   "cell_type": "code",
   "execution_count": null,
   "id": "f97dbd78",
   "metadata": {},
   "outputs": [],
   "source": [
    "#comparatifvisualition on a diagram NaN values\n",
    "msno.bar(dataClean) "
   ]
  },
  {
   "cell_type": "code",
   "execution_count": null,
   "id": "6560fea4",
   "metadata": {},
   "outputs": [],
   "source": [
    "# percent of missingg or null values\n",
    "(dataClean.isnull().mean() * 100).sort_values(ascending=False)"
   ]
  },
  {
   "cell_type": "code",
   "execution_count": null,
   "id": "8477dc83",
   "metadata": {},
   "outputs": [],
   "source": [
    "# Encodage\n",
    "dataClean[\"date\"] = pd.to_datetime(dataClean[\"date\"], errors='coerce')\n",
    "\n",
    "dataClean[\"location_encoded\"] = LabelEncoder().fit_transform(dataClean[\"location\"])\n",
    "dataClean[\"day\"] = dataClean[\"date\"].dt.day\n",
    "dataClean[\"month\"] = dataClean[\"date\"].dt.month\n",
    "dataClean[\"year\"] = dataClean[\"date\"].dt.year\n",
    "\n",
    "# Phase 0 = épidémie \"classique\" ; Phase 1 = post-crise (baisse mortalité)\n",
    "dataClean[\"epidemic_phase\"] = dataClean[\"year\"].apply(lambda y: 0 if y <= 2022 else 1)\n",
    "\n",
    "\n",
    "X = dataClean[[\"total_cases\", \"location_encoded\", \"day\", \"month\", \"year\", \"total_deaths\", \"new_cases\", \"epidemic_phase\"]]\n",
    "y = dataClean[\"new_deaths\"]\n",
    "\n",
    "# Supprimer toutes les lignes où X ou y contient NaN\n",
    "Xy = pd.concat([X, y], axis=1)\n",
    "Xy = Xy.dropna()\n",
    "X = Xy[X.columns]\n",
    "y = Xy[y.name]"
   ]
  },
  {
   "cell_type": "code",
   "execution_count": null,
   "id": "996bbed0",
   "metadata": {},
   "outputs": [],
   "source": [
    "\n",
    "X_train, X_test, y_train, y_test = train_test_split(X, y, test_size=0.2, random_state=42)"
   ]
  },
  {
   "cell_type": "code",
   "execution_count": null,
   "id": "2ca45839",
   "metadata": {},
   "outputs": [],
   "source": [
    "model = RandomForestRegressor(random_state=42)\n",
    "model.fit(X_train, y_train)\n",
    "\n",
    "y_pred = model.predict(X_test)"
   ]
  },
  {
   "cell_type": "code",
   "execution_count": null,
   "id": "cd31066a",
   "metadata": {},
   "outputs": [],
   "source": [
    "print(\"Moyenne erreur pred et test :\", mean_absolute_error(y_test, y_pred))\n",
    "print(\"Coefficient de qualité :\", r2_score(y_test, y_pred))"
   ]
  },
  {
   "cell_type": "code",
   "execution_count": null,
   "id": "f5be97e3",
   "metadata": {},
   "outputs": [],
   "source": [
    "print(\"Importances des features :\", model.feature_importances_)"
   ]
  },
  {
   "cell_type": "code",
   "execution_count": null,
   "id": "5a526d39",
   "metadata": {},
   "outputs": [],
   "source": [
    "mae = mean_absolute_error(y_test, y_pred)\n",
    "mean_real = y_test.mean()\n",
    "print(f\"Erreur relative cas mondiaux : {mae/mean_real:.2%}\")"
   ]
  },
  {
   "cell_type": "markdown",
   "id": "12911e7d",
   "metadata": {},
   "source": [
    "## Split par date une semaine"
   ]
  },
  {
   "cell_type": "code",
   "execution_count": null,
   "id": "d7f2f402",
   "metadata": {},
   "outputs": [],
   "source": [
    "# Exemple pour filtrer sur une semaine\n",
    "data_short = dataClean[(dataClean[\"date\"] >= \"2021-01-01\") & (dataClean[\"date\"] <= \"2021-01-07\")]\n",
    "# Puis tu refais X, y, split, etc. sur data_short\n",
    "\n",
    "X = dataClean[[\"total_cases\", \"location_encoded\", \"day\", \"month\", \"year\", \"total_deaths\", \"new_cases\", \"epidemic_phase\"]]\n",
    "y = data_short[\"new_deaths\"]\n",
    "\n",
    "# Supprimer toutes les lignes où X ou y contient NaN\n",
    "Xy = pd.concat([X, y], axis=1)\n",
    "Xy = Xy.dropna()\n",
    "X = Xy[X.columns]\n",
    "y = Xy[y.name]\n",
    "\n",
    "X_train, X_test, y_train, y_test = train_test_split(X, y, test_size=0.2, random_state=42)\n",
    "y_train = y_train.loc[X_train.index]\n",
    "\n",
    "model = RandomForestRegressor(random_state=42)\n",
    "model.fit(X_train, y_train)\n",
    "\n",
    "y_pred = model.predict(X_test)\n",
    "\n",
    "print(\"Moyenne erreur pred et test :\", mean_absolute_error(y_test, y_pred))\n",
    "print(\"Coefficient de qualité :\", r2_score(y_test, y_pred))\n",
    "\n"
   ]
  },
  {
   "cell_type": "code",
   "execution_count": null,
   "id": "e1eb03b7",
   "metadata": {},
   "outputs": [],
   "source": [
    "mae = mean_absolute_error(y_test, y_pred)\n",
    "mean_real = y_test.mean()\n",
    "print(f\"Erreur relative cas mondiaux pour une semaine : {mae/mean_real:.2%}\")"
   ]
  },
  {
   "cell_type": "markdown",
   "id": "d5653814",
   "metadata": {},
   "source": [
    "## Split par date deux semaines"
   ]
  },
  {
   "cell_type": "code",
   "execution_count": null,
   "id": "22e4d947",
   "metadata": {},
   "outputs": [],
   "source": [
    "# Exemple pour filtrer sur une semaine\n",
    "data_short = dataClean[(dataClean[\"date\"] >= \"2021-01-01\") & (dataClean[\"date\"] <= \"2021-01-14\")]\n",
    "# Puis tu refais X, y, split, etc. sur data_short\n",
    "\n",
    "X = dataClean[[\"total_cases\", \"location_encoded\", \"day\", \"month\", \"year\", \"total_deaths\", \"new_cases\", \"epidemic_phase\"]]\n",
    "y = data_short[\"new_deaths\"]\n",
    "\n",
    "# Supprimer toutes les lignes où X ou y contient NaN\n",
    "Xy = pd.concat([X, y], axis=1)\n",
    "Xy = Xy.dropna()\n",
    "X = Xy[X.columns]\n",
    "y = Xy[y.name]\n",
    "\n",
    "X_train, X_test, y_train, y_test = train_test_split(X, y, test_size=0.2, random_state=42)\n",
    "y_train = y_train.loc[X_train.index]\n",
    "\n",
    "model = RandomForestRegressor(random_state=42)\n",
    "model.fit(X_train, y_train)\n",
    "\n",
    "y_pred = model.predict(X_test)\n",
    "\n",
    "print(\"Moyenne erreur pred et test :\", mean_absolute_error(y_test, y_pred))\n",
    "print(\"Coefficient de qualité :\", r2_score(y_test, y_pred))\n",
    "\n"
   ]
  },
  {
   "cell_type": "code",
   "execution_count": null,
   "id": "2cd411c1",
   "metadata": {},
   "outputs": [],
   "source": [
    "mae = mean_absolute_error(y_test, y_pred)\n",
    "mean_real = y_test.mean()\n",
    "print(f\"Erreur relative cas mondiaux pour deux semaines  : {mae/mean_real:.2%}\")"
   ]
  },
  {
   "cell_type": "markdown",
   "id": "be0a8cc7",
   "metadata": {},
   "source": [
    "## Split par date un mois"
   ]
  },
  {
   "cell_type": "code",
   "execution_count": null,
   "id": "c75ccfcf",
   "metadata": {},
   "outputs": [],
   "source": [
    "# Exemple pour filtrer sur une semaine\n",
    "data_short = dataClean[(dataClean[\"date\"] >= \"2021-01-01\") & (dataClean[\"date\"] <= \"2021-01-31\")]\n",
    "# Puis tu refais X, y, split, etc. sur data_short\n",
    "\n",
    "X = dataClean[[\"total_cases\", \"location_encoded\", \"day\", \"month\", \"year\", \"total_deaths\", \"new_cases\", \"epidemic_phase\"]]\n",
    "y = data_short[\"new_deaths\"]\n",
    "\n",
    "# Supprimer toutes les lignes où X ou y contient NaN\n",
    "Xy = pd.concat([X, y], axis=1)\n",
    "Xy = Xy.dropna()\n",
    "X = Xy[X.columns]\n",
    "y = Xy[y.name]\n",
    "\n",
    "X_train, X_test, y_train, y_test = train_test_split(X, y, test_size=0.2, random_state=42)\n",
    "y_train = y_train.loc[X_train.index]\n",
    "\n",
    "model = RandomForestRegressor(random_state=42)\n",
    "model.fit(X_train, y_train)\n",
    "\n",
    "y_pred = model.predict(X_test)\n",
    "\n",
    "print(\"Moyenne erreur pred et test :\", mean_absolute_error(y_test, y_pred))\n",
    "print(\"Coefficient de qualité :\", r2_score(y_test, y_pred))\n",
    "\n"
   ]
  },
  {
   "cell_type": "code",
   "execution_count": null,
   "id": "cb63f8e8",
   "metadata": {},
   "outputs": [],
   "source": [
    "mae = mean_absolute_error(y_test, y_pred)\n",
    "mean_real = y_test.mean()\n",
    "print(f\"Erreur relative pour un mois : {mae/mean_real:.2%}\")"
   ]
  },
  {
   "cell_type": "code",
   "execution_count": null,
   "id": "7fd27b52",
   "metadata": {},
   "outputs": [],
   "source": [
    "dataClean['location'].value_counts().head(20)"
   ]
  },
  {
   "cell_type": "markdown",
   "id": "aa884acc",
   "metadata": {},
   "source": [
    "## Split par date cas mondiaux "
   ]
  },
  {
   "cell_type": "code",
   "execution_count": null,
   "id": "d106382b",
   "metadata": {},
   "outputs": [],
   "source": [
    "# Exemple pour filtrer sur une semaine\n",
    "data_short = dataClean[(dataClean[\"date\"] >= \"2021-01-01\") & (dataClean[\"date\"] <= \"2021-01-07\")]\n",
    "# Puis tu refais X, y, split, etc. sur data_short\n",
    "\n",
    "X = dataClean[[\"total_cases\", \"location_encoded\", \"day\", \"month\", \"year\", \"total_deaths\", \"new_cases\", \"epidemic_phase\"]]\n",
    "y = data_short[\"new_deaths\"]\n",
    "\n",
    "# Supprimer toutes les lignes où X ou y contient NaN\n",
    "Xy = pd.concat([X, y], axis=1)\n",
    "Xy = Xy.dropna()\n",
    "X = Xy[X.columns]\n",
    "y = Xy[y.name]\n",
    "\n",
    "X_train, X_test, y_train, y_test = train_test_split(X, y, test_size=0.2, random_state=42)\n",
    "y_train = y_train.loc[X_train.index]\n",
    "\n",
    "model = RandomForestRegressor(random_state=42)\n",
    "model.fit(X_train, y_train)\n",
    "\n",
    "y_pred = model.predict(X_test)\n",
    "\n",
    "print(\"Moyenne erreur pred et test :\", mean_absolute_error(y_test, y_pred))\n",
    "print(\"Coefficient de qualité :\", r2_score(y_test, y_pred))\n"
   ]
  },
  {
   "cell_type": "code",
   "execution_count": null,
   "id": "65437259",
   "metadata": {},
   "outputs": [],
   "source": [
    "print(\"Moyenne des décès réels :\", y_test.mean())\n",
    "print(\"Médiane des décès réels :\", y_test.median())"
   ]
  },
  {
   "cell_type": "code",
   "execution_count": null,
   "id": "a4fc57cc",
   "metadata": {},
   "outputs": [],
   "source": [
    "mae = mean_absolute_error(y_test, y_pred)\n",
    "mean_real = y_test.mean()\n",
    "print(f\"Erreur relative split par date cas mondiaux 7 jours janvier 2021 : {mae/mean_real:.2%}\")"
   ]
  },
  {
   "cell_type": "markdown",
   "id": "8d3dfdc8",
   "metadata": {},
   "source": [
    "## Exprimer au modèle la tendance ascendante et descandante des varations"
   ]
  },
  {
   "cell_type": "code",
   "execution_count": null,
   "id": "1e1a8805",
   "metadata": {},
   "outputs": [],
   "source": [
    "# Ajouter features pour apprendre au modèle l'indicateur des tendances de variations éppidémique\n",
    "dataClean['days_since_start'] = (dataClean['date'] - dataClean['date'].min()).dt.days\n",
    "dataClean['new_cases_rolling7'] = dataClean['new_cases'].rolling(window=7).mean()\n",
    "dataClean['trend_new_cases'] = dataClean['new_cases'].diff(periods=7)"
   ]
  },
  {
   "cell_type": "code",
   "execution_count": null,
   "id": "fd16953a",
   "metadata": {},
   "outputs": [],
   "source": [
    "# Ajoute les nouvelles colonnes dans X\n",
    "X = dataClean[[\n",
    "    \"total_cases\",\n",
    "    \"location_encoded\",\n",
    "    \"day\",\n",
    "    \"month\",\n",
    "    \"year\",\n",
    "    \"total_deaths\",\n",
    "    \"new_cases\",\n",
    "    \"days_since_start\",\n",
    "    \"new_cases_rolling7\",\n",
    "    \"trend_new_cases\", \n",
    "    \"epidemic_phase\"\n",
    "]]\n",
    "\n",
    "\n",
    "# Supprimer toutes les lignes où X ou y contient NaN (important à cause des rolling/diff)\n",
    "Xy = pd.concat([X, y], axis=1)\n",
    "Xy = Xy.dropna()\n",
    "X = Xy[X.columns]\n",
    "y = Xy[y.name]\n",
    "\n",
    "# Split, entraînement et prédiction comme avant\n",
    "X_train, X_test, y_train, y_test = train_test_split(X, y, test_size=0.2, random_state=42)\n",
    "model = RandomForestRegressor(random_state=42)\n",
    "model.fit(X_train, y_train)\n",
    "y_pred = model.predict(X_test)\n",
    "\n",
    "print(\"Moyenne erreur pred et test :\", mean_absolute_error(y_test, y_pred))\n",
    "print(\"Coefficient de qualité :\", r2_score(y_test, y_pred))"
   ]
  },
  {
   "cell_type": "code",
   "execution_count": null,
   "id": "48a6b6aa",
   "metadata": {},
   "outputs": [],
   "source": [
    "print(\"Moyenne des décès réels :\", y_test.mean())\n",
    "print(\"Médiane des décès réels :\", y_test.median())"
   ]
  },
  {
   "cell_type": "code",
   "execution_count": null,
   "id": "e8d6f9eb",
   "metadata": {},
   "outputs": [],
   "source": [
    "mae = mean_absolute_error(y_test, y_pred)\n",
    "mean_real = y_test.mean()\n",
    "print(f\"Erreur relative cas mondiaux avec nouvelles features : {mae/mean_real:.2%}\")"
   ]
  },
  {
   "cell_type": "markdown",
   "id": "6f7a2ef5",
   "metadata": {},
   "source": [
    "## Split par date une semaine nouvelles features"
   ]
  },
  {
   "cell_type": "code",
   "execution_count": null,
   "id": "2b0dafe0",
   "metadata": {},
   "outputs": [],
   "source": [
    "# Exemple pour filtrer sur une semaine\n",
    "data_short = dataClean[(dataClean[\"date\"] >= \"2021-01-01\") & (dataClean[\"date\"] <= \"2021-01-07\")]\n",
    "# Puis tu refais X, y, split, etc. sur data_short\n",
    "\n",
    "X = dataClean[[\n",
    "    \"total_cases\",\n",
    "    \"location_encoded\",\n",
    "    \"day\",\n",
    "    \"month\",\n",
    "    \"year\",\n",
    "    \"total_deaths\",\n",
    "    \"new_cases\",\n",
    "    \"days_since_start\",\n",
    "    \"new_cases_rolling7\",\n",
    "    \"trend_new_cases\", \n",
    "    \"epidemic_phase\"\n",
    "]]\n",
    "y = data_short[\"new_deaths\"]\n",
    "\n",
    "# Supprimer toutes les lignes où X ou y contient NaN\n",
    "Xy = pd.concat([X, y], axis=1)\n",
    "Xy = Xy.dropna()\n",
    "X = Xy[X.columns]\n",
    "y = Xy[y.name]\n",
    "\n",
    "X_train, X_test, y_train, y_test = train_test_split(X, y, test_size=0.2, random_state=42)\n",
    "y_train = y_train.loc[X_train.index]\n",
    "\n",
    "model = RandomForestRegressor(random_state=42)\n",
    "model.fit(X_train, y_train)\n",
    "\n",
    "y_pred = model.predict(X_test)\n",
    "\n",
    "print(\"Moyenne erreur pred et test :\", mean_absolute_error(y_test, y_pred))\n",
    "print(\"Coefficient de qualité :\", r2_score(y_test, y_pred))\n",
    "\n"
   ]
  },
  {
   "cell_type": "code",
   "execution_count": null,
   "id": "b1fecdfd",
   "metadata": {},
   "outputs": [],
   "source": [
    "mae = mean_absolute_error(y_test, y_pred)\n",
    "mean_real = y_test.mean()\n",
    "print(f\"Erreur relative cas mondiaux avec nouvelles features : {mae/mean_real:.2%}\")"
   ]
  },
  {
   "cell_type": "markdown",
   "id": "0cd730a2",
   "metadata": {},
   "source": [
    "## Split par date deux semaines nouveau DataFrame"
   ]
  },
  {
   "cell_type": "code",
   "execution_count": null,
   "id": "b6289078",
   "metadata": {},
   "outputs": [],
   "source": [
    "# Exemple pour filtrer sur une semaine\n",
    "data_short = dataClean[(dataClean[\"date\"] >= \"2021-01-01\") & (dataClean[\"date\"] <= \"2021-01-14\")]\n",
    "# Puis tu refais X, y, split, etc. sur data_short\n",
    "\n",
    "X = dataClean[[\n",
    "    \"total_cases\",\n",
    "    \"location_encoded\",\n",
    "    \"day\",\n",
    "    \"month\",\n",
    "    \"year\",\n",
    "    \"total_deaths\",\n",
    "    \"new_cases\",\n",
    "    \"days_since_start\",\n",
    "    \"new_cases_rolling7\",\n",
    "    \"trend_new_cases\", \n",
    "    \"epidemic_phase\"\n",
    "]]\n",
    "y = data_short[\"new_deaths\"]\n",
    "\n",
    "# Supprimer toutes les lignes où X ou y contient NaN\n",
    "Xy = pd.concat([X, y], axis=1)\n",
    "Xy = Xy.dropna()\n",
    "X = Xy[X.columns]\n",
    "y = Xy[y.name]\n",
    "\n",
    "X_train, X_test, y_train, y_test = train_test_split(X, y, test_size=0.2, random_state=42)\n",
    "y_train = y_train.loc[X_train.index]\n",
    "\n",
    "model = RandomForestRegressor(random_state=42)\n",
    "model.fit(X_train, y_train)\n",
    "\n",
    "y_pred = model.predict(X_test)\n",
    "\n",
    "print(\"Moyenne erreur pred et test :\", mean_absolute_error(y_test, y_pred))\n",
    "print(\"Coefficient de qualité :\", r2_score(y_test, y_pred))\n",
    "\n"
   ]
  },
  {
   "cell_type": "code",
   "execution_count": null,
   "id": "618a8112",
   "metadata": {},
   "outputs": [],
   "source": [
    "mae = mean_absolute_error(y_test, y_pred)\n",
    "mean_real = y_test.mean()\n",
    "print(f\"Erreur relative cas mondiaux avec nouvelles features : {mae/mean_real:.2%}\")"
   ]
  },
  {
   "cell_type": "markdown",
   "id": "cae3f410",
   "metadata": {},
   "source": [
    "## Split par date 1 mois nouveau DataFrame"
   ]
  },
  {
   "cell_type": "code",
   "execution_count": null,
   "id": "0dc0cb56",
   "metadata": {},
   "outputs": [],
   "source": [
    "# Exemple pour filtrer sur une semaine\n",
    "data_short = dataClean[(dataClean[\"date\"] >= \"2021-01-01\") & (dataClean[\"date\"] <= \"2021-02-01\")]\n",
    "# Puis tu refais X, y, split, etc. sur data_short\n",
    "\n",
    "X = dataClean[[\n",
    "    \"total_cases\",\n",
    "    \"location_encoded\",\n",
    "    \"day\",\n",
    "    \"month\",\n",
    "    \"year\",\n",
    "    \"total_deaths\",\n",
    "    \"new_cases\",\n",
    "    \"days_since_start\",\n",
    "    \"new_cases_rolling7\",\n",
    "    \"trend_new_cases\", \n",
    "    \"epidemic_phase\"\n",
    "]]\n",
    "y = data_short[\"new_deaths\"]\n",
    "\n",
    "# Supprimer toutes les lignes où X ou y contient NaN\n",
    "Xy = pd.concat([X, y], axis=1)\n",
    "Xy = Xy.dropna()\n",
    "X = Xy[X.columns]\n",
    "y = Xy[y.name]\n",
    "\n",
    "X_train, X_test, y_train, y_test = train_test_split(X, y, test_size=0.2, random_state=42)\n",
    "y_train = y_train.loc[X_train.index]\n",
    "\n",
    "model = RandomForestRegressor(random_state=42)\n",
    "model.fit(X_train, y_train)\n",
    "\n",
    "y_pred = model.predict(X_test)\n",
    "\n",
    "print(\"Moyenne erreur pred et test :\", mean_absolute_error(y_test, y_pred))\n",
    "print(\"Coefficient de qualité :\", r2_score(y_test, y_pred))\n",
    "\n"
   ]
  },
  {
   "cell_type": "code",
   "execution_count": null,
   "id": "44971f3c",
   "metadata": {},
   "outputs": [],
   "source": [
    "mae = mean_absolute_error(y_test, y_pred)\n",
    "mean_real = y_test.mean()\n",
    "print(f\"Erreur relative cas mondiaux avec nouvelles features : {mae/mean_real:.2%}\")"
   ]
  },
  {
   "cell_type": "markdown",
   "id": "c20627a4",
   "metadata": {},
   "source": [
    "## Split année 2021"
   ]
  },
  {
   "cell_type": "code",
   "execution_count": null,
   "id": "47a407e7",
   "metadata": {},
   "outputs": [],
   "source": [
    "\n",
    "# Exemple pour filtrer sur une semaine\n",
    "data_short = dataClean[(dataClean[\"date\"] >= \"2021-01-01\") & (dataClean[\"date\"] <= \"2021-01-14\")]\n",
    "# Puis tu refais X, y, split, etc. sur data_short\n",
    "\n",
    "X = dataClean[[\n",
    "    \"total_cases\",\n",
    "    \"location_encoded\",\n",
    "    \"day\",\n",
    "    \"month\",\n",
    "    \"year\",\n",
    "    \"total_deaths\",\n",
    "    \"new_cases\",\n",
    "    \"days_since_start\",\n",
    "    \"new_cases_rolling7\",\n",
    "    \"trend_new_cases\", \n",
    "    \"epidemic_phase\"\n",
    "]]\n",
    "y = data_short[\"new_deaths\"]\n",
    "\n",
    "# Supprimer toutes les lignes où X ou y contient NaN\n",
    "Xy = pd.concat([X, y], axis=1)\n",
    "Xy = Xy.dropna()\n",
    "X = Xy[X.columns]\n",
    "y = Xy[y.name]\n",
    "\n",
    "X_train, X_test, y_train, y_test = train_test_split(X, y, test_size=0.2, random_state=42)\n",
    "y_train = y_train.loc[X_train.index]\n",
    "\n",
    "model = RandomForestRegressor(random_state=42)\n",
    "model.fit(X_train, y_train)\n",
    "\n",
    "y_pred = model.predict(X_test)\n",
    "\n",
    "print(\"Moyenne erreur pred et test :\", mean_absolute_error(y_test, y_pred))\n",
    "print(\"Coefficient de qualité :\", r2_score(y_test, y_pred))\n",
    "\n"
   ]
  },
  {
   "cell_type": "code",
   "execution_count": null,
   "id": "baa29235",
   "metadata": {},
   "outputs": [],
   "source": [
    "\n",
    "mae = mean_absolute_error(y_test, y_pred)\n",
    "mean_real = y_test.mean()\n",
    "print(f\"Erreur relative cas mondiaux avec nouvelles features année 2021 : {mae/mean_real:.2%}\")"
   ]
  },
  {
   "cell_type": "code",
   "execution_count": null,
   "id": "cb4a397f",
   "metadata": {},
   "outputs": [],
   "source": [
    "# Analyse sur les 3 mois avec le plus de décès\n",
    "\n",
    "dataClean['month_year'] = dataClean['date'].dt.to_period('M')\n",
    "top_months = dataClean.groupby('month_year')['new_deaths'].sum().sort_values(ascending=False).head(3).index\n",
    "\n",
    "for period in top_months:\n",
    "    start = period.start_time\n",
    "    end = period.end_time\n",
    "    data_short = dataClean[(dataClean[\"date\"] >= start) & (dataClean[\"date\"] <= end)]\n",
    "\n",
    "    X = data_short[[\n",
    "        \"total_cases\", \"location_encoded\", \"day\", \"month\", \"year\",\n",
    "        \"total_deaths\", \"new_cases\", \"days_since_start\", \"new_cases_rolling7\", \"trend_new_cases\", \"epidemic_phase\"\n",
    "    ]]\n",
    "    y = data_short[\"new_deaths\"]\n",
    "\n",
    "    Xy = pd.concat([X, y], axis=1).dropna()\n",
    "    X = Xy[X.columns]\n",
    "    y = Xy[y.name]\n",
    "\n",
    "    if len(X) > 0 and len(y.unique()) > 1:\n",
    "        X_train, X_test, y_train, y_test = train_test_split(X, y, test_size=0.2, random_state=42)\n",
    "        model = RandomForestRegressor(random_state=42)\n",
    "        model.fit(X_train, y_train)\n",
    "        y_pred = model.predict(X_test)\n",
    "        print(f\"\\nPériode : {period}\")\n",
    "        print(\"Moyenne erreur pred et test :\", mean_absolute_error(y_test, y_pred))\n",
    "        print(\"Coefficient de qualité :\", r2_score(y_test, y_pred))\n",
    "        print(f\"Erreur relative : {mean_absolute_error(y_test, y_pred)/y_test.mean():.2%}\")\n",
    "    else:\n",
    "        print(f\"\\nPériode : {period} -- Pas assez de données pour entraîner le modèle.\")"
   ]
  },
  {
   "cell_type": "markdown",
   "id": "846e4c82",
   "metadata": {},
   "source": [
    "## Split sur l'année 2022 nouveau DataFrame"
   ]
  },
  {
   "cell_type": "code",
   "execution_count": 39,
   "id": "930a263c",
   "metadata": {},
   "outputs": [
    {
     "name": "stdout",
     "output_type": "stream",
     "text": [
      "Moyenne erreur pred et test : 10.745907090736923\n",
      "Coefficient de qualité : 0.9576746152270582\n",
      "Erreur relative cas mondiaux avec nouvelles features année 2022 : 21.50%\n"
     ]
    }
   ],
   "source": [
    "#filtrer sur 2022\n",
    "data_short = dataClean[(dataClean[\"date\"] >= \"2022-01-01\") & (dataClean[\"date\"] <= \"2022-12-31\")]\n",
    "# Puis tu refais X, y, split, etc. sur data_short\n",
    "\n",
    "X = data_short[[\n",
    "    \"total_cases\",\n",
    "    \"location_encoded\",\n",
    "    \"day\",\n",
    "    \"month\",\n",
    "    \"year\",\n",
    "    \"total_deaths\",\n",
    "    \"new_cases\",\n",
    "    \"days_since_start\",\n",
    "    \"new_cases_rolling7\",\n",
    "    \"trend_new_cases\",\n",
    "    \"epidemic_phase\"\n",
    "]]\n",
    "y = data_short[\"new_deaths\"]\n",
    "\n",
    "# Supprimer toutes les lignes où X ou y contient NaN\n",
    "Xy = pd.concat([X, y], axis=1)\n",
    "Xy = Xy.dropna()\n",
    "X = Xy[X.columns]\n",
    "y = Xy[y.name]\n",
    "\n",
    "X_train, X_test, y_train, y_test = train_test_split(X, y, test_size=0.2, random_state=42)\n",
    "y_train = y_train.loc[X_train.index]\n",
    "\n",
    "model = RandomForestRegressor(random_state=42)\n",
    "model.fit(X_train, y_train)\n",
    "\n",
    "y_pred = model.predict(X_test)\n",
    "\n",
    "print(\"Moyenne erreur pred et test :\", mean_absolute_error(y_test, y_pred))\n",
    "print(\"Coefficient de qualité :\", r2_score(y_test, y_pred))\n",
    "\n",
    "\n",
    "\n",
    "mae = mean_absolute_error(y_test, y_pred)\n",
    "mean_real = y_test.mean()\n",
    "print(f\"Erreur relative cas mondiaux avec nouvelles features année 2022 : {mae/mean_real:.2%}\")"
   ]
  },
  {
   "cell_type": "markdown",
   "id": "ef8abd3d",
   "metadata": {},
   "source": [
    "## Split sur l'année 2023 nouveau DataFrame"
   ]
  },
  {
   "cell_type": "code",
   "execution_count": 40,
   "id": "96a17e14",
   "metadata": {},
   "outputs": [
    {
     "name": "stdout",
     "output_type": "stream",
     "text": [
      "Moyenne erreur pred et test : 7.266508739391895\n",
      "Coefficient de qualité : 0.7317033223809807\n",
      "Erreur relative  cas mondiaux année 2023 : 48.66%\n"
     ]
    }
   ],
   "source": [
    "#filtrer sur 2023\n",
    "data_short = dataClean[(dataClean[\"date\"] >= \"2023-01-01\") & (dataClean[\"date\"] <= \"2023-12-31\")]\n",
    "# Puis tu refais X, y, split, etc. sur data_short\n",
    "\n",
    "X = data_short[[\n",
    "    \"total_cases\",\n",
    "    \"location_encoded\",\n",
    "    \"day\",\n",
    "    \"month\",\n",
    "    \"year\",\n",
    "    \"total_deaths\",\n",
    "    \"new_cases\",\n",
    "    \"days_since_start\",\n",
    "    \"new_cases_rolling7\",\n",
    "    \"trend_new_cases\",\n",
    "    \"epidemic_phase\"\n",
    "]]\n",
    "y = data_short[\"new_deaths\"]\n",
    "\n",
    "# Supprimer toutes les lignes où X ou y contient NaN\n",
    "Xy = pd.concat([X, y], axis=1)\n",
    "Xy = Xy.dropna()\n",
    "X = Xy[X.columns]\n",
    "y = Xy[y.name]\n",
    "\n",
    "X_train, X_test, y_train, y_test = train_test_split(X, y, test_size=0.2, random_state=42)\n",
    "y_train = y_train.loc[X_train.index]\n",
    "\n",
    "model = RandomForestRegressor(random_state=42)\n",
    "model.fit(X_train, y_train)\n",
    "\n",
    "y_pred = model.predict(X_test)\n",
    "\n",
    "print(\"Moyenne erreur pred et test :\", mean_absolute_error(y_test, y_pred))\n",
    "print(\"Coefficient de qualité :\", r2_score(y_test, y_pred))\n",
    "\n",
    "\n",
    "\n",
    "mae = mean_absolute_error(y_test, y_pred)\n",
    "mean_real = y_test.mean()\n",
    "print(f\"Erreur relative  cas mondiaux année 2023 : {mae/mean_real:.2%}\")"
   ]
  },
  {
   "cell_type": "code",
   "execution_count": 41,
   "id": "91d2caf8",
   "metadata": {},
   "outputs": [
    {
     "name": "stdout",
     "output_type": "stream",
     "text": [
      "Première date 2023 : 2023-01-01 00:00:00\n",
      "Dernière date 2023 : 2023-12-31 00:00:00\n",
      "Nombre de jours de données en 2023 : 365\n"
     ]
    }
   ],
   "source": [
    "# Afficher la première et la dernière date de 2023 dans les données pour vérifier \n",
    "# si elles couvrent bien l'année complète\n",
    "dates_2023 = dataClean[dataClean[\"year\"] == 2023][\"date\"]\n",
    "print(\"Première date 2023 :\", dates_2023.min())\n",
    "print(\"Dernière date 2023 :\", dates_2023.max())\n",
    "print(\"Nombre de jours de données en 2023 :\", dates_2023.nunique())"
   ]
  },
  {
   "cell_type": "code",
   "execution_count": 42,
   "id": "792ab63e",
   "metadata": {},
   "outputs": [
    {
     "name": "stdout",
     "output_type": "stream",
     "text": [
      "year\n",
      "2020    88777\n",
      "2021    89781\n",
      "2022    89764\n",
      "2023    88964\n",
      "2024    52504\n",
      "dtype: int64\n"
     ]
    }
   ],
   "source": [
    "# Vérifier l'équilibrage des données par année pour essayer de comprendre \n",
    "# L'erreur relative de l'année 2023\n",
    "features = [\n",
    "    \"total_cases\",\n",
    "    \"location_encoded\",\n",
    "    \"day\",\n",
    "    \"month\",\n",
    "    \"year\",\n",
    "    \"total_deaths\",\n",
    "    \"new_cases\",\n",
    "    \"days_since_start\",\n",
    "    \"new_cases_rolling7\",\n",
    "    \"trend_new_cases\",\n",
    "    \"epidemic_phase\"\n",
    "]\n",
    "\n",
    "target = \"new_deaths\"\n",
    "\n",
    "# Supprimer les lignes où une des colonnes est NaN\n",
    "data_filtered = dataClean[features + [target]].dropna()\n",
    "\n",
    "# Ajouter une colonne 'year' si elle n'existe pas encore\n",
    "if 'year' not in data_filtered.columns:\n",
    "    data_filtered['year'] = pd.to_datetime(dataClean['date']).dt.year\n",
    "\n",
    "# Compter le nombre de lignes par année\n",
    "volume_par_annee = data_filtered.groupby('year').size()\n",
    "print(volume_par_annee)\n"
   ]
  },
  {
   "cell_type": "code",
   "execution_count": 43,
   "id": "085b1c7d",
   "metadata": {},
   "outputs": [
    {
     "data": {
      "image/png": "[encoded data removed]",
      "text/plain": [
       "<Figure size 640x480 with 1 Axes>"
      ]
     },
     "metadata": {},
     "output_type": "display_data"
    },
    {
     "data": {
      "image/png": "[encoded data removed]",
      "text/plain": [
       "<Figure size 640x480 with 1 Axes>"
      ]
     },
     "metadata": {},
     "output_type": "display_data"
    },
    {
     "data": {
      "image/png": "[encoded data removed]",
      "text/plain": [
       "<Figure size 640x480 with 1 Axes>"
      ]
     },
     "metadata": {},
     "output_type": "display_data"
    }
   ],
   "source": [
    "# Matrice pour vérfier les distributions de ces trois colonnes par année\n",
    "for col in [\"new_cases\", \"new_deaths\", \"trend_new_cases\"]:\n",
    "    sns.boxplot(data=dataClean, x=dataClean['year'], y=col)\n",
    "    plt.title(f\"Distribution de {col} par année\")\n",
    "    plt.show()"
   ]
  },
  {
   "cell_type": "code",
   "execution_count": 44,
   "id": "ff675c45",
   "metadata": {},
   "outputs": [
    {
     "name": "stdout",
     "output_type": "stream",
     "text": [
      "\n",
      "Présence de total_vaccinations par année :\n",
      "year\n",
      "2020      379\n",
      "2021    38490\n",
      "2022    29708\n",
      "2023    13084\n",
      "2024     3756\n",
      "Name: total_vaccinations, dtype: int64\n",
      "\n",
      "Présence de people_vaccinated par année :\n",
      "year\n",
      "2020      373\n",
      "2021    36777\n",
      "2022    28300\n",
      "2023    12314\n",
      "2024     3368\n",
      "Name: people_vaccinated, dtype: int64\n"
     ]
    }
   ],
   "source": [
    "vacc_cols = [\"total_vaccinations\", \"people_vaccinated\"]\n",
    "\n",
    "for col in vacc_cols:\n",
    "    data['year'] = pd.to_datetime(data['date']).dt.year\n",
    "    yearly_counts = data[data[col].notna()].groupby(\"year\")[col].count()\n",
    "    print(f\"\\nPrésence de {col} par année :\")\n",
    "    print(yearly_counts)\n"
   ]
  },
  {
   "cell_type": "code",
   "execution_count": 45,
   "id": "87527f13",
   "metadata": {},
   "outputs": [],
   "source": [
    "## On comprend que 2023 est une année atypique au niveau de la variation cas de covid et décès, \n",
    "## Et on ne peut pas attester que ce soit grâce à la vaccination car on a trop peut de donnée vaccinale"
   ]
  },
  {
   "cell_type": "markdown",
   "id": "971e9f86",
   "metadata": {},
   "source": [
    "## Split sur l'année 2024 nouveau DataFrame"
   ]
  },
  {
   "cell_type": "code",
   "execution_count": 46,
   "id": "e78c8046",
   "metadata": {},
   "outputs": [
    {
     "name": "stdout",
     "output_type": "stream",
     "text": [
      "Moyenne erreur pred et test : 0.8590334253880582\n",
      "Coefficient de qualité : 0.912194797657868\n"
     ]
    }
   ],
   "source": [
    "#filtrer sur 2024\n",
    "data_short = dataClean[(dataClean[\"date\"] >= \"2024-01-01\") & (dataClean[\"date\"] <= \"2024-12-31\")]\n",
    "# Puis tu refais X, y, split, etc. sur data_short\n",
    "\n",
    "X = data_short[[\n",
    "    \"total_cases\",\n",
    "    \"location_encoded\",\n",
    "    \"day\",\n",
    "    \"month\",\n",
    "    \"year\",\n",
    "    \"total_deaths\",\n",
    "    \"new_cases\",\n",
    "    \"days_since_start\",\n",
    "    \"new_cases_rolling7\",\n",
    "    \"trend_new_cases\",\n",
    "    \"epidemic_phase\"\n",
    "]]\n",
    "y = data_short[\"new_deaths\"]\n",
    "\n",
    "# Supprimer toutes les lignes où X ou y contient NaN\n",
    "Xy = pd.concat([X, y], axis=1)\n",
    "Xy = Xy.dropna()\n",
    "X = Xy[X.columns]\n",
    "y = Xy[y.name]\n",
    "\n",
    "X_train, X_test, y_train, y_test = train_test_split(X, y, test_size=0.2, random_state=42)\n",
    "\n",
    "model = RandomForestRegressor(random_state=42)\n",
    "model.fit(X_train, y_train)\n",
    "\n",
    "y_pred = model.predict(X_test)\n",
    "\n",
    "print(\"Moyenne erreur pred et test :\", mean_absolute_error(y_test, y_pred))\n",
    "print(\"Coefficient de qualité :\", r2_score(y_test, y_pred))"
   ]
  },
  {
   "cell_type": "code",
   "execution_count": 47,
   "id": "ce5091a1",
   "metadata": {},
   "outputs": [
    {
     "name": "stdout",
     "output_type": "stream",
     "text": [
      "Erreur relative cas mondiaux année 2024 : 27.77%\n"
     ]
    }
   ],
   "source": [
    "mae = mean_absolute_error(y_test, y_pred)\n",
    "mean_real = y_test.mean()\n",
    "print(f\"Erreur relative cas mondiaux année 2024 : {mae/mean_real:.2%}\")"
   ]
  }
 ],
 "metadata": {
  "kernelspec": {
   "display_name": "venv-ml",
   "language": "python",
   "name": "python3"
  },
  "language_info": {
   "codemirror_mode": {
    "name": "ipython",
    "version": 3
   },
   "file_extension": ".py",
   "mimetype": "text/x-python",
   "name": "python",
   "nbconvert_exporter": "python",
   "pygments_lexer": "ipython3",
   "version": "3.12.6"
  }
 },
 "nbformat": 4,
 "nbformat_minor": 5
}
